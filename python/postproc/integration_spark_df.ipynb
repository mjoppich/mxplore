{
 "cells": [
  {
   "cell_type": "code",
   "execution_count": 1,
   "metadata": {},
   "outputs": [],
   "source": [
    "import os\n",
    "os.environ[\"JAVA_HOME\"] = \"/mnt/extproj/projekte/textmining/jdk/openlogic-openjdk-11.0.22+7-linux-x64\"\n"
   ]
  },
  {
   "cell_type": "code",
   "execution_count": 2,
   "metadata": {},
   "outputs": [],
   "source": [
    "from collections import defaultdict\n",
    "from pyspark.sql import SparkSession\n",
    "\n",
    "from pyspark.sql.functions import *\n",
    "from pyspark.sql.types import *\n",
    "\n",
    "from pyspark.sql import Window\n"
   ]
  },
  {
   "cell_type": "code",
   "execution_count": 3,
   "metadata": {},
   "outputs": [
    {
     "name": "stdout",
     "output_type": "stream",
     "text": [
      "Creating builder\n"
     ]
    },
    {
     "name": "stderr",
     "output_type": "stream",
     "text": [
      "/mnt/extproj/projekte/bartelt/software/miniconda3/envs/mirexplore/lib/python3.6/site-packages/pyspark/context.py:238: FutureWarning: Python 3.6 support is deprecated in Spark 3.2.\n",
      "  FutureWarning\n"
     ]
    }
   ],
   "source": [
    "if not \"spark\" in globals() or spark is None:\n",
    "    print(\"Creating builder\")\n",
    "    spark = SparkSession.builder.\\\n",
    "            config(\"spark.executor.memory\", \"70g\").\\\n",
    "            config(\"spark.driver.memory\", \"50g\").\\\n",
    "            config(\"spark.memory.offHeap.enabled\",True).\\\n",
    "            config(\"spark.memory.offHeap.size\",\"16g\").\\\n",
    "            config(\"spark.sql.shuffle.partitions\", 300).\\\n",
    "            appName('mirexplore').getOrCreate()\n",
    "    \n",
    "#spark.conf.set(\"spark.executor.memory\", \"70g\")\n",
    "#spark.conf.set(\"spark.driver.memory\", \"50g\")\n",
    "#spark.conf.set(\"spark.memory.offHeap.enabled\",True)\n",
    "#spark.conf.set(\"spark.memory.offHeap.size\",\"16g\")  \n",
    "#spark.conf.set(\"spark.sql.shuffle.partitions\", 300)"
   ]
  },
  {
   "cell_type": "code",
   "execution_count": null,
   "metadata": {},
   "outputs": [],
   "source": [
    "df_int = spark.read.parquet(\"/mnt/extproj/projekte/textmining/mx_feb24/mx_mirna_gene_consensus_parquet/\")"
   ]
  },
  {
   "cell_type": "code",
   "execution_count": null,
   "metadata": {},
   "outputs": [],
   "source": [
    "df_ann = spark.read.parquet(\"/mnt/extproj/projekte/textmining/mx_feb24/mx_document_annotations/\")"
   ]
  },
  {
   "cell_type": "code",
   "execution_count": null,
   "metadata": {},
   "outputs": [],
   "source": [
    "df_int.show(n=5)"
   ]
  },
  {
   "cell_type": "code",
   "execution_count": null,
   "metadata": {},
   "outputs": [],
   "source": [
    "df_ann.show(n=5)"
   ]
  },
  {
   "cell_type": "code",
   "execution_count": null,
   "metadata": {},
   "outputs": [],
   "source": [
    "df_int.filter(col(\"gene_family\") == \"CCL2\")"
   ]
  },
  {
   "cell_type": "code",
   "execution_count": null,
   "metadata": {},
   "outputs": [],
   "source": [
    "df_int.withColumn(\"doc_id\", explode(\"evidence_documents\")).orderBy(\"evidence_count\", ascending=False).join(other=df_ann, on=\"doc_id\").show()"
   ]
  },
  {
   "cell_type": "code",
   "execution_count": null,
   "metadata": {},
   "outputs": [],
   "source": [
    "df_int.write.parquet(\"/mnt/extproj/projekte/textmining/mx_feb24/mx_mirna_gene_annotated_parquet\", mode=\"overwrite\")"
   ]
  },
  {
   "cell_type": "code",
   "execution_count": null,
   "metadata": {},
   "outputs": [],
   "source": [
    "df_int.printSchema()"
   ]
  },
  {
   "cell_type": "code",
   "execution_count": 4,
   "metadata": {},
   "outputs": [],
   "source": []
  },
  {
   "cell_type": "code",
   "execution_count": 36,
   "metadata": {},
   "outputs": [],
   "source": [
    "import sqlite3"
   ]
  },
  {
   "cell_type": "code",
   "execution_count": 37,
   "metadata": {},
   "outputs": [],
   "source": [
    "with sqlite3.connect('/mnt/extproj/projekte/textmining/flask-tables/cons_evidences.db') as con:\n",
    "    cur = con.cursor()\n",
    "    cur.execute(\"DROP TABLE IF EXISTS mx;\")\n",
    "    \n",
    "    ct = \"\"\"CREATE TABLE \"mx\" (\n",
    "    \"index\" INTEGER PRIMARY KEY AUTOINCREMENT,\n",
    "    \"miRNA_family\" TEXT,\n",
    "    \"gene_family\" TEXT,\n",
    "    \"interaction\" TEXT,\n",
    "    \"organisms\" TEXT,\n",
    "    \"evidence_documents\" TEXT,\n",
    "    \"sent_evidences\" TEXT,\n",
    "    \"evidence_count\" INTEGER,\n",
    "    \"sent_count\" INTEGER,\n",
    "    \"is_consensus\" INTEGER\n",
    "    )\"\"\"\n",
    "    cur.execute(ct)\n",
    "    \n",
    "    pd_df.to_sql(name='mx', con=con, if_exists='append', index_label=\"index\")"
   ]
  },
  {
   "cell_type": "code",
   "execution_count": 38,
   "metadata": {},
   "outputs": [],
   "source": [
    "con = sqlite3.connect('/mnt/extproj/projekte/textmining/flask-tables/cons_evidences.db')\n",
    "cur = con.cursor()"
   ]
  },
  {
   "cell_type": "code",
   "execution_count": 39,
   "metadata": {},
   "outputs": [
    {
     "name": "stdout",
     "output_type": "stream",
     "text": [
      "CREATE TABLE \"mx\" (\n",
      "    \"index\" INTEGER PRIMARY KEY AUTOINCREMENT,\n",
      "    \"miRNA_family\" TEXT,\n",
      "    \"gene_family\" TEXT,\n",
      "    \"interaction\" TEXT,\n",
      "    \"organisms\" TEXT,\n",
      "    \"evidence_documents\" TEXT,\n",
      "    \"sent_evidences\" TEXT,\n",
      "    \"evidence_count\" INTEGER,\n",
      "    \"sent_count\" INTEGER,\n",
      "    \"is_consensus\" INTEGER\n",
      "    )\n"
     ]
    }
   ],
   "source": [
    "a=cur.execute(\"SELECT sql FROM sqlite_schema WHERE name = 'mx'\")\n",
    "for i in a:\n",
    "    print(i[0])"
   ]
  },
  {
   "cell_type": "code",
   "execution_count": null,
   "metadata": {},
   "outputs": [],
   "source": []
  },
  {
   "cell_type": "code",
   "execution_count": 40,
   "metadata": {},
   "outputs": [
    {
     "name": "stdout",
     "output_type": "stream",
     "text": [
      "(0, 'miR-6848', 'PLK1', 'GENE_MIR;DOWN', 'hsa;mmu', '34916825', \"('34916825.2.13', (48, 52), (197, 212));('34916825.2.13', (48, 52), (201, 212))\", 1, 2, 1)\n",
      "(1, 'miR-6851', 'CEA', 'GENE_MIR;NEU', 'hsa', '36175711', \"('36175711.2.8', (303, 306), (144, 155))\", 1, 1, 1)\n",
      "(2, 'miR-6851', 'CEACAM5', 'GENE_MIR;NEU', 'hsa', '36175711', \"('36175711.2.8', (303, 306), (144, 155))\", 1, 1, 1)\n",
      "(3, 'miR-6851', 'CEACAM7', 'GENE_MIR;NEU', 'hsa', '36175711', \"('36175711.2.8', (303, 306), (144, 155))\", 1, 1, 1)\n",
      "(4, 'miR-6851', 'PSG2', 'GENE_MIR;NEU', 'hsa', '36175711', \"('36175711.2.8', (303, 306), (144, 155))\", 1, 1, 1)\n"
     ]
    }
   ],
   "source": [
    "a=cur.execute(\"SELECT * FROM mx LIMIT 5\")\n",
    "for i in a:\n",
    "    print(i)"
   ]
  }
 ],
 "metadata": {
  "kernelspec": {
   "display_name": "mirexplore",
   "language": "python",
   "name": "python3"
  },
  "language_info": {
   "codemirror_mode": {
    "name": "ipython",
    "version": 3
   },
   "file_extension": ".py",
   "mimetype": "text/x-python",
   "name": "python",
   "nbconvert_exporter": "python",
   "pygments_lexer": "ipython3",
   "version": "3.6.15"
  }
 },
 "nbformat": 4,
 "nbformat_minor": 2
}
