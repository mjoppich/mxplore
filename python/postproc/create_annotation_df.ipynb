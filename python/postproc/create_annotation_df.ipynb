{
 "cells": [
  {
   "cell_type": "code",
   "execution_count": 9,
   "metadata": {},
   "outputs": [],
   "source": [
    "import os\n",
    "os.environ[\"JAVA_HOME\"] = \"/mnt/extproj/projekte/textmining/markus_tm_projs/jdk/openlogic-openjdk-11.0.22+7-linux-x64\"\n",
    "\n",
    "MXPLORE_PATH=\"/mnt/extproj/projekte/textmining/mxplore/\"\n",
    "\n",
    "from collections import Counter"
   ]
  },
  {
   "cell_type": "code",
   "execution_count": 5,
   "metadata": {},
   "outputs": [],
   "source": [
    "from collections import defaultdict\n",
    "from pyspark.sql import SparkSession\n",
    "\n",
    "from pyspark.sql.functions import *\n",
    "from pyspark.sql.types import *\n",
    "\n",
    "from pyspark.sql import Window\n"
   ]
  },
  {
   "cell_type": "code",
   "execution_count": 6,
   "metadata": {},
   "outputs": [
    {
     "name": "stdout",
     "output_type": "stream",
     "text": [
      "Creating builder\n"
     ]
    },
    {
     "name": "stderr",
     "output_type": "stream",
     "text": [
      "/mnt/extproj/projekte/bartelt/software/miniconda3/envs/mirexplore/lib/python3.6/site-packages/pyspark/context.py:238: FutureWarning: Python 3.6 support is deprecated in Spark 3.2.\n",
      "  FutureWarning\n"
     ]
    }
   ],
   "source": [
    "if not \"spark\" in globals() or spark is None:\n",
    "    print(\"Creating builder\")\n",
    "    spark = SparkSession.builder.\\\n",
    "            config(\"spark.executor.memory\", \"70g\").\\\n",
    "            config(\"spark.driver.memory\", \"50g\").\\\n",
    "            config(\"spark.memory.offHeap.enabled\",True).\\\n",
    "            config(\"spark.memory.offHeap.size\",\"16g\").\\\n",
    "            config(\"spark.sql.shuffle.partitions\", 300).\\\n",
    "            appName('mirexplore').getOrCreate()\n",
    "    \n",
    "#spark.conf.set(\"spark.executor.memory\", \"70g\")\n",
    "#spark.conf.set(\"spark.driver.memory\", \"50g\")\n",
    "#spark.conf.set(\"spark.memory.offHeap.enabled\",True)\n",
    "#spark.conf.set(\"spark.memory.offHeap.size\",\"16g\")  \n",
    "#spark.conf.set(\"spark.sql.shuffle.partitions\", 300)"
   ]
  },
  {
   "cell_type": "code",
   "execution_count": 4,
   "metadata": {},
   "outputs": [],
   "source": [
    "# df = spark.createDataFrame(hsaMxRelations+mmuMxRelations, [\"miRNA_family\", \"miRNA_name\", \"gene_family\", \"gene_name\", \"organism\", \"interaction_direction\", \"interaction_type\", \"evidence_source\", \"evidence_document\", \"interaction_sentence\", \"interaction_location_miRNA\", \"interaction_location_gene\"])"
   ]
  },
  {
   "cell_type": "code",
   "execution_count": 7,
   "metadata": {},
   "outputs": [],
   "source": [
    "def read_annotation_file(inputpath, annotation, excludes=None):\n",
    "    db_entries = []\n",
    "    ignoredConcepts = Counter()\n",
    "\n",
    "    with open(inputpath, \"r\") as fin:\n",
    "        \n",
    "        for iline, line in enumerate(fin):\n",
    "            aline = line.split(\"\\t\")\n",
    "            \n",
    "            if len(aline) < 3:\n",
    "                print(line)\n",
    "\n",
    "            docID = aline[0]\n",
    "            conceptID = aline[1]\n",
    "            concept = aline[2]\n",
    "            \n",
    "            if not excludes is None:\n",
    "                if concept.upper() in excludes:\n",
    "                    ignoredConcepts[concept.upper()] += 1\n",
    "                    continue\n",
    "            \n",
    "            sents = eval(aline[3])\n",
    "            \n",
    "            for sent in sents:\n",
    "                db_entries.append(\n",
    "                    (docID, annotation, conceptID, concept, sent[0], (sent[1], sent[2]))\n",
    "                )\n",
    "            \n",
    "\n",
    "    print(annotation, len(db_entries))\n",
    "    if len(ignoredConcepts) > 0:\n",
    "        print(\"Ignored\", ignoredConcepts.most_common(10))\n",
    "                \n",
    "    return db_entries\n",
    "\n",
    "def makeExcludes( inEntries ):\n",
    "    excludes = set()\n",
    "    \n",
    "    for entry in inEntries:\n",
    "        #concept is at pos 3!\n",
    "        excludes.add(entry[3].upper())\n",
    "    return excludes"
   ]
  },
  {
   "cell_type": "code",
   "execution_count": 11,
   "metadata": {},
   "outputs": [
    {
     "name": "stdout",
     "output_type": "stream",
     "text": [
      "disease 360668\n",
      "celllines 50902\n",
      "GeneOntology 620354\n",
      "ModelAnatomy 151180\n",
      "ncit 3024488\n",
      "Ignored [('CARCINOMA', 8479), ('GENE EXPRESSION', 6136), ('MALIGNANT CELL', 4903), ('STEM CELL', 4319), ('CELL GROWTH', 3728), ('BREAST CARCINOMA', 3582), ('HEPATOCELLULAR CARCINOMA', 3477), ('LUNG CARCINOMA', 3452), ('CELL CYCLE PROCESS', 3241), ('HYPERSENSITIVITY', 3168)]\n"
     ]
    }
   ],
   "source": [
    "diseaseAnnot = read_annotation_file(MXPLORE_PATH+\"mxresults/aggregated_pubmed/disease.pmid\", \"disease\")\n",
    "celllinesAnnot = read_annotation_file(MXPLORE_PATH+\"mxresults/aggregated_pubmed/celllines.pmid\", \"celllines\")\n",
    "goAnnot = read_annotation_file(MXPLORE_PATH+\"mxresults/aggregated_pubmed/go.pmid\", \"GeneOntology\")\n",
    "modelanatAnnot = read_annotation_file(MXPLORE_PATH+\"mxresults/aggregated_pubmed/model_anatomy.pmid\", \"ModelAnatomy\")\n",
    "\n",
    "excludeConcepts = makeExcludes(diseaseAnnot + celllinesAnnot +goAnnot + modelanatAnnot)\n",
    "\n",
    "ncitAnnot = read_annotation_file(MXPLORE_PATH+\"mxresults/aggregated_pubmed/ncit.pmid\", \"ncit\", excludeConcepts)\n"
   ]
  },
  {
   "cell_type": "code",
   "execution_count": 7,
   "metadata": {},
   "outputs": [
    {
     "name": "stdout",
     "output_type": "stream",
     "text": [
      "disease 4010966\n",
      "celllines 847218\n",
      "GeneOntology 11063712\n",
      "ModelAnatomy 2283915\n",
      "ncit 48370696\n",
      "Ignored [('GENE EXPRESSION', 41185), ('METABOLIC PROCESS', 27059), ('CARCINOMA', 25274), ('STEM CELL', 22310), ('HYPERSENSITIVITY', 21792), ('BREAST CARCINOMA', 20346), ('CYTOPLASM', 20040), ('MALIGNANT CELL', 19674), ('CELL GROWTH', 18791), ('HOMEOSTATIC PROCESS', 18027)]\n"
     ]
    }
   ],
   "source": [
    "diseaseAnnotPMC = read_annotation_file(MXPLORE_PATH+\"mxresults/aggregated_pmc/disease.pmid\", \"disease\")\n",
    "celllinesAnnotPMC = read_annotation_file(MXPLORE_PATH+\"mxresults/aggregated_pmc/celllines.pmid\", \"celllines\")\n",
    "goAnnotPMC = read_annotation_file(MXPLORE_PATH+\"mxresults/aggregated_pmc/go.pmid\", \"GeneOntology\")\n",
    "modelanatAnnotPMC = read_annotation_file(MXPLORE_PATH+\"mxresults/aggregated_pmc/model_anatomy.pmid\", \"ModelAnatomy\")\n",
    "\n",
    "excludeConceptsPMC = makeExcludes(diseaseAnnotPMC + celllinesAnnotPMC +goAnnotPMC + modelanatAnnotPMC)\n",
    "\n",
    "ncitAnnotPMC = read_annotation_file(MXPLORE_PATH+\"mxresults/aggregated_pmc/ncit.pmid\", \"ncit\", excludeConceptsPMC)\n"
   ]
  },
  {
   "cell_type": "code",
   "execution_count": 8,
   "metadata": {},
   "outputs": [],
   "source": [
    "df = spark.createDataFrame(diseaseAnnot+celllinesAnnot+goAnnot+modelanatAnnot+ncitAnnot+diseaseAnnotPMC+celllinesAnnotPMC+goAnnotPMC+modelanatAnnotPMC+ncitAnnotPMC,\n",
    "                           [\"doc_id\", \"annotation\", \"concept_id\", \"concept\", \"sentence\", \"sentence_loc\"])"
   ]
  },
  {
   "cell_type": "code",
   "execution_count": 9,
   "metadata": {},
   "outputs": [
    {
     "name": "stdout",
     "output_type": "stream",
     "text": [
      "+--------+----------+----------+--------------------+-------------+------------+\n",
      "|  doc_id|annotation|concept_id|             concept|     sentence|sentence_loc|\n",
      "+--------+----------+----------+--------------------+-------------+------------+\n",
      "|37809396|   disease| DOID:1749|squamous cell car...| 37809396.1.1|    {56, 79}|\n",
      "|37809396|   disease| DOID:1749|squamous cell car...| 37809396.2.1|  {124, 147}|\n",
      "|37809396|   disease|  DOID:305|           carcinoma| 37809396.1.1|    {70, 79}|\n",
      "|37809396|   disease|  DOID:305|           carcinoma| 37809396.2.1|  {138, 147}|\n",
      "|37809692|   disease|  DOID:162|              cancer| 37809692.1.1|    {28, 34}|\n",
      "|37809692|   disease|  DOID:162|              cancer| 37809692.2.1|  {183, 189}|\n",
      "|37809692|   disease|  DOID:162|              cancer| 37809692.2.1|  {226, 232}|\n",
      "|37809692|   disease|  DOID:162|              cancer| 37809692.2.2|    {27, 33}|\n",
      "|37809692|   disease|  DOID:162|              cancer| 37809692.2.2|    {88, 94}|\n",
      "|37809692|   disease|  DOID:162|              cancer| 37809692.2.3|    {59, 65}|\n",
      "|37809692|   disease|  DOID:162|              cancer| 37809692.2.3|  {123, 129}|\n",
      "|37809692|   disease|  DOID:162|              cancer| 37809692.2.4|    {86, 92}|\n",
      "|37809692|   disease|  DOID:162|              cancer| 37809692.2.6|    {72, 78}|\n",
      "|37809692|   disease|  DOID:162|              cancer| 37809692.2.7|  {157, 163}|\n",
      "|37809692|   disease|  DOID:162|              cancer| 37809692.2.8|  {107, 113}|\n",
      "|37809692|   disease|  DOID:162|              cancer| 37809692.2.9|    {80, 86}|\n",
      "|37809692|   disease|  DOID:162|              cancer|37809692.2.10|    {48, 54}|\n",
      "|37809692|   disease|  DOID:162|              cancer|37809692.2.10|    {87, 93}|\n",
      "|37809692|   disease|DOID:10534|      stomach cancer| 37809692.1.1|    {20, 34}|\n",
      "|37809692|   disease|DOID:10534|      stomach cancer| 37809692.2.1|  {175, 189}|\n",
      "+--------+----------+----------+--------------------+-------------+------------+\n",
      "only showing top 20 rows\n",
      "\n"
     ]
    }
   ],
   "source": [
    "df.show()"
   ]
  },
  {
   "cell_type": "code",
   "execution_count": 10,
   "metadata": {},
   "outputs": [],
   "source": [
    "predatoryTerms = [\n",
    "\"GO:0040007\", \"GO:0003675\", \"GO:0040007\", \"GO:0065007\", \"GO:0005488\", \"GO:0023052\",\"GO:0010467\",\n",
    "\"NCIT:C25966\", \"NCIT:C28378\", \"NCIT:C177693\", \"NCIT:C64542\", \"NCIT:C88924\", \"NCIT:C42791\", \"NCIT:C25214\", \"NCIT:C16342\", \"NCIT:C45971\", \"NCIT:C120360\", \"NCIT:C120363\", \"NCIT:C64382\", \"NCIT:C16608\", \"NCIT:C26549\"\n",
    "]\n",
    "df = df.filter(~df.concept_id.isin(predatoryTerms))"
   ]
  },
  {
   "cell_type": "code",
   "execution_count": 11,
   "metadata": {},
   "outputs": [
    {
     "name": "stdout",
     "output_type": "stream",
     "text": [
      "+------------+--------------+----------------------------+-----------+\n",
      "|annotation  |concept_id    |concept                     |total_count|\n",
      "+------------+--------------+----------------------------+-----------+\n",
      "|disease     |DOID:162      |cancer                      |1293525    |\n",
      "|ModelAnatomy|UBERON:2000098|proliferative region        |568554     |\n",
      "|GeneOntology|GO:0006915    |apoptotic process           |373515     |\n",
      "|ncit        |NCIT:C17557   |Apoptosis                   |367310     |\n",
      "|GeneOntology|GO:0097194    |execution phase of apoptosis|363725     |\n",
      "|ncit        |NCIT:C38784   |Apoptosis Pathway           |359424     |\n",
      "|ncit        |NCIT:C40557   |Metastatic Lesion           |330532     |\n",
      "|GeneOntology|GO:0032502    |developmental process       |330335     |\n",
      "|ncit        |NCIT:C17021   |Protein                     |305890     |\n",
      "|ncit        |NCIT:C17003   |Polymerase Chain Reaction   |294955     |\n",
      "+------------+--------------+----------------------------+-----------+\n",
      "only showing top 10 rows\n",
      "\n"
     ]
    }
   ],
   "source": [
    "df.groupBy(\"annotation\", \"concept_id\", \"concept\").agg(\n",
    "    count(\"*\").alias(\"total_count\")\n",
    ").orderBy(\"total_count\", ascending=False).show(n=10, truncate=False)"
   ]
  },
  {
   "cell_type": "code",
   "execution_count": 12,
   "metadata": {},
   "outputs": [
    {
     "name": "stdout",
     "output_type": "stream",
     "text": [
      "+--------+----------+----------+--------------------+------------+------------+\n",
      "|  doc_id|annotation|concept_id|             concept|    sentence|sentence_loc|\n",
      "+--------+----------+----------+--------------------+------------+------------+\n",
      "|37809396|   disease| DOID:1749|squamous cell car...|37809396.1.1|    {56, 79}|\n",
      "|37809396|   disease| DOID:1749|squamous cell car...|37809396.2.1|  {124, 147}|\n",
      "|37809396|   disease|  DOID:305|           carcinoma|37809396.1.1|    {70, 79}|\n",
      "|37809396|   disease|  DOID:305|           carcinoma|37809396.2.1|  {138, 147}|\n",
      "|37809692|   disease|  DOID:162|              cancer|37809692.1.1|    {28, 34}|\n",
      "+--------+----------+----------+--------------------+------------+------------+\n",
      "only showing top 5 rows\n",
      "\n"
     ]
    }
   ],
   "source": [
    "df.show(n=5)"
   ]
  },
  {
   "cell_type": "code",
   "execution_count": 13,
   "metadata": {},
   "outputs": [],
   "source": [
    "schema_sent = StructType([\n",
    "    StructField(\"sent\", StringType(), False),\n",
    "    StructField('loc', StructType([StructField(\"start_\", LongType(), True), StructField(\"end_\", LongType(), False)])),\n",
    "])\n",
    "\n",
    "ev_loc_udf = udf(\n",
    "    lambda x,y: (x, y),\n",
    "    schema_sent\n",
    ")\n",
    "\n",
    "df = df.withColumn(\"sent_evidence\", ev_loc_udf(\"sentence\", \"sentence_loc\"))\n",
    "df = df.drop(\"sentence\")\n",
    "df = df.drop(\"sentence_loc\")"
   ]
  },
  {
   "cell_type": "code",
   "execution_count": 14,
   "metadata": {},
   "outputs": [
    {
     "name": "stdout",
     "output_type": "stream",
     "text": [
      "+--------+----------+----------+--------------------+--------------------+\n",
      "|  doc_id|annotation|concept_id|             concept|       sent_evidence|\n",
      "+--------+----------+----------+--------------------+--------------------+\n",
      "|37809396|   disease| DOID:1749|squamous cell car...|{37809396.1.1, {5...|\n",
      "|37809396|   disease| DOID:1749|squamous cell car...|{37809396.2.1, {1...|\n",
      "|37809396|   disease|  DOID:305|           carcinoma|{37809396.1.1, {7...|\n",
      "|37809396|   disease|  DOID:305|           carcinoma|{37809396.2.1, {1...|\n",
      "|37809692|   disease|  DOID:162|              cancer|{37809692.1.1, {2...|\n",
      "+--------+----------+----------+--------------------+--------------------+\n",
      "only showing top 5 rows\n",
      "\n"
     ]
    }
   ],
   "source": [
    "df.show(n=5)"
   ]
  },
  {
   "cell_type": "code",
   "execution_count": 15,
   "metadata": {},
   "outputs": [
    {
     "name": "stdout",
     "output_type": "stream",
     "text": [
      "+--------+------------+--------------+--------------------+--------------------+\n",
      "|  doc_id|  annotation|    concept_id|             concept|      sent_evidences|\n",
      "+--------+------------+--------------+--------------------+--------------------+\n",
      "|10760272|ModelAnatomy|UBERON:0001969|        blood plasma|[{10760272.2.5, {...|\n",
      "|12576545|        ncit|     NCIT:C231|          Amino Acid|[{12576545.2.2, {...|\n",
      "|15361871|GeneOntology|    GO:0040034|regulation of dev...|[{15361871.2.2, {...|\n",
      "|15634332|        ncit|   NCIT:C17565|   Sequence Analysis|[{15634332.2.2, {...|\n",
      "|15738415|        ncit|   NCIT:C12474|        B-Lymphocyte|[{15738415.2.6, {...|\n",
      "+--------+------------+--------------+--------------------+--------------------+\n",
      "only showing top 5 rows\n",
      "\n"
     ]
    }
   ],
   "source": [
    "df_small = df.groupBy(\"doc_id\", \"annotation\", \"concept_id\", \"concept\").agg(\n",
    "    collect_set(\"sent_evidence\").alias(\"sent_evidences\")\n",
    ")\n",
    "df_small.show(n=5)"
   ]
  },
  {
   "cell_type": "code",
   "execution_count": 16,
   "metadata": {},
   "outputs": [],
   "source": [
    "df_small.write.parquet(\"/mnt/extproj/projekte/textmining/mx_feb24/mx_document_annotations\", mode=\"overwrite\")"
   ]
  }
 ],
 "metadata": {
  "kernelspec": {
   "display_name": "mirexplore",
   "language": "python",
   "name": "python3"
  },
  "language_info": {
   "codemirror_mode": {
    "name": "ipython",
    "version": 3
   },
   "file_extension": ".py",
   "mimetype": "text/x-python",
   "name": "python",
   "nbconvert_exporter": "python",
   "pygments_lexer": "ipython3",
   "version": "3.6.15"
  }
 },
 "nbformat": 4,
 "nbformat_minor": 2
}
