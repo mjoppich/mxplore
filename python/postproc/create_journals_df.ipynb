{
 "cells": [
  {
   "cell_type": "code",
   "execution_count": 1,
   "metadata": {},
   "outputs": [],
   "source": [
    "import os\n",
    "os.environ[\"JAVA_HOME\"] = \"/mnt/extproj/projekte/textmining/markus_tm_projs/jdk/openlogic-openjdk-11.0.22+7-linux-x64\"\n",
    "\n",
    "MXPLORE_PATH=\"/mnt/extproj/projekte/textmining/mxplore/\"\n",
    "\n",
    "from collections import Counter"
   ]
  },
  {
   "cell_type": "code",
   "execution_count": 2,
   "metadata": {},
   "outputs": [],
   "source": [
    "from collections import defaultdict\n",
    "from pyspark.sql import SparkSession\n",
    "\n",
    "from pyspark.sql.functions import *\n",
    "from pyspark.sql.types import *\n",
    "\n",
    "from pyspark.sql import Window\n",
    "import glob"
   ]
  },
  {
   "cell_type": "code",
   "execution_count": 3,
   "metadata": {},
   "outputs": [
    {
     "name": "stdout",
     "output_type": "stream",
     "text": [
      "Creating builder\n"
     ]
    },
    {
     "name": "stderr",
     "output_type": "stream",
     "text": [
      "/mnt/extproj/projekte/bartelt/software/miniconda3/envs/mirexplore/lib/python3.6/site-packages/pyspark/context.py:238: FutureWarning: Python 3.6 support is deprecated in Spark 3.2.\n",
      "  FutureWarning\n"
     ]
    }
   ],
   "source": [
    "if not \"spark\" in globals() or spark is None:\n",
    "    print(\"Creating builder\")\n",
    "    spark = SparkSession.builder.\\\n",
    "            config(\"spark.executor.memory\", \"70g\").\\\n",
    "            config(\"spark.driver.memory\", \"50g\").\\\n",
    "            config(\"spark.memory.offHeap.enabled\",True).\\\n",
    "            config(\"spark.memory.offHeap.size\",\"16g\").\\\n",
    "            config(\"spark.sql.shuffle.partitions\", 300).\\\n",
    "            appName('mirexplore').getOrCreate()\n",
    "    \n",
    "#spark.conf.set(\"spark.executor.memory\", \"70g\")\n",
    "#spark.conf.set(\"spark.driver.memory\", \"50g\")\n",
    "#spark.conf.set(\"spark.memory.offHeap.enabled\",True)\n",
    "#spark.conf.set(\"spark.memory.offHeap.size\",\"16g\")  \n",
    "#spark.conf.set(\"spark.sql.shuffle.partitions\", 300)"
   ]
  },
  {
   "cell_type": "code",
   "execution_count": 4,
   "metadata": {},
   "outputs": [],
   "source": [
    "df_int = spark.read.parquet(MXPLORE_PATH+\"/mxresults/mx_mirna_gene_consensus_parquet/\")\n",
    "df_int = df_int.withColumn(\"doc_id\", explode(\"evidence_documents\"))"
   ]
  },
  {
   "cell_type": "code",
   "execution_count": 5,
   "metadata": {},
   "outputs": [
    {
     "name": "stdout",
     "output_type": "stream",
     "text": [
      "55331\n"
     ]
    }
   ],
   "source": [
    "relDocIDs = set([x[\"doc_id\"] for x in df_int.select(\"doc_id\").collect()])\n",
    "print(len([x for x in relDocIDs if x.startswith(\"PMC\")]))"
   ]
  },
  {
   "cell_type": "code",
   "execution_count": 6,
   "metadata": {},
   "outputs": [],
   "source": [
    "def read_date_file(inputpath, relevantDocIDs):\n",
    "    db_entries = list()\n",
    "    ignoredConcepts = Counter()\n",
    "\n",
    "\n",
    "    for infile in glob.glob(\"{}/*.journal\".format(inputpath)):\n",
    "        with open(infile, \"r\") as fin:\n",
    "            \n",
    "            for iline, line in enumerate(fin):\n",
    "                aline = line.split(\"\\t\")\n",
    "                aline = [x.strip() for x in aline]\n",
    "\n",
    "                docID = aline[0]\n",
    "                \n",
    "                if not docID in relevantDocIDs:\n",
    "                    continue\n",
    "                \n",
    "                if len(aline) < 2:\n",
    "                    continue\n",
    "                \n",
    "                long_journal = aline[1]\n",
    "                short_journal = None\n",
    "                \n",
    "                if len(aline) >= 3 and len(aline[2]) > 0:\n",
    "                    short_journal = aline[2]\n",
    "                                \n",
    "                journal = short_journal if not short_journal is None else long_journal\n",
    "                db_entries.append( (docID, journal) )\n",
    "                \n",
    "    return db_entries\n"
   ]
  },
  {
   "cell_type": "code",
   "execution_count": 7,
   "metadata": {},
   "outputs": [
    {
     "name": "stdout",
     "output_type": "stream",
     "text": [
      "47280\n"
     ]
    }
   ],
   "source": [
    "docAuthors = list(set(read_date_file(\"/mnt/extproj/projekte/textmining/pubmed_feb24/\", relDocIDs)))\n",
    "print(len(docAuthors))"
   ]
  },
  {
   "cell_type": "code",
   "execution_count": 8,
   "metadata": {},
   "outputs": [
    {
     "name": "stdout",
     "output_type": "stream",
     "text": [
      "55331\n"
     ]
    }
   ],
   "source": [
    "docAuthorsPMC = list(set(read_date_file(\"/mnt/extproj/projekte/textmining/pmc_feb24/oa_comm/\", relDocIDs)))\n",
    "print(len(docAuthorsPMC))"
   ]
  },
  {
   "cell_type": "code",
   "execution_count": 9,
   "metadata": {},
   "outputs": [],
   "source": [
    "df = spark.createDataFrame(docAuthors+docAuthorsPMC, [\"doc_id\", \"journal\"])"
   ]
  },
  {
   "cell_type": "code",
   "execution_count": 10,
   "metadata": {},
   "outputs": [
    {
     "name": "stdout",
     "output_type": "stream",
     "text": [
      "+--------+--------------------+\n",
      "|  doc_id|             journal|\n",
      "+--------+--------------------+\n",
      "|25213330|         Horm Cancer|\n",
      "|32781357| Biomed Pharmacother|\n",
      "|38030294|         Int Heart J|\n",
      "|22541436|                Cell|\n",
      "|26503214|         Tumour Biol|\n",
      "|22580605|            Oncogene|\n",
      "|31832755|     Int J Legal Med|\n",
      "|31476285|         Am J Pathol|\n",
      "|30479162|       Hum Gene Ther|\n",
      "|33116855|    Cancer Manag Res|\n",
      "|32053576|       Med Sci Monit|\n",
      "|33413548|  Stem Cell Res Ther|\n",
      "|33500625|   Onco Targets Ther|\n",
      "|33279663|        Exp Gerontol|\n",
      "|28627449|     Mol Cell Probes|\n",
      "|33621954|   Aging (Albany NY)|\n",
      "|34424826|       Bioengineered|\n",
      "|33275250|Eur Rev Med Pharm...|\n",
      "|29802737|        Mol Carcinog|\n",
      "|32372215|J Egypt Natl Canc...|\n",
      "+--------+--------------------+\n",
      "only showing top 20 rows\n",
      "\n"
     ]
    }
   ],
   "source": [
    "df.show()"
   ]
  },
  {
   "cell_type": "code",
   "execution_count": 11,
   "metadata": {},
   "outputs": [],
   "source": [
    "df.write.parquet(MXPLORE_PATH+\"/mxresults/mx_document_journal\", mode=\"overwrite\")"
   ]
  },
  {
   "cell_type": "code",
   "execution_count": 12,
   "metadata": {},
   "outputs": [
    {
     "name": "stdout",
     "output_type": "stream",
     "text": [
      "+--------+--------------------+\n",
      "|  doc_id|             journal|\n",
      "+--------+--------------------+\n",
      "|10760272|Proc Natl Acad Sc...|\n",
      "|12576545|Proc Natl Acad Sc...|\n",
      "|12812784|            Dev Biol|\n",
      "|15003116|         Genome Biol|\n",
      "|15361871|           Nat Genet|\n",
      "|15504739|         J Biol Chem|\n",
      "|15538371|              Nature|\n",
      "|15634332|              FEBS J|\n",
      "|15648093|      J Cell Physiol|\n",
      "|15738415|Proc Natl Acad Sc...|\n",
      "|15766526|                Cell|\n",
      "|15944709|              Nature|\n",
      "|16041695|            J Pathol|\n",
      "|16096373|          Cell Cycle|\n",
      "|16151463|            Leukemia|\n",
      "|16166262|Proc Natl Acad Sc...|\n",
      "|16227573|       Mol Cell Biol|\n",
      "|16235244|Genes Chromosomes...|\n",
      "|16249029|            Leuk Res|\n",
      "|16266980|          Cancer Res|\n",
      "+--------+--------------------+\n",
      "only showing top 20 rows\n",
      "\n"
     ]
    }
   ],
   "source": [
    "df.orderBy(\"doc_id\").show()"
   ]
  },
  {
   "cell_type": "code",
   "execution_count": null,
   "metadata": {},
   "outputs": [],
   "source": []
  },
  {
   "cell_type": "code",
   "execution_count": null,
   "metadata": {},
   "outputs": [],
   "source": []
  },
  {
   "cell_type": "code",
   "execution_count": null,
   "metadata": {},
   "outputs": [],
   "source": []
  },
  {
   "cell_type": "code",
   "execution_count": null,
   "metadata": {},
   "outputs": [],
   "source": []
  }
 ],
 "metadata": {
  "kernelspec": {
   "display_name": "mirexplore",
   "language": "python",
   "name": "python3"
  },
  "language_info": {
   "codemirror_mode": {
    "name": "ipython",
    "version": 3
   },
   "file_extension": ".py",
   "mimetype": "text/x-python",
   "name": "python",
   "nbconvert_exporter": "python",
   "pygments_lexer": "ipython3",
   "version": "3.6.15"
  }
 },
 "nbformat": 4,
 "nbformat_minor": 2
}
