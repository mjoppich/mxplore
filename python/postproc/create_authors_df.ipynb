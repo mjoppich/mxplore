{
 "cells": [
  {
   "cell_type": "code",
   "execution_count": 1,
   "metadata": {},
   "outputs": [],
   "source": [
    "import os\n",
    "os.environ[\"JAVA_HOME\"] = \"/mnt/extproj/projekte/textmining/markus_tm_projs/jdk/openlogic-openjdk-11.0.22+7-linux-x64\"\n",
    "\n",
    "MXPLORE_PATH=\"/mnt/extproj/projekte/textmining/mxplore/\"\n",
    "\n",
    "from collections import Counter"
   ]
  },
  {
   "cell_type": "code",
   "execution_count": 2,
   "metadata": {},
   "outputs": [],
   "source": [
    "from collections import defaultdict\n",
    "from pyspark.sql import SparkSession\n",
    "\n",
    "from pyspark.sql.functions import *\n",
    "from pyspark.sql.types import *\n",
    "\n",
    "from pyspark.sql import Window\n",
    "import glob"
   ]
  },
  {
   "cell_type": "code",
   "execution_count": 3,
   "metadata": {},
   "outputs": [
    {
     "name": "stdout",
     "output_type": "stream",
     "text": [
      "Creating builder\n"
     ]
    },
    {
     "name": "stderr",
     "output_type": "stream",
     "text": [
      "/mnt/extproj/projekte/bartelt/software/miniconda3/envs/mirexplore/lib/python3.6/site-packages/pyspark/context.py:238: FutureWarning: Python 3.6 support is deprecated in Spark 3.2.\n",
      "  FutureWarning\n"
     ]
    }
   ],
   "source": [
    "if not \"spark\" in globals() or spark is None:\n",
    "    print(\"Creating builder\")\n",
    "    spark = SparkSession.builder.\\\n",
    "            config(\"spark.executor.memory\", \"70g\").\\\n",
    "            config(\"spark.driver.memory\", \"50g\").\\\n",
    "            config(\"spark.memory.offHeap.enabled\",True).\\\n",
    "            config(\"spark.memory.offHeap.size\",\"16g\").\\\n",
    "            config(\"spark.sql.shuffle.partitions\", 300).\\\n",
    "            appName('mirexplore').getOrCreate()\n",
    "    \n",
    "#spark.conf.set(\"spark.executor.memory\", \"70g\")\n",
    "#spark.conf.set(\"spark.driver.memory\", \"50g\")\n",
    "#spark.conf.set(\"spark.memory.offHeap.enabled\",True)\n",
    "#spark.conf.set(\"spark.memory.offHeap.size\",\"16g\")  \n",
    "#spark.conf.set(\"spark.sql.shuffle.partitions\", 300)"
   ]
  },
  {
   "cell_type": "code",
   "execution_count": 4,
   "metadata": {},
   "outputs": [],
   "source": [
    "df_int = spark.read.parquet(MXPLORE_PATH+\"/mxresults/mx_mirna_gene_consensus_parquet/\")\n",
    "df_int = df_int.withColumn(\"doc_id\", explode(\"evidence_documents\"))"
   ]
  },
  {
   "cell_type": "code",
   "execution_count": 5,
   "metadata": {},
   "outputs": [
    {
     "name": "stdout",
     "output_type": "stream",
     "text": [
      "55331\n"
     ]
    }
   ],
   "source": [
    "relDocIDs = set([x[\"doc_id\"] for x in df_int.select(\"doc_id\").collect()])\n",
    "print(len([x for x in relDocIDs if x.startswith(\"PMC\")]))"
   ]
  },
  {
   "cell_type": "code",
   "execution_count": 6,
   "metadata": {},
   "outputs": [],
   "source": [
    "def read_date_file(inputpath, relevantDocIDs):\n",
    "    db_entries = defaultdict(list)\n",
    "    ignoredConcepts = Counter()\n",
    "\n",
    "\n",
    "    for infile in glob.glob(\"{}/*.author\".format(inputpath)):\n",
    "        with open(infile, \"r\") as fin:\n",
    "            \n",
    "            for iline, line in enumerate(fin):\n",
    "                aline = line.split(\"\\t\")\n",
    "                aline = [x.strip() for x in aline]\n",
    "\n",
    "                docID = aline[0]\n",
    "                \n",
    "                if not docID in relevantDocIDs:\n",
    "                    continue\n",
    "                \n",
    "                if len(aline) < 4:\n",
    "                    continue\n",
    "                \n",
    "                first, middle, last = aline[1], aline[2], aline[3]\n",
    "                                \n",
    "                db_entries[docID].append( (docID, first, last ) )\n",
    "                \n",
    "    db_records = []\n",
    "    for x in db_entries:\n",
    "        elems = db_entries[x]\n",
    "        \n",
    "        if len(elems) >= 2:\n",
    "            db_records.append(elems[0])\n",
    "            db_records.append(elems[-1])\n",
    "        else:\n",
    "            db_records.append(elems[0])\n",
    "                \n",
    "    return db_records\n"
   ]
  },
  {
   "cell_type": "code",
   "execution_count": 7,
   "metadata": {},
   "outputs": [
    {
     "name": "stdout",
     "output_type": "stream",
     "text": [
      "93425\n"
     ]
    }
   ],
   "source": [
    "docAuthors = list(set(read_date_file(\"/mnt/extproj/projekte/textmining/pubmed_feb24/\", relDocIDs)))\n",
    "print(len(docAuthors))"
   ]
  },
  {
   "cell_type": "code",
   "execution_count": 8,
   "metadata": {},
   "outputs": [
    {
     "name": "stdout",
     "output_type": "stream",
     "text": [
      "109548\n"
     ]
    }
   ],
   "source": [
    "docAuthorsPMC = list(set(read_date_file(\"/mnt/extproj/projekte/textmining/pmc_feb24/oa_comm/\", relDocIDs)))\n",
    "print(len(docAuthorsPMC))"
   ]
  },
  {
   "cell_type": "code",
   "execution_count": 9,
   "metadata": {},
   "outputs": [],
   "source": [
    "df = spark.createDataFrame(docAuthors+docAuthorsPMC, [\"doc_id\", \"firstname\", \"lastname\"])"
   ]
  },
  {
   "cell_type": "code",
   "execution_count": 10,
   "metadata": {},
   "outputs": [
    {
     "name": "stdout",
     "output_type": "stream",
     "text": [
      "+--------+---------+---------+\n",
      "|  doc_id|firstname| lastname|\n",
      "+--------+---------+---------+\n",
      "|28683304|    Niraj|     Shah|\n",
      "|34685605| Sung-Lin|       Hu|\n",
      "|34761332|   Paresh|Prajapati|\n",
      "|24307102|      Rui|       Wu|\n",
      "|30151888|      Hui|    Huang|\n",
      "|37762652|    Zhiye|     Zhao|\n",
      "|22311119| Yukiharu|  Hiyoshi|\n",
      "|34743206|   Hubert|   Fleury|\n",
      "|26826389| Jingjing|      Liu|\n",
      "|36322021| Xiaolong|       Ni|\n",
      "|23286334|    Carol|   Moreno|\n",
      "|31002141|      M-F|   Zhuang|\n",
      "|26309499|  Ingemar|  Ernberg|\n",
      "|35272550|      Fan|    Zhang|\n",
      "|31415795|      Jun|     Shao|\n",
      "|31494298|    Shuai|      Guo|\n",
      "|34943951|Christoph| Hoffmann|\n",
      "|30945557|      Jin|       Xu|\n",
      "|21321078|  Jolyane|  Meloche|\n",
      "|34917202| Zhongbao|     Ruan|\n",
      "+--------+---------+---------+\n",
      "only showing top 20 rows\n",
      "\n"
     ]
    }
   ],
   "source": [
    "df.show()"
   ]
  },
  {
   "cell_type": "code",
   "execution_count": 11,
   "metadata": {},
   "outputs": [],
   "source": [
    "df.write.parquet(MXPLORE_PATH+\"/mxresults/mx_document_pubauthors\", mode=\"overwrite\")"
   ]
  },
  {
   "cell_type": "code",
   "execution_count": 12,
   "metadata": {},
   "outputs": [
    {
     "name": "stdout",
     "output_type": "stream",
     "text": [
      "+--------+-------------+------------+\n",
      "|  doc_id|    firstname|    lastname|\n",
      "+--------+-------------+------------+\n",
      "|10760272|            B|       Zheng|\n",
      "|10760272|            D|        Chen|\n",
      "|12576545|      Daniela|       Corda|\n",
      "|12576545|Christopher P|      Berrie|\n",
      "|12812784|       Victor|      Ambros|\n",
      "|12812784|   Nicholas S|       Sokol|\n",
      "|15003116|          Ian|  Pitha-Rowe|\n",
      "|15003116|         Eric|        Moss|\n",
      "|15361871|        Aadel|   Chaudhuri|\n",
      "|15361871|         John|    Obenauer|\n",
      "|15504739|         Ravi|        Jain|\n",
      "|15504739|      Bridget|       Lollo|\n",
      "|15538371|    Matthew N|         Poy|\n",
      "|15538371|       Satoru|    Kuwajima|\n",
      "|15634332|     Michel J|       Weber|\n",
      "|15648093|       Andrea|      Luchin|\n",
      "|15648093|     Ettore C|degli Uberti|\n",
      "|15738415|       Liping|         Sun|\n",
      "|15738415|      Mario F|       Gomez|\n",
      "|15766526|      Hermann|        Gram|\n",
      "+--------+-------------+------------+\n",
      "only showing top 20 rows\n",
      "\n"
     ]
    }
   ],
   "source": [
    "df.orderBy(\"doc_id\").show()"
   ]
  },
  {
   "cell_type": "code",
   "execution_count": null,
   "metadata": {},
   "outputs": [],
   "source": []
  },
  {
   "cell_type": "code",
   "execution_count": null,
   "metadata": {},
   "outputs": [],
   "source": []
  },
  {
   "cell_type": "code",
   "execution_count": null,
   "metadata": {},
   "outputs": [],
   "source": []
  },
  {
   "cell_type": "code",
   "execution_count": null,
   "metadata": {},
   "outputs": [],
   "source": []
  }
 ],
 "metadata": {
  "kernelspec": {
   "display_name": "mirexplore",
   "language": "python",
   "name": "python3"
  },
  "language_info": {
   "codemirror_mode": {
    "name": "ipython",
    "version": 3
   },
   "file_extension": ".py",
   "mimetype": "text/x-python",
   "name": "python",
   "nbconvert_exporter": "python",
   "pygments_lexer": "ipython3",
   "version": "3.6.15"
  }
 },
 "nbformat": 4,
 "nbformat_minor": 2
}
