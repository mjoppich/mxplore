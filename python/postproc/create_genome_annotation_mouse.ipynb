{
 "cells": [
  {
   "cell_type": "code",
   "execution_count": 1,
   "metadata": {},
   "outputs": [
    {
     "name": "stdout",
     "output_type": "stream",
     "text": [
      "['/usr/lib64/python311.zip', '/usr/lib64/python3.11', '/usr/lib64/python3.11/lib-dynload', '', '/home/j/joppich/.local/lib/python3.11/site-packages', '/usr/lib64/python3.11/site-packages', '/usr/lib64/python3.11/_import_failed', '/usr/lib/python3.11/site-packages', './../']\n"
     ]
    }
   ],
   "source": [
    "from gtfparse import read_gtf\n",
    "import polars as pl\n",
    "from intervaltree import Interval, IntervalTree\n",
    "import pandas as pd\n",
    "pd.set_option('display.max_rows', 60)\n",
    "from collections import defaultdict\n",
    "\n",
    "import os, sys\n",
    "\n",
    "sys.path.append(\"./../\")\n",
    "print(sys.path)\n",
    "\n",
    "from synonymes.mirnaID import miRNA, miRNASynonymeTYPE, miRNAPART\n",
    "from Bio import SeqIO\n",
    "from io import StringIO\n",
    "import base64, gzip\n",
    "import json\n",
    "\n",
    "from Bio.Seq import Seq \n"
   ]
  },
  {
   "cell_type": "code",
   "execution_count": 3,
   "metadata": {},
   "outputs": [],
   "source": [
    "all_fasta_seq = {}\n",
    "\n",
    "with gzip.open(\"/mnt/extproj/projekte/textmining/genome_annotations/GRCm38.p6.genome.fa.gz\", \"rt\") as fin:\n",
    "    for seq_record in SeqIO.parse(fin, \"fasta\"):\n",
    "        all_fasta_seq[seq_record.id] = str(seq_record.seq)"
   ]
  },
  {
   "cell_type": "code",
   "execution_count": 4,
   "metadata": {},
   "outputs": [
    {
     "data": {
      "text/plain": [
       "['chr1',\n",
       " 'chr2',\n",
       " 'chr3',\n",
       " 'chr4',\n",
       " 'chr5',\n",
       " 'chr6',\n",
       " 'chr7',\n",
       " 'chr8',\n",
       " 'chr9',\n",
       " 'chr10']"
      ]
     },
     "execution_count": 4,
     "metadata": {},
     "output_type": "execute_result"
    }
   ],
   "source": [
    "[x for x in all_fasta_seq][:10]"
   ]
  },
  {
   "cell_type": "code",
   "execution_count": 5,
   "metadata": {},
   "outputs": [
    {
     "name": "stderr",
     "output_type": "stream",
     "text": [
      "INFO:root:Extracted GTF attributes: ['gene_id', 'gene_type', 'gene_name', 'level', 'mgi_id', 'havana_gene', 'transcript_id', 'transcript_type', 'transcript_name', 'transcript_support_level', 'tag', 'havana_transcript', 'exon_number', 'exon_id', 'protein_id', 'ccdsid', 'ont']\n"
     ]
    }
   ],
   "source": [
    "df = read_gtf(\"/mnt/extproj/projekte/textmining/genome_annotations/gencode.vM25.annotation.gtf\")"
   ]
  },
  {
   "cell_type": "code",
   "execution_count": 6,
   "metadata": {},
   "outputs": [
    {
     "data": {
      "text/html": [
       "<div><style>\n",
       ".dataframe > thead > tr,\n",
       ".dataframe > tbody > tr {\n",
       "  text-align: right;\n",
       "  white-space: pre-wrap;\n",
       "}\n",
       "</style>\n",
       "<small>shape: (5, 25)</small><table border=\"1\" class=\"dataframe\"><thead><tr><th>seqname</th><th>source</th><th>feature</th><th>start</th><th>end</th><th>score</th><th>strand</th><th>frame</th><th>gene_id</th><th>gene_type</th><th>gene_name</th><th>level</th><th>mgi_id</th><th>havana_gene</th><th>transcript_id</th><th>transcript_type</th><th>transcript_name</th><th>transcript_support_level</th><th>tag</th><th>havana_transcript</th><th>exon_number</th><th>exon_id</th><th>protein_id</th><th>ccdsid</th><th>ont</th></tr><tr><td>cat</td><td>cat</td><td>cat</td><td>i64</td><td>i64</td><td>f32</td><td>cat</td><td>i64</td><td>str</td><td>str</td><td>str</td><td>str</td><td>str</td><td>str</td><td>str</td><td>str</td><td>str</td><td>str</td><td>str</td><td>str</td><td>str</td><td>str</td><td>str</td><td>str</td><td>str</td></tr></thead><tbody><tr><td>&quot;chr1&quot;</td><td>&quot;HAVANA&quot;</td><td>&quot;gene&quot;</td><td>3073253</td><td>3074322</td><td>null</td><td>&quot;+&quot;</td><td>0</td><td>&quot;ENSMUSG00000102693.1&quot;</td><td>&quot;TEC&quot;</td><td>&quot;4933401J01Rik&quot;</td><td>&quot;2&quot;</td><td>&quot;MGI:1918292&quot;</td><td>&quot;OTTMUSG00000049935.1&quot;</td><td>&quot;&quot;</td><td>&quot;&quot;</td><td>&quot;&quot;</td><td>&quot;&quot;</td><td>&quot;&quot;</td><td>&quot;&quot;</td><td>&quot;&quot;</td><td>&quot;&quot;</td><td>&quot;&quot;</td><td>&quot;&quot;</td><td>&quot;&quot;</td></tr><tr><td>&quot;chr1&quot;</td><td>&quot;HAVANA&quot;</td><td>&quot;transcript&quot;</td><td>3073253</td><td>3074322</td><td>null</td><td>&quot;+&quot;</td><td>0</td><td>&quot;ENSMUSG00000102693.1&quot;</td><td>&quot;TEC&quot;</td><td>&quot;4933401J01Rik&quot;</td><td>&quot;2&quot;</td><td>&quot;MGI:1918292&quot;</td><td>&quot;OTTMUSG00000049935.1&quot;</td><td>&quot;ENSMUST00000193812.1&quot;</td><td>&quot;TEC&quot;</td><td>&quot;4933401J01Rik-201&quot;</td><td>&quot;NA&quot;</td><td>&quot;basic&quot;</td><td>&quot;OTTMUST00000127109.1&quot;</td><td>&quot;&quot;</td><td>&quot;&quot;</td><td>&quot;&quot;</td><td>&quot;&quot;</td><td>&quot;&quot;</td></tr><tr><td>&quot;chr1&quot;</td><td>&quot;HAVANA&quot;</td><td>&quot;exon&quot;</td><td>3073253</td><td>3074322</td><td>null</td><td>&quot;+&quot;</td><td>0</td><td>&quot;ENSMUSG00000102693.1&quot;</td><td>&quot;TEC&quot;</td><td>&quot;4933401J01Rik&quot;</td><td>&quot;2&quot;</td><td>&quot;MGI:1918292&quot;</td><td>&quot;OTTMUSG00000049935.1&quot;</td><td>&quot;ENSMUST00000193812.1&quot;</td><td>&quot;TEC&quot;</td><td>&quot;4933401J01Rik-201&quot;</td><td>&quot;NA&quot;</td><td>&quot;basic&quot;</td><td>&quot;OTTMUST00000127109.1&quot;</td><td>&quot;1&quot;</td><td>&quot;ENSMUSE00001343744.1&quot;</td><td>&quot;&quot;</td><td>&quot;&quot;</td><td>&quot;&quot;</td></tr><tr><td>&quot;chr1&quot;</td><td>&quot;ENSEMBL&quot;</td><td>&quot;gene&quot;</td><td>3102016</td><td>3102125</td><td>null</td><td>&quot;+&quot;</td><td>0</td><td>&quot;ENSMUSG00000064842.1&quot;</td><td>&quot;snRNA&quot;</td><td>&quot;Gm26206&quot;</td><td>&quot;3&quot;</td><td>&quot;MGI:5455983&quot;</td><td>&quot;&quot;</td><td>&quot;&quot;</td><td>&quot;&quot;</td><td>&quot;&quot;</td><td>&quot;&quot;</td><td>&quot;&quot;</td><td>&quot;&quot;</td><td>&quot;&quot;</td><td>&quot;&quot;</td><td>&quot;&quot;</td><td>&quot;&quot;</td><td>&quot;&quot;</td></tr><tr><td>&quot;chr1&quot;</td><td>&quot;ENSEMBL&quot;</td><td>&quot;transcript&quot;</td><td>3102016</td><td>3102125</td><td>null</td><td>&quot;+&quot;</td><td>0</td><td>&quot;ENSMUSG00000064842.1&quot;</td><td>&quot;snRNA&quot;</td><td>&quot;Gm26206&quot;</td><td>&quot;3&quot;</td><td>&quot;MGI:5455983&quot;</td><td>&quot;&quot;</td><td>&quot;ENSMUST00000082908.1&quot;</td><td>&quot;snRNA&quot;</td><td>&quot;Gm26206-201&quot;</td><td>&quot;NA&quot;</td><td>&quot;basic&quot;</td><td>&quot;&quot;</td><td>&quot;&quot;</td><td>&quot;&quot;</td><td>&quot;&quot;</td><td>&quot;&quot;</td><td>&quot;&quot;</td></tr></tbody></table></div>"
      ],
      "text/plain": [
       "shape: (5, 25)\n",
       "┌─────────┬─────────┬────────────┬─────────┬───┬──────────────────────┬────────────┬────────┬─────┐\n",
       "│ seqname ┆ source  ┆ feature    ┆ start   ┆ … ┆ exon_id              ┆ protein_id ┆ ccdsid ┆ ont │\n",
       "│ ---     ┆ ---     ┆ ---        ┆ ---     ┆   ┆ ---                  ┆ ---        ┆ ---    ┆ --- │\n",
       "│ cat     ┆ cat     ┆ cat        ┆ i64     ┆   ┆ str                  ┆ str        ┆ str    ┆ str │\n",
       "╞═════════╪═════════╪════════════╪═════════╪═══╪══════════════════════╪════════════╪════════╪═════╡\n",
       "│ chr1    ┆ HAVANA  ┆ gene       ┆ 3073253 ┆ … ┆                      ┆            ┆        ┆     │\n",
       "│ chr1    ┆ HAVANA  ┆ transcript ┆ 3073253 ┆ … ┆                      ┆            ┆        ┆     │\n",
       "│ chr1    ┆ HAVANA  ┆ exon       ┆ 3073253 ┆ … ┆ ENSMUSE00001343744.1 ┆            ┆        ┆     │\n",
       "│ chr1    ┆ ENSEMBL ┆ gene       ┆ 3102016 ┆ … ┆                      ┆            ┆        ┆     │\n",
       "│ chr1    ┆ ENSEMBL ┆ transcript ┆ 3102016 ┆ … ┆                      ┆            ┆        ┆     │\n",
       "└─────────┴─────────┴────────────┴─────────┴───┴──────────────────────┴────────────┴────────┴─────┘"
      ]
     },
     "execution_count": 6,
     "metadata": {},
     "output_type": "execute_result"
    }
   ],
   "source": [
    "df.head()"
   ]
  },
  {
   "cell_type": "code",
   "execution_count": 7,
   "metadata": {},
   "outputs": [
    {
     "data": {
      "text/html": [
       "<div><style>\n",
       ".dataframe > thead > tr,\n",
       ".dataframe > tbody > tr {\n",
       "  text-align: right;\n",
       "  white-space: pre-wrap;\n",
       "}\n",
       "</style>\n",
       "<small>shape: (8, 7)</small><table border=\"1\" class=\"dataframe\"><thead><tr><th>seqname</th><th>start</th><th>end</th><th>gene_id</th><th>gene_type</th><th>gene_name</th><th>feature</th></tr><tr><td>cat</td><td>i64</td><td>i64</td><td>str</td><td>str</td><td>str</td><td>cat</td></tr></thead><tbody><tr><td>&quot;chr11&quot;</td><td>82035571</td><td>82037453</td><td>&quot;ENSMUSG00000035385.5&quot;</td><td>&quot;protein_coding&quot;</td><td>&quot;Ccl2&quot;</td><td>&quot;transcript&quot;</td></tr><tr><td>&quot;chr11&quot;</td><td>82035610</td><td>82037450</td><td>&quot;ENSMUSG00000035385.5&quot;</td><td>&quot;protein_coding&quot;</td><td>&quot;Ccl2&quot;</td><td>&quot;transcript&quot;</td></tr><tr><td>&quot;chr11&quot;</td><td>82036483</td><td>82036600</td><td>&quot;ENSMUSG00000035385.5&quot;</td><td>&quot;protein_coding&quot;</td><td>&quot;Ccl2&quot;</td><td>&quot;exon&quot;</td></tr><tr><td>&quot;chr11&quot;</td><td>82036483</td><td>82037450</td><td>&quot;ENSMUSG00000035385.5&quot;</td><td>&quot;protein_coding&quot;</td><td>&quot;Ccl2&quot;</td><td>&quot;exon&quot;</td></tr><tr><td>&quot;chr11&quot;</td><td>82035571</td><td>82035737</td><td>&quot;ENSMUSG00000035385.5&quot;</td><td>&quot;protein_coding&quot;</td><td>&quot;Ccl2&quot;</td><td>&quot;exon&quot;</td></tr><tr><td>&quot;chr11&quot;</td><td>82035571</td><td>82037453</td><td>&quot;ENSMUSG00000035385.5&quot;</td><td>&quot;protein_coding&quot;</td><td>&quot;Ccl2&quot;</td><td>&quot;gene&quot;</td></tr><tr><td>&quot;chr11&quot;</td><td>82035610</td><td>82035737</td><td>&quot;ENSMUSG00000035385.5&quot;</td><td>&quot;protein_coding&quot;</td><td>&quot;Ccl2&quot;</td><td>&quot;exon&quot;</td></tr><tr><td>&quot;chr11&quot;</td><td>82036926</td><td>82037453</td><td>&quot;ENSMUSG00000035385.5&quot;</td><td>&quot;protein_coding&quot;</td><td>&quot;Ccl2&quot;</td><td>&quot;exon&quot;</td></tr></tbody></table></div>"
      ],
      "text/plain": [
       "shape: (8, 7)\n",
       "┌─────────┬──────────┬──────────┬──────────────────────┬────────────────┬───────────┬────────────┐\n",
       "│ seqname ┆ start    ┆ end      ┆ gene_id              ┆ gene_type      ┆ gene_name ┆ feature    │\n",
       "│ ---     ┆ ---      ┆ ---      ┆ ---                  ┆ ---            ┆ ---       ┆ ---        │\n",
       "│ cat     ┆ i64      ┆ i64      ┆ str                  ┆ str            ┆ str       ┆ cat        │\n",
       "╞═════════╪══════════╪══════════╪══════════════════════╪════════════════╪═══════════╪════════════╡\n",
       "│ chr11   ┆ 82035571 ┆ 82037453 ┆ ENSMUSG00000035385.5 ┆ protein_coding ┆ Ccl2      ┆ transcript │\n",
       "│ chr11   ┆ 82035610 ┆ 82037450 ┆ ENSMUSG00000035385.5 ┆ protein_coding ┆ Ccl2      ┆ transcript │\n",
       "│ chr11   ┆ 82036483 ┆ 82036600 ┆ ENSMUSG00000035385.5 ┆ protein_coding ┆ Ccl2      ┆ exon       │\n",
       "│ chr11   ┆ 82036483 ┆ 82037450 ┆ ENSMUSG00000035385.5 ┆ protein_coding ┆ Ccl2      ┆ exon       │\n",
       "│ chr11   ┆ 82035571 ┆ 82035737 ┆ ENSMUSG00000035385.5 ┆ protein_coding ┆ Ccl2      ┆ exon       │\n",
       "│ chr11   ┆ 82035571 ┆ 82037453 ┆ ENSMUSG00000035385.5 ┆ protein_coding ┆ Ccl2      ┆ gene       │\n",
       "│ chr11   ┆ 82035610 ┆ 82035737 ┆ ENSMUSG00000035385.5 ┆ protein_coding ┆ Ccl2      ┆ exon       │\n",
       "│ chr11   ┆ 82036926 ┆ 82037453 ┆ ENSMUSG00000035385.5 ┆ protein_coding ┆ Ccl2      ┆ exon       │\n",
       "└─────────┴──────────┴──────────┴──────────────────────┴────────────────┴───────────┴────────────┘"
      ]
     },
     "execution_count": 7,
     "metadata": {},
     "output_type": "execute_result"
    }
   ],
   "source": [
    "pl.Config.set_tbl_rows(50)\n",
    "df.filter(pl.col(\"gene_name\") == \"Ccl2\").filter(pl.col(\"feature\").is_in([\"gene\", \"transcript\", \"exon\"])).select([\"seqname\", \"start\", \"end\", \"gene_id\", \"gene_type\", \"gene_name\",\"feature\"]).unique()"
   ]
  },
  {
   "cell_type": "code",
   "execution_count": 8,
   "metadata": {},
   "outputs": [
    {
     "data": {
      "text/html": [
       "<div>\n",
       "<style scoped>\n",
       "    .dataframe tbody tr th:only-of-type {\n",
       "        vertical-align: middle;\n",
       "    }\n",
       "\n",
       "    .dataframe tbody tr th {\n",
       "        vertical-align: top;\n",
       "    }\n",
       "\n",
       "    .dataframe thead th {\n",
       "        text-align: right;\n",
       "    }\n",
       "</style>\n",
       "<table border=\"1\" class=\"dataframe\">\n",
       "  <thead>\n",
       "    <tr style=\"text-align: right;\">\n",
       "      <th></th>\n",
       "      <th>chr</th>\n",
       "      <th>start</th>\n",
       "      <th>end</th>\n",
       "      <th>gene_mir</th>\n",
       "      <th>score</th>\n",
       "      <th>strand</th>\n",
       "      <th>start2</th>\n",
       "      <th>end2</th>\n",
       "      <th>score8</th>\n",
       "      <th>score9</th>\n",
       "      <th>score10</th>\n",
       "      <th>score11</th>\n",
       "    </tr>\n",
       "  </thead>\n",
       "  <tbody>\n",
       "    <tr>\n",
       "      <th>0</th>\n",
       "      <td>chr1</td>\n",
       "      <td>3214499</td>\n",
       "      <td>3214506</td>\n",
       "      <td>Xkr4:miR-155-5p</td>\n",
       "      <td>75</td>\n",
       "      <td>-</td>\n",
       "      <td>3214499</td>\n",
       "      <td>3214506</td>\n",
       "      <td>30,144,255</td>\n",
       "      <td>1</td>\n",
       "      <td>7</td>\n",
       "      <td>0</td>\n",
       "    </tr>\n",
       "    <tr>\n",
       "      <th>1</th>\n",
       "      <td>chr1</td>\n",
       "      <td>3214511</td>\n",
       "      <td>3214518</td>\n",
       "      <td>Xkr4:miR-330-3p.2</td>\n",
       "      <td>95</td>\n",
       "      <td>-</td>\n",
       "      <td>3214511</td>\n",
       "      <td>3214518</td>\n",
       "      <td>255,0,0</td>\n",
       "      <td>1</td>\n",
       "      <td>7</td>\n",
       "      <td>0</td>\n",
       "    </tr>\n",
       "    <tr>\n",
       "      <th>2</th>\n",
       "      <td>chr1</td>\n",
       "      <td>3214513</td>\n",
       "      <td>3214520</td>\n",
       "      <td>Xkr4:miR-29-3p</td>\n",
       "      <td>97</td>\n",
       "      <td>-</td>\n",
       "      <td>3214513</td>\n",
       "      <td>3214520</td>\n",
       "      <td>255,0,0</td>\n",
       "      <td>1</td>\n",
       "      <td>7</td>\n",
       "      <td>0</td>\n",
       "    </tr>\n",
       "    <tr>\n",
       "      <th>3</th>\n",
       "      <td>chr1</td>\n",
       "      <td>3214882</td>\n",
       "      <td>3214889</td>\n",
       "      <td>Xkr4:miR-182-5p</td>\n",
       "      <td>92</td>\n",
       "      <td>-</td>\n",
       "      <td>3214882</td>\n",
       "      <td>3214889</td>\n",
       "      <td>30,144,255</td>\n",
       "      <td>1</td>\n",
       "      <td>7</td>\n",
       "      <td>0</td>\n",
       "    </tr>\n",
       "    <tr>\n",
       "      <th>4</th>\n",
       "      <td>chr1</td>\n",
       "      <td>3214882</td>\n",
       "      <td>3214890</td>\n",
       "      <td>Xkr4:miR-96-5p</td>\n",
       "      <td>99</td>\n",
       "      <td>-</td>\n",
       "      <td>3214882</td>\n",
       "      <td>3214890</td>\n",
       "      <td>128,0,128</td>\n",
       "      <td>1</td>\n",
       "      <td>8</td>\n",
       "      <td>0</td>\n",
       "    </tr>\n",
       "  </tbody>\n",
       "</table>\n",
       "</div>"
      ],
      "text/plain": [
       "    chr    start      end           gene_mir  score strand   start2     end2  \\\n",
       "0  chr1  3214499  3214506    Xkr4:miR-155-5p     75      -  3214499  3214506   \n",
       "1  chr1  3214511  3214518  Xkr4:miR-330-3p.2     95      -  3214511  3214518   \n",
       "2  chr1  3214513  3214520     Xkr4:miR-29-3p     97      -  3214513  3214520   \n",
       "3  chr1  3214882  3214889    Xkr4:miR-182-5p     92      -  3214882  3214889   \n",
       "4  chr1  3214882  3214890     Xkr4:miR-96-5p     99      -  3214882  3214890   \n",
       "\n",
       "       score8  score9 score10 score11  \n",
       "0  30,144,255       1       7       0  \n",
       "1     255,0,0       1       7       0  \n",
       "2     255,0,0       1       7       0  \n",
       "3  30,144,255       1       7       0  \n",
       "4   128,0,128       1       8       0  "
      ]
     },
     "execution_count": 8,
     "metadata": {},
     "output_type": "execute_result"
    }
   ],
   "source": [
    "mirBSDF = pd.read_csv(\"../../../genome_annotations/Predicted_Target_Locations.default_predictions.mm10.bed\", sep=\"\\t\",header=None)\n",
    "mirBSDF.columns = (\"chr\", \"start\", \"end\", \"gene_mir\", \"score\", \"strand\", \"start2\", \"end2\", \"score8\", \"score9\", \"score10\", \"score11\")\n",
    "mirBSDF.head(5)"
   ]
  },
  {
   "cell_type": "code",
   "execution_count": 9,
   "metadata": {},
   "outputs": [
    {
     "name": "stdout",
     "output_type": "stream",
     "text": [
      "            miR family  Seed+m8  Species ID       MiRBase ID  \\\n",
      "33  let-7-3p/miR-98-3p  UAUACAA       10090  mmu-let-7a-1-3p   \n",
      "34  let-7-3p/miR-98-3p  UAUACAA       10090    mmu-let-7b-3p   \n",
      "35  let-7-3p/miR-98-3p  UAUACAA       10090  mmu-let-7c-2-3p   \n",
      "36  let-7-3p/miR-98-3p  UAUACAA       10090  mmu-let-7f-1-3p   \n",
      "37  let-7-3p/miR-98-3p  UAUACAA       10090    mmu-miR-98-3p   \n",
      "\n",
      "           Mature sequence  Family Conservation? MiRBase Accession  \n",
      "33  CUAUACAAUCUACUGUCUUUCC                    -1      MIMAT0004620  \n",
      "34  CUAUACAACCUACUGCCUUCCC                    -1      MIMAT0004621  \n",
      "35  CUAUACAAUCUACUGUCUUUCC                    -1      MIMAT0005439  \n",
      "36  CUAUACAAUCUAUUGCCUUCCC                    -1      MIMAT0004623  \n",
      "37  CUAUACAACUUACUACUUUCCU                    -1      MIMAT0017023  \n"
     ]
    }
   ],
   "source": [
    "mirFamilies = pd.read_csv(\"../../../genome_annotations/miR_Family_Info.txt\", sep=\"\\t\")\n",
    "mirFamilies = mirFamilies[mirFamilies[\"Species ID\"].isin([10090])]\n",
    "print(mirFamilies.head())\n",
    "\n",
    "mirFamily2miRNA = defaultdict(set)\n",
    "\n",
    "for ri, row in mirFamilies.iterrows():\n",
    "    mirFamily2miRNA[ row[\"miR family\"] ].add( row[\"MiRBase ID\"] )"
   ]
  },
  {
   "cell_type": "code",
   "execution_count": 10,
   "metadata": {},
   "outputs": [],
   "source": [
    "gene2mir2locations = defaultdict(lambda : defaultdict(set))\n",
    "\n",
    "for ri, row in mirBSDF.iterrows():\n",
    "    loc = (row[\"chr\"], row[\"start\"], row[\"end\"], row[\"strand\"])\n",
    "        \n",
    "    gene = row[\"gene_mir\"].split(\":\")[0]\n",
    "    mirFamily = row[\"gene_mir\"].split(\":\")[1]\n",
    "    \n",
    "    mirnas = mirFamily2miRNA[mirFamily]\n",
    "        \n",
    "\n",
    "    for mirna in mirnas:\n",
    "        \n",
    "        entryName = \"-\".join(mirna.split(\"-\")[1:3]).replace(\"mir\", \"miR\")\n",
    "        \n",
    "        gene2mir2locations[gene][entryName].add(loc)\n",
    "        \n"
   ]
  },
  {
   "cell_type": "code",
   "execution_count": 11,
   "metadata": {},
   "outputs": [
    {
     "data": {
      "text/plain": [
       "defaultdict(set,\n",
       "            {'miR-6540': {('chr11', 82037195, 82037203, '+')},\n",
       "             'miR-124': {('chr11', 82037195, 82037203, '+')},\n",
       "             'miR-5624': {('chr11', 82037195, 82037203, '+')}})"
      ]
     },
     "execution_count": 11,
     "metadata": {},
     "output_type": "execute_result"
    }
   ],
   "source": [
    "gene2mir2locations[\"Ccl2\"]"
   ]
  },
  {
   "cell_type": "code",
   "execution_count": 12,
   "metadata": {},
   "outputs": [],
   "source": [
    "ctable = {\"gene\": \"blueviolet\", \"mirna\": \"purple\", \"*\": \"black\" }\n",
    "\n",
    "def rowToExonGTF(row, exonID, padding, startOffset = 0, genomeName=None):\n",
    "    \n",
    "    startOffset = int(startOffset)-padding\n",
    "    \n",
    "    geneID = row[3]\n",
    "    geneName = row[5]\n",
    "    geneType = row[4]\n",
    "    \n",
    "    if genomeName is None:\n",
    "        genomeName = geneName\n",
    "    \n",
    "    geneType = \"gene\"\n",
    "    \n",
    "    entryStart = int(row[1])\n",
    "    entryEnd = int(row[2])\n",
    "        \n",
    "    if row[7] == \"gene\":\n",
    "        gtfEntry = (genomeName, \"MXPLORE\", row[7], entryStart-startOffset, entryEnd-startOffset, \".\", row[6], \".\", 'gene_id \"{geneName}\"; gene_type \"{geneType}\"; gene_name \"{geneName}\";'.format(geneName=geneName, geneType=geneType) )\n",
    "    elif row[7] == \"transcript\":\n",
    "        gtfEntry = (genomeName, \"MXPLORE\", row[7], entryStart-startOffset, entryEnd-startOffset, \".\", row[6], \".\", 'gene_id \"{geneName}\"; gene_type \"{geneType}\"; gene_name \"{geneName}\"; transcript_type \"{geneType}\"; transcript_name \"{geneName}\"; transcript_id \"{geneName}\";'.format(geneName=geneName, geneType=geneType) )\n",
    "    elif row[7] == \"mirna\":\n",
    "        geneType = \"mirna\"\n",
    "        gtfEntry = (genomeName, \"MXPLORE\", row[7], entryStart-startOffset, entryEnd-startOffset, \".\", row[6], \".\", 'gene_id \"{geneName}\"; gene_type \"{geneType}\"; gene_name \"{geneName}\"; transcript_type \"{geneType}\"; transcript_name \"{geneName}\"; transcript_id \"{geneName}\"; exon_id \"exon_{exonID}\"; exon_number {exonID};'.format(geneName=geneName, geneType=geneType, exonID=exonID) )\n",
    "    elif row[7] in [\"exon\", \"CDS\"]:\n",
    "        gtfEntry = (genomeName, \"MXPLORE\", row[7], entryStart-startOffset, entryEnd-startOffset, \".\", row[6], \".\", 'gene_id \"{geneName}\"; gene_type \"{geneType}\"; gene_name \"{geneName}\"; transcript_type \"{geneType}\"; transcript_name \"{geneName}\"; transcript_id \"{geneName}\"; exon_id \"exon_{exonID}\"; exon_number {exonID};'.format(geneName=geneName, geneType=geneType, exonID=exonID) )\n",
    "    \n",
    "    gtfEntry = list(gtfEntry)\n",
    "    gtfEntry.append(\" \")\n",
    "    \n",
    "    return \"\\t\".join([str(x) for x in gtfEntry])\n",
    "\n",
    "def create_annotation_for_gene(selected_gene, padding=100):\n",
    "\n",
    "    tree = IntervalTree()\n",
    "    geneDF = df.filter(pl.col(\"gene_name\") == selected_gene).filter(pl.col(\"feature\").is_in([\"gene\", \"exon\"])).select([\"seqname\", \"start\", \"end\", \"gene_id\", \"gene_type\", \"gene_name\", \"strand\", \"feature\"]).unique()\n",
    "\n",
    "    geneRow = None\n",
    "    for row in geneDF.iter_rows():\n",
    "        \n",
    "        row = list(row)\n",
    "        row[2] = row[2] + 1\n",
    "        row = tuple(row)\n",
    "        \n",
    "        if row[-1] == \"exon\":\n",
    "            tree.addi(row[1], row[2], row)\n",
    "            \n",
    "        elif row[-1] == \"gene\":\n",
    "            geneRow = row\n",
    "            \n",
    "    def add_set_elem(inset, elem):\n",
    "        inset.add(elem)\n",
    "        return inset\n",
    "\n",
    "    tree.merge_overlaps(data_reducer=lambda x,y: add_set_elem(x,y), data_initializer=set())\n",
    "\n",
    "    gene_io = StringIO(\"\")\n",
    "    #print(rowToExonGTF(geneRow, None, startOffset = geneRow[1]), file=gene_io)\n",
    "    #print(geneRow)\n",
    "\n",
    "    txRow = list(geneRow)\n",
    "    txRow[7] = \"transcript\"\n",
    "    print(rowToExonGTF(txRow, None, padding=padding, startOffset = geneRow[1]), file=gene_io)\n",
    "\n",
    "    treeIntervals = [x for x in tree]\n",
    "\n",
    "    if geneRow[6] == \"+\":\n",
    "        treeIntervals = sorted(treeIntervals, key=lambda x: x.begin)\n",
    "    else:\n",
    "        treeIntervals = sorted(treeIntervals, key=lambda x: x.end, reverse=True)\n",
    "\n",
    "    for i, intv in enumerate(treeIntervals):\n",
    "        dataElem = list(list(intv.data)[0]) \n",
    "        \n",
    "        dataElem[1] = intv.begin\n",
    "        dataElem[2] = intv.end\n",
    "        \n",
    "        print(rowToExonGTF(dataElem, i, padding=padding, startOffset = geneRow[1]), file=gene_io)\n",
    "\n",
    "    gene_io.seek(0)\n",
    "    geneStr = gene_io.read()\n",
    "\n",
    "\n",
    "    geneData = base64.b64encode(gzip.compress(bytes(geneStr, \"utf-8\")))\n",
    "\n",
    "    all_tracks = [\n",
    "        {\"name\": \"{} structure\".format(selected_gene), \"format\": \"gtf\", \"url\": \"data:application/gzip;base64,{}\".format(geneData.decode()),\"displayMode\":\"EXPANDED\",\"type\":\"annotation\",\"autoHeight\":\"true\", \"colorBy\": \"gene_type\", \"colorTable\": ctable},\n",
    "    ]\n",
    "\n",
    "\n",
    "    gene_sequence = all_fasta_seq[geneRow[0]][ (geneRow[1]-padding):(geneRow[2]+padding) ]\n",
    "    \n",
    "    if geneRow[6] == \"-\":\n",
    "        # complement sequence\n",
    "        rawSeq = Seq(gene_sequence)\n",
    "        newSeq = rawSeq.complement()\n",
    "        gene_sequence = str(newSeq)\n",
    "    \n",
    "    genomeSeq = \">{}\\n{}\".format(selected_gene, gene_sequence)\n",
    "    genomeData = base64.b64encode(gzip.compress(bytes(genomeSeq, \"utf-8\")))\n",
    "\n",
    "\n",
    "    idxName = selected_gene\n",
    "    idxLength = len(gene_sequence)\n",
    "    idxOffset = len(selected_gene) + 2\n",
    "    idxLineBases = len(gene_sequence)\n",
    "    idxLineWidth = idxLineBases\n",
    "\n",
    "    idxStr = \"{}\\t{}\\t{}\\t{}\\t{}\\n\".format(idxName, idxLength, idxOffset, idxLineBases, idxLineWidth)\n",
    "    idxData = base64.b64encode(gzip.compress(bytes(idxStr, \"utf-8\")))\n",
    "\n",
    "    outputjson = {\n",
    "        \"geneIdEnsembl\":selected_gene,\n",
    "        \"geneSymbolHgnc\":selected_gene,\n",
    "        \"genome\":\n",
    "            {\n",
    "                \"id\":selected_gene,\n",
    "                \"name\":selected_gene,\n",
    "                \"fastaURL\": \"data:application/gzip;base64,{}\".format(genomeData.decode()),\n",
    "                \"indexURL\":\"data:application/gzip;base64,{}\".format(idxData.decode())\n",
    "            },\n",
    "        \"tracks\": all_tracks,\n",
    "        \"startOffset\": geneRow[1]\n",
    "    }\n",
    "\n",
    "    return outputjson\n",
    "\n",
    "def create_tracks_mirna(selected_gene, selected_mirna, startOffset, padding):   \n",
    "    \n",
    "    mirnaBindingSites = gene2mir2locations.get(selected_gene, {}).get(selected_mirna, []) #{('chr2', 136872166, 136872174, '-')}\n",
    "\n",
    "    mirna_io = StringIO(\"\")\n",
    "\n",
    "    for i, bs in enumerate(mirnaBindingSites):\n",
    "        mirna_data = (bs[0], bs[1], bs[2], selected_mirna, 'mirna', selected_mirna, bs[3], 'mirna')\n",
    "        print(rowToExonGTF(mirna_data, i, padding=padding, startOffset = startOffset, genomeName=selected_gene), file=mirna_io)\n",
    "        \n",
    "    mirna_io.seek(0)\n",
    "    mirStr = mirna_io.read()\n",
    "    mirnaData = base64.b64encode(gzip.compress(bytes(mirStr, \"utf-8\")))\n",
    "    \n",
    "    mirTrack = {\"name\": \"{} binding sites\".format(selected_mirna), \"format\": \"gtf\", \"url\": \"data:application/gzip;base64,{}\".format(mirnaData.decode()),\"displayMode\":\"EXPANDED\",\"type\":\"annotation\",\"autoHeight\":\"true\", \"colorBy\": \"gene_type\", \"colorTable\": ctable}\n",
    "\n",
    "    return mirTrack"
   ]
  },
  {
   "cell_type": "code",
   "execution_count": 13,
   "metadata": {},
   "outputs": [
    {
     "data": {
      "text/plain": [
       "55291"
      ]
     },
     "execution_count": 13,
     "metadata": {},
     "output_type": "execute_result"
    }
   ],
   "source": [
    "allGenes = set(df[\"gene_name\"].unique())\n",
    "len(allGenes)"
   ]
  },
  {
   "cell_type": "code",
   "execution_count": 14,
   "metadata": {},
   "outputs": [],
   "source": [
    "padding=100"
   ]
  },
  {
   "cell_type": "code",
   "execution_count": 15,
   "metadata": {},
   "outputs": [
    {
     "name": "stdout",
     "output_type": "stream",
     "text": [
      "gene index 0\n",
      "gene index 1000\n",
      "gene index 2000\n",
      "gene index 3000\n",
      "gene index 4000\n",
      "gene index 5000\n",
      "gene index 6000\n",
      "gene index 7000\n",
      "gene index 8000\n",
      "gene index 9000\n",
      "gene index 10000\n",
      "gene index 11000\n",
      "gene index 12000\n",
      "gene index 13000\n",
      "gene index 14000\n",
      "gene index 15000\n",
      "gene index 16000\n",
      "gene index 17000\n",
      "gene index 18000\n",
      "gene index 19000\n",
      "gene index 20000\n",
      "gene index 21000\n",
      "gene index 22000\n",
      "gene index 23000\n",
      "gene index 24000\n",
      "gene index 25000\n",
      "gene index 26000\n",
      "gene index 27000\n",
      "gene index 28000\n",
      "gene index 29000\n",
      "gene index 30000\n",
      "gene index 31000\n",
      "gene index 32000\n",
      "gene index 33000\n",
      "gene index 34000\n",
      "gene index 35000\n",
      "gene index 36000\n",
      "gene index 37000\n",
      "gene index 38000\n",
      "gene index 39000\n",
      "gene index 40000\n",
      "gene index 41000\n",
      "gene index 42000\n",
      "gene index 43000\n",
      "gene index 44000\n",
      "gene index 45000\n",
      "gene index 46000\n",
      "gene index 47000\n",
      "gene index 48000\n",
      "gene index 49000\n",
      "gene index 50000\n",
      "gene index 51000\n",
      "gene index 52000\n",
      "gene index 53000\n",
      "gene index 54000\n",
      "gene index 55000\n"
     ]
    }
   ],
   "source": [
    "allGeneAnnots = {}\n",
    "\n",
    "for i, gene in enumerate(allGenes):\n",
    "    \n",
    "    if i % 1000 == 0:\n",
    "        print(\"gene index\", i)\n",
    "    geneAnnot = create_annotation_for_gene(gene, padding=padding)\n",
    "    gene = gene.upper()\n",
    "    allGeneAnnots[gene] = geneAnnot\n"
   ]
  },
  {
   "cell_type": "code",
   "execution_count": 26,
   "metadata": {},
   "outputs": [],
   "source": [
    "#allGeneAnnots = {x.upper(): allGeneAnnots[x] for x in allGeneAnnots}"
   ]
  },
  {
   "cell_type": "code",
   "execution_count": 34,
   "metadata": {},
   "outputs": [],
   "source": [
    "import pickle\n",
    "with open(\"mm10_gene_annotation.pickle\", \"wb\") as fout:\n",
    "    pickle.dump(allGeneAnnots, fout)"
   ]
  },
  {
   "cell_type": "code",
   "execution_count": 17,
   "metadata": {},
   "outputs": [
    {
     "data": {
      "text/html": [
       "<div>\n",
       "<style scoped>\n",
       "    .dataframe tbody tr th:only-of-type {\n",
       "        vertical-align: middle;\n",
       "    }\n",
       "\n",
       "    .dataframe tbody tr th {\n",
       "        vertical-align: top;\n",
       "    }\n",
       "\n",
       "    .dataframe thead th {\n",
       "        text-align: right;\n",
       "    }\n",
       "</style>\n",
       "<table border=\"1\" class=\"dataframe\">\n",
       "  <thead>\n",
       "    <tr style=\"text-align: right;\">\n",
       "      <th></th>\n",
       "      <th>chr</th>\n",
       "      <th>start</th>\n",
       "      <th>end</th>\n",
       "      <th>gene_mir</th>\n",
       "      <th>score</th>\n",
       "      <th>strand</th>\n",
       "      <th>start2</th>\n",
       "      <th>end2</th>\n",
       "      <th>score8</th>\n",
       "      <th>score9</th>\n",
       "      <th>score10</th>\n",
       "      <th>score11</th>\n",
       "    </tr>\n",
       "  </thead>\n",
       "  <tbody>\n",
       "    <tr>\n",
       "      <th>0</th>\n",
       "      <td>chr1</td>\n",
       "      <td>3214499</td>\n",
       "      <td>3214506</td>\n",
       "      <td>Xkr4:miR-155-5p</td>\n",
       "      <td>75</td>\n",
       "      <td>-</td>\n",
       "      <td>3214499</td>\n",
       "      <td>3214506</td>\n",
       "      <td>30,144,255</td>\n",
       "      <td>1</td>\n",
       "      <td>7</td>\n",
       "      <td>0</td>\n",
       "    </tr>\n",
       "    <tr>\n",
       "      <th>1</th>\n",
       "      <td>chr1</td>\n",
       "      <td>3214511</td>\n",
       "      <td>3214518</td>\n",
       "      <td>Xkr4:miR-330-3p.2</td>\n",
       "      <td>95</td>\n",
       "      <td>-</td>\n",
       "      <td>3214511</td>\n",
       "      <td>3214518</td>\n",
       "      <td>255,0,0</td>\n",
       "      <td>1</td>\n",
       "      <td>7</td>\n",
       "      <td>0</td>\n",
       "    </tr>\n",
       "    <tr>\n",
       "      <th>2</th>\n",
       "      <td>chr1</td>\n",
       "      <td>3214513</td>\n",
       "      <td>3214520</td>\n",
       "      <td>Xkr4:miR-29-3p</td>\n",
       "      <td>97</td>\n",
       "      <td>-</td>\n",
       "      <td>3214513</td>\n",
       "      <td>3214520</td>\n",
       "      <td>255,0,0</td>\n",
       "      <td>1</td>\n",
       "      <td>7</td>\n",
       "      <td>0</td>\n",
       "    </tr>\n",
       "    <tr>\n",
       "      <th>3</th>\n",
       "      <td>chr1</td>\n",
       "      <td>3214882</td>\n",
       "      <td>3214889</td>\n",
       "      <td>Xkr4:miR-182-5p</td>\n",
       "      <td>92</td>\n",
       "      <td>-</td>\n",
       "      <td>3214882</td>\n",
       "      <td>3214889</td>\n",
       "      <td>30,144,255</td>\n",
       "      <td>1</td>\n",
       "      <td>7</td>\n",
       "      <td>0</td>\n",
       "    </tr>\n",
       "    <tr>\n",
       "      <th>4</th>\n",
       "      <td>chr1</td>\n",
       "      <td>3214882</td>\n",
       "      <td>3214890</td>\n",
       "      <td>Xkr4:miR-96-5p</td>\n",
       "      <td>99</td>\n",
       "      <td>-</td>\n",
       "      <td>3214882</td>\n",
       "      <td>3214890</td>\n",
       "      <td>128,0,128</td>\n",
       "      <td>1</td>\n",
       "      <td>8</td>\n",
       "      <td>0</td>\n",
       "    </tr>\n",
       "  </tbody>\n",
       "</table>\n",
       "</div>"
      ],
      "text/plain": [
       "    chr    start      end           gene_mir  score strand   start2     end2  \\\n",
       "0  chr1  3214499  3214506    Xkr4:miR-155-5p     75      -  3214499  3214506   \n",
       "1  chr1  3214511  3214518  Xkr4:miR-330-3p.2     95      -  3214511  3214518   \n",
       "2  chr1  3214513  3214520     Xkr4:miR-29-3p     97      -  3214513  3214520   \n",
       "3  chr1  3214882  3214889    Xkr4:miR-182-5p     92      -  3214882  3214889   \n",
       "4  chr1  3214882  3214890     Xkr4:miR-96-5p     99      -  3214882  3214890   \n",
       "\n",
       "       score8  score9 score10 score11  \n",
       "0  30,144,255       1       7       0  \n",
       "1     255,0,0       1       7       0  \n",
       "2     255,0,0       1       7       0  \n",
       "3  30,144,255       1       7       0  \n",
       "4   128,0,128       1       8       0  "
      ]
     },
     "execution_count": 17,
     "metadata": {},
     "output_type": "execute_result"
    }
   ],
   "source": [
    "mirBSDF.head(5)"
   ]
  },
  {
   "cell_type": "code",
   "execution_count": 27,
   "metadata": {},
   "outputs": [
    {
     "name": "stdout",
     "output_type": "stream",
     "text": [
      "{'name': 'miR-155 binding sites', 'format': 'gtf', 'url': 'data:application/gzip;base64,H4sIANzLYmYC/4vILjLh9I0I8PEPcuXMzSzKS+S0MLO04LQwNzDl1OPUBeL01LzU+MwUBaXczCBdQ1NTJWsFsFBJZUEqSBCoByaUl5ibiqyupCgxrzi5KLOgBE01kgQePaiWplbk54GFwAwDmEheaW5SapGCgTWnAhcA3wY2TM4AAAA=', 'displayMode': 'EXPANDED', 'type': 'annotation', 'autoHeight': 'true', 'colorBy': 'gene_type', 'colorTable': {'gene': 'blueviolet', 'mirna': 'purple', '*': 'black'}}\n",
      "{'name': 'miR-330 binding sites', 'format': 'gtf', 'url': 'data:application/gzip;base64,H4sIANzLYmYC/4vILjLh9I0I8PEPcuXMzSzKS+S0MDc0ABHmnHqcukCcnpqXGp+ZoqCUmxmka2xsoGStABYqqSxIBQkC9cCE8hJzU5HVlRQl5hUnF2UWlKCpRpLAowfV0tSK/DywEJgBF8krzU1KLVIwsOZU4AIA7HCNcs4AAAA=', 'displayMode': 'EXPANDED', 'type': 'annotation', 'autoHeight': 'true', 'colorBy': 'gene_type', 'colorTable': {'gene': 'blueviolet', 'mirna': 'purple', '*': 'black'}}\n",
      "{'name': 'miR-29c binding sites', 'format': 'gtf', 'url': 'data:application/gzip;base64,H4sIANzLYmYC/4vILjLh9I0I8PEPcuXMzSzKS+S0MDc0AhGWnHqcukCcnpqXGp+ZoqCUmxmka2SZrGStABYqqSxIBQkC9cCE8hJzU5HVlRQl5hUnF2UWlKCpRpLAowfV0tSK/DywEJhhABPJK81NSi1SMLDmVOACAPQVHgDOAAAA', 'displayMode': 'EXPANDED', 'type': 'annotation', 'autoHeight': 'true', 'colorBy': 'gene_type', 'colorTable': {'gene': 'blueviolet', 'mirna': 'purple', '*': 'black'}}\n",
      "{'name': 'miR-29a binding sites', 'format': 'gtf', 'url': 'data:application/gzip;base64,H4sIANzLYmYC/4vILjLh9I0I8PEPcuXMzSzKS+S0MDc0AhGWnHqcukCcnpqXGp+ZoqCUmxmka2SZqGStABYqqSxIBQkC9cCE8hJzU5HVlRQl5hUnF2UWlKCpRpLAowfV0tSK/DywEJhhABPJK81NSi1SMLDmVOACAJUOnGHOAAAA', 'displayMode': 'EXPANDED', 'type': 'annotation', 'autoHeight': 'true', 'colorBy': 'gene_type', 'colorTable': {'gene': 'blueviolet', 'mirna': 'purple', '*': 'black'}}\n",
      "{'name': 'miR-29b binding sites', 'format': 'gtf', 'url': 'data:application/gzip;base64,H4sIANzLYmYC/4vILjLh9I0I8PEPcuXMzSzKS+S0MDc0AhGWnHqcukCcnpqXGp+ZoqCUmxmka2SZpGStABYqqSxIBQkC9cCE8hJzU5HVlRQl5hUnF2UWlKCpRpLAowfV0tSK/DywEJhhABPJK81NSi1SMLDmVOACAGSbZ93OAAAA', 'displayMode': 'EXPANDED', 'type': 'annotation', 'autoHeight': 'true', 'colorBy': 'gene_type', 'colorTable': {'gene': 'blueviolet', 'mirna': 'purple', '*': 'black'}}\n",
      "{'name': 'miR-182 binding sites', 'format': 'gtf', 'url': 'data:application/gzip;base64,H4sIANzLYmYC/4vILjLh9I0I8PEPcuXMzSzKS+S0NLAwBBEWnHqcukCcnpqXGp+ZoqCUmxmka2hhpGStABYqqSxIBQkC9cCE8hJzU5HVlRQl5hUnF2UWlKCpRpLAowfV0tSK/DywEJhhABPJK81NSi1SMLDmVOACAKjtez3OAAAA', 'displayMode': 'EXPANDED', 'type': 'annotation', 'autoHeight': 'true', 'colorBy': 'gene_type', 'colorTable': {'gene': 'blueviolet', 'mirna': 'purple', '*': 'black'}}\n",
      "{'name': 'miR-96 binding sites', 'format': 'gtf', 'url': 'data:application/gzip;base64,H4sIANzLYmYC/4vILjLh9I0I8PEPcuXMzSzKS+S0NLAwBBGWnHqcukCcnpqXGp+ZoqCUmxmka2mmZK0AFimpLEgFiQG1wITyEnNTkZSVFCXmFScXZRaUoClGksCtBcXG1Ir8PLAImGEAE8krzU1KLVIwsOZU4AIAru2rLcoAAAA=', 'displayMode': 'EXPANDED', 'type': 'annotation', 'autoHeight': 'true', 'colorBy': 'gene_type', 'colorTable': {'gene': 'blueviolet', 'mirna': 'purple', '*': 'black'}}\n",
      "{'name': 'miR-183 binding sites', 'format': 'gtf', 'url': 'data:application/gzip;base64,H4sIANzLYmYC/4vILjLh9I0I8PEPcuXMzSzKS+S0NLAwAhKWBpx6nLpAnJ6alxqfmaKglJsZpGtoYaxkrQAWKqksSAUJAvXAhPISc1OR1ZUUJeYVJxdlFpSgqUaSwKMH1dLUivw8sBCYYQATySvNTUotUjCw5lTgAgCBfcmtzgAAAA==', 'displayMode': 'EXPANDED', 'type': 'annotation', 'autoHeight': 'true', 'colorBy': 'gene_type', 'colorTable': {'gene': 'blueviolet', 'mirna': 'purple', '*': 'black'}}\n",
      "{'name': 'miR-129 binding sites', 'format': 'gtf', 'url': 'data:application/gzip;base64,H4sIANzLYmYC/4vILjLh9I0I8PEPcuXMzSzKS+S0NDYwBRKGRpx6nLpAnJ6alxqfmaKglJsZpGtoZKlkrQAWKqksSAUJAvXAhPISc1OR1ZUUJeYVJxdlFpSgqUaSwKMH1dLUivw8sBCYYQATySvNTUotUjCw5lTgAgDX9EDxzgAAAA==', 'displayMode': 'EXPANDED', 'type': 'annotation', 'autoHeight': 'true', 'colorBy': 'gene_type', 'colorTable': {'gene': 'blueviolet', 'mirna': 'purple', '*': 'black'}}\n",
      "{'name': 'miR-200b binding sites', 'format': 'gtf', 'url': 'data:application/gzip;base64,H4sIANzLYmYC/4vILjLh9I0I8PEPcuXMzSzKS+S0NDY0BxJGJpx6nLpAnJ6alxqfmaKglJsZpGtkYJCkZK0AFiupLEgFiQI1wYTyEnNTURSWFCXmFScXZRaUoClHksCnCc3e1Ir8PLAYmGEAE8krzU1KLVIwsOZU4AIA+z0/29IAAAA=', 'displayMode': 'EXPANDED', 'type': 'annotation', 'autoHeight': 'true', 'colorBy': 'gene_type', 'colorTable': {'gene': 'blueviolet', 'mirna': 'purple', '*': 'black'}}\n",
      "{'name': 'miR-429 binding sites', 'format': 'gtf', 'url': 'data:application/gzip;base64,H4sIANzLYmYC/4vILjLh9I0I8PEPcuXMzSzKS+S0NDY0BxJGJpx6nLpAnJ6alxqfmaKglJsZpGtiZKlkrQAWKqksSAUJAvXAhPISc1OR1ZUUJeYVJxdlFpSgqUaSwKMH1dLUivw8sBCYYQATySvNTUotUjCw5lTgAgCkVNCXzgAAAA==', 'displayMode': 'EXPANDED', 'type': 'annotation', 'autoHeight': 'true', 'colorBy': 'gene_type', 'colorTable': {'gene': 'blueviolet', 'mirna': 'purple', '*': 'black'}}\n",
      "{'name': 'miR-200c binding sites', 'format': 'gtf', 'url': 'data:application/gzip;base64,H4sIANzLYmYC/4vILjLh9I0I8PEPcuXMzSzKS+S0NDY0BxJGJpx6nLpAnJ6alxqfmaKglJsZpGtkYJCsZK0AFiupLEgFiQI1wYTyEnNTURSWFCXmFScXZRaUoClHksCnCc3e1Ir8PLAYmGEAE8krzU1KLVIwsOZU4AIALSoaENIAAAA=', 'displayMode': 'EXPANDED', 'type': 'annotation', 'autoHeight': 'true', 'colorBy': 'gene_type', 'colorTable': {'gene': 'blueviolet', 'mirna': 'purple', '*': 'black'}}\n",
      "{'name': 'miR-153 binding sites', 'format': 'gtf', 'url': 'data:application/gzip;base64,H4sIANzLYmYC/4vILjLh9I0I8PEPcuXMzSzKS+S0NLY05bQ0MTDi1OPUBeL01LzU+MwUBaXczCBdQ1NjJWsFsFBJZUEqSBCoByaUl5ibiqyupCgxrzi5KLOgBE01kgQePaiWplbk54GFwAwDmEheaW5SapGCgTWnAhcAq2RbFM4AAAA=', 'displayMode': 'EXPANDED', 'type': 'annotation', 'autoHeight': 'true', 'colorBy': 'gene_type', 'colorTable': {'gene': 'blueviolet', 'mirna': 'purple', '*': 'black'}}\n",
      "{'name': 'miR-876 binding sites', 'format': 'gtf', 'url': 'data:application/gzip;base64,H4sIANzLYmYC/4vILjLh9I0I8PEPcuXMzSzKS+S0NDEwBBEWnHqcukCcnpqXGp+ZoqCUmxmka2FupmStABYqqSxIBQkC9cCE8hJzU5HVlRQl5hUnF2UWlKCpRpLAowfV0tSK/DywEJhhABPJK81NSi1SMLDmVOACAHbfuXDOAAAA', 'displayMode': 'EXPANDED', 'type': 'annotation', 'autoHeight': 'true', 'colorBy': 'gene_type', 'colorTable': {'gene': 'blueviolet', 'mirna': 'purple', '*': 'black'}}\n",
      "{'name': 'miR-30e binding sites', 'format': 'gtf', 'url': 'data:application/gzip;base64,H4sIANzLYmYC/4vILjLh9I0I8PEPcuXMzSzKS+S0NDUwAxKGJpx6nLpAnJ6alxqfmaKglJsZpGtskKpkrQAWKqksSAUJAvXAhPISc1OR1ZUUJeYVJxdlFpSgqUaSwKMH1dLUivw8sBCYYQATySvNTUotUjCw5lTgAgDoO+yGzgAAAA==', 'displayMode': 'EXPANDED', 'type': 'annotation', 'autoHeight': 'true', 'colorBy': 'gene_type', 'colorTable': {'gene': 'blueviolet', 'mirna': 'purple', '*': 'black'}}\n",
      "{'name': 'miR-30a binding sites', 'format': 'gtf', 'url': 'data:application/gzip;base64,H4sIANzLYmYC/4vILjLh9I0I8PEPcuXMzSzKS+S0NDUwAxKGJpx6nLpAnJ6alxqfmaKglJsZpGtskKhkrQAWKqksSAUJAvXAhPISc1OR1ZUUJeYVJxdlFpSgqUaSwKMH1dLUivw8sBCYYQATySvNTUotUjCw5lTgAgAqDehFzgAAAA==', 'displayMode': 'EXPANDED', 'type': 'annotation', 'autoHeight': 'true', 'colorBy': 'gene_type', 'colorTable': {'gene': 'blueviolet', 'mirna': 'purple', '*': 'black'}}\n",
      "{'name': 'miR-30c binding sites', 'format': 'gtf', 'url': 'data:application/gzip;base64,H4sIANzLYmYC/4vILjLh9I0I8PEPcuXMzSzKS+S0NDUwAxKGJpx6nLpAnJ6alxqfmaKglJsZpGtskKxkrQAWKqksSAUJAvXAhPISc1OR1ZUUJeYVJxdlFpSgqUaSwKMH1dLUivw8sBCYYQATySvNTUotUjCw5lTgAgBLFmokzgAAAA==', 'displayMode': 'EXPANDED', 'type': 'annotation', 'autoHeight': 'true', 'colorBy': 'gene_type', 'colorTable': {'gene': 'blueviolet', 'mirna': 'purple', '*': 'black'}}\n",
      "{'name': 'miR-384 binding sites', 'format': 'gtf', 'url': 'data:application/gzip;base64,H4sIANzLYmYC/4vILjLh9I0I8PEPcuXMzSzKS+S0NDUwAxKGJpx6nLpAnJ6alxqfmaKglJsZpGtsYaJkrQAWKqksSAUJAvXAhPISc1OR1ZUUJeYVJxdlFpSgqUaSwKMH1dLUivw8sBCYYQATySvNTUotUjCw5lTgAgBNeWyMzgAAAA==', 'displayMode': 'EXPANDED', 'type': 'annotation', 'autoHeight': 'true', 'colorBy': 'gene_type', 'colorTable': {'gene': 'blueviolet', 'mirna': 'purple', '*': 'black'}}\n",
      "{'name': 'miR-30d binding sites', 'format': 'gtf', 'url': 'data:application/gzip;base64,H4sIANzLYmYC/4vILjLh9I0I8PEPcuXMzSzKS+S0NDUwAxKGJpx6nLpAnJ6alxqfmaKglJsZpGtskKJkrQAWKqksSAUJAvXAhPISc1OR1ZUUJeYVJxdlFpSgqUaSwKMH1dLUivw8sBCYYQATySvNTUotUjCw5lTgAgB4tZVbzgAAAA==', 'displayMode': 'EXPANDED', 'type': 'annotation', 'autoHeight': 'true', 'colorBy': 'gene_type', 'colorTable': {'gene': 'blueviolet', 'mirna': 'purple', '*': 'black'}}\n",
      "{'name': 'miR-30b binding sites', 'format': 'gtf', 'url': 'data:application/gzip;base64,H4sIANzLYmYC/4vILjLh9I0I8PEPcuXMzSzKS+S0NDUwAxKGJpx6nLpAnJ6alxqfmaKglJsZpGtskKRkrQAWKqksSAUJAvXAhPISc1OR1ZUUJeYVJxdlFpSgqUaSwKMH1dLUivw8sBCYYQATySvNTUotUjCw5lTgAgDbmBP5zgAAAA==', 'displayMode': 'EXPANDED', 'type': 'annotation', 'autoHeight': 'true', 'colorBy': 'gene_type', 'colorTable': {'gene': 'blueviolet', 'mirna': 'purple', '*': 'black'}}\n",
      "{'name': 'miR-137 binding sites', 'format': 'gtf', 'url': 'data:application/gzip;base64,H4sIANzLYmYC/4vILjLh9I0I8PEPcuXMzSzKS+Q0NDA0MwGR5oacepy6QJyempcan5mioJSbGaRraGyuZK0AFiqpLEgFCQJ1wYTyEnNTkdWVFCXmFScXZRaUoKlGksCjB9XS1Ir8PLAQmGEAE8krzU1KLVIwsOZU4AIARH0/S9AAAAA=', 'displayMode': 'EXPANDED', 'type': 'annotation', 'autoHeight': 'true', 'colorBy': 'gene_type', 'colorTable': {'gene': 'blueviolet', 'mirna': 'purple', '*': 'black'}}\n"
     ]
    }
   ],
   "source": [
    "allMirnaAnnots = dict()\n",
    "\n",
    "for ri, row in mirBSDF.iterrows():\n",
    "    \n",
    "    gene_mir = row[\"gene_mir\"]\n",
    "    gene, mir = gene_mir.split(\":\",1)\n",
    "    \n",
    "    mgene = gene.upper()\n",
    "    \n",
    "    for mir in gene2mir2locations[gene]:\n",
    "        \n",
    "        \n",
    "        \n",
    "        startOffset = allGeneAnnots.get(mgene, {}).get(\"startOffset\", -1)\n",
    "        \n",
    "        if startOffset < 0:\n",
    "            continue\n",
    "        \n",
    "        mirAnnot = create_tracks_mirna(gene, mir, startOffset, padding)\n",
    "        \n",
    "        if not gene in allMirnaAnnots:\n",
    "            allMirnaAnnots[mgene] = dict()\n",
    "        \n",
    "        allMirnaAnnots[mgene][mir] = mirAnnot\n",
    "        \n",
    "        if ri == 0:\n",
    "            print(mirAnnot)"
   ]
  },
  {
   "cell_type": "code",
   "execution_count": 33,
   "metadata": {},
   "outputs": [],
   "source": [
    "import pickle\n",
    "with open(\"mm10_mirna_annotation.pickle\", \"wb\") as fout:\n",
    "    pickle.dump(allMirnaAnnots, fout)"
   ]
  },
  {
   "cell_type": "code",
   "execution_count": 39,
   "metadata": {},
   "outputs": [],
   "source": [
    "import pickle\n",
    "with open(\"hg19_gene_annotation.pickle\", \"rb\") as fout:\n",
    "    allHGeneAnnots = pickle.load(fout)"
   ]
  },
  {
   "cell_type": "code",
   "execution_count": 40,
   "metadata": {},
   "outputs": [],
   "source": [
    "with open(\"hg19_mirna_annotation.pickle\", \"rb\") as fout:\n",
    "    allHMirAnnots = pickle.load(fout)"
   ]
  },
  {
   "cell_type": "code",
   "execution_count": 46,
   "metadata": {},
   "outputs": [
    {
     "data": {
      "text/plain": [
       "['miR-23a',\n",
       " 'miR-130a',\n",
       " 'miR-23b',\n",
       " 'miR-23c',\n",
       " 'miR-101',\n",
       " 'miR-144',\n",
       " 'miR-221',\n",
       " 'miR-1928',\n",
       " 'miR-222',\n",
       " 'miR-19b',\n",
       " 'miR-19a',\n",
       " 'miR-200a',\n",
       " 'miR-141',\n",
       " 'miR-137',\n",
       " 'miR-135a',\n",
       " 'miR-135b']"
      ]
     },
     "execution_count": 46,
     "metadata": {},
     "output_type": "execute_result"
    }
   ],
   "source": [
    "[x for x in allHMirAnnots[\"CXCL12\"]]"
   ]
  },
  {
   "cell_type": "code",
   "execution_count": null,
   "metadata": {},
   "outputs": [],
   "source": []
  }
 ],
 "metadata": {
  "kernelspec": {
   "display_name": "Python 3",
   "language": "python",
   "name": "python3"
  },
  "language_info": {
   "codemirror_mode": {
    "name": "ipython",
    "version": 3
   },
   "file_extension": ".py",
   "mimetype": "text/x-python",
   "name": "python",
   "nbconvert_exporter": "python",
   "pygments_lexer": "ipython3",
   "version": "3.11.9"
  }
 },
 "nbformat": 4,
 "nbformat_minor": 2
}
