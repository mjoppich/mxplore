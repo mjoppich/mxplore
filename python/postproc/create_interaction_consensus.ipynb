{
 "cells": [
  {
   "cell_type": "code",
   "execution_count": 1,
   "metadata": {},
   "outputs": [],
   "source": [
    "import os\n",
    "os.environ[\"JAVA_HOME\"] = \"/mnt/extproj/projekte/textmining/jdk/openlogic-openjdk-11.0.22+7-linux-x64\"\n"
   ]
  },
  {
   "cell_type": "code",
   "execution_count": 2,
   "metadata": {},
   "outputs": [],
   "source": [
    "from collections import defaultdict\n",
    "from pyspark.sql import SparkSession\n",
    "\n",
    "from pyspark.sql.functions import *\n",
    "from pyspark.sql.types import *\n",
    "\n",
    "from pyspark.sql import Window\n"
   ]
  },
  {
   "cell_type": "code",
   "execution_count": 3,
   "metadata": {},
   "outputs": [
    {
     "name": "stdout",
     "output_type": "stream",
     "text": [
      "Creating builder\n"
     ]
    },
    {
     "name": "stderr",
     "output_type": "stream",
     "text": [
      "/mnt/extproj/projekte/bartelt/software/miniconda3/envs/mirexplore/lib/python3.6/site-packages/pyspark/context.py:238: FutureWarning: Python 3.6 support is deprecated in Spark 3.2.\n",
      "  FutureWarning\n"
     ]
    }
   ],
   "source": [
    "if not \"spark\" in globals() or spark is None:\n",
    "    print(\"Creating builder\")\n",
    "    spark = SparkSession.builder.\\\n",
    "            config(\"spark.executor.memory\", \"70g\").\\\n",
    "            config(\"spark.driver.memory\", \"50g\").\\\n",
    "            config(\"spark.memory.offHeap.enabled\",True).\\\n",
    "            config(\"spark.memory.offHeap.size\",\"16g\").\\\n",
    "            config(\"spark.sql.shuffle.partitions\", 300).\\\n",
    "            appName('mirexplore').getOrCreate()\n",
    "    \n",
    "#spark.conf.set(\"spark.executor.memory\", \"70g\")\n",
    "#spark.conf.set(\"spark.driver.memory\", \"50g\")\n",
    "#spark.conf.set(\"spark.memory.offHeap.enabled\",True)\n",
    "#spark.conf.set(\"spark.memory.offHeap.size\",\"16g\")  \n",
    "#spark.conf.set(\"spark.sql.shuffle.partitions\", 300)"
   ]
  },
  {
   "cell_type": "code",
   "execution_count": 4,
   "metadata": {},
   "outputs": [],
   "source": [
    "df = spark.read.parquet(\"/mnt/extproj/projekte/textmining/mx_feb24/mx_mirna_gene_parquet/\")"
   ]
  },
  {
   "cell_type": "code",
   "execution_count": 5,
   "metadata": {},
   "outputs": [
    {
     "name": "stdout",
     "output_type": "stream",
     "text": [
      "+------------+-----------+-----------+---------+--------+---------------------+----------------+---------------+-----------------+--------------------+----------------+\n",
      "|miRNA_family| miRNA_name|gene_family|gene_name|organism|interaction_direction|interaction_type|evidence_source|evidence_document|       sent_evidence|     interaction|\n",
      "+------------+-----------+-----------+---------+--------+---------------------+----------------+---------------+-----------------+--------------------+----------------+\n",
      "|     miR-155|    miR-155|      ACSS2|      ACS|     hsa|             GENE_MIR|            DOWN|     mirexplore|         25319951|{25319951.2.8, {1...|{GENE_MIR, DOWN}|\n",
      "|     miR-155|    miR-155|       ACCS|      ACS|     hsa|             GENE_MIR|            DOWN|     mirexplore|         25319951|{25319951.2.8, {1...|{GENE_MIR, DOWN}|\n",
      "|     miR-155|    miR-155|   SERPINA5|      PCI|     hsa|             GENE_MIR|            DOWN|     mirexplore|         25319951|{25319951.2.8, {1...|{GENE_MIR, DOWN}|\n",
      "|     miR-155|    miR-155|   SERPINA5|      PCI|     hsa|             MIR_GENE|             NEU|     mirexplore|         25319951|{25319951.2.4, {3...| {MIR_GENE, NEU}|\n",
      "|     miR-34a|    miR-34a|     ELAVL1|      HuR|     hsa|             MIR_GENE|             NEU|     mirexplore|         25449213|{25449213.1.1, {5...| {MIR_GENE, NEU}|\n",
      "|     miR-34a|    miR-34a|       UFC1|     UFC1| mmu;hsa|             MIR_GENE|             NEU|     mirexplore|         25449213|{25449213.1.1, {5...| {MIR_GENE, NEU}|\n",
      "|    miR-125a|miR-125a-5p|     PTPN18|   PTPN18| mmu;hsa|             MIR_GENE|             NEU|     mirexplore|         25349971|{25349971.2.12, {...| {MIR_GENE, NEU}|\n",
      "|    miR-125a|miR-125a-5p|     PTPN18|   PTPN18| mmu;hsa|             MIR_GENE|            DOWN|     mirexplore|         25349971|{25349971.2.9, {1...|{MIR_GENE, DOWN}|\n",
      "|    miR-301a|   miR-301a|      SOCS6|    SOCS6| mmu;hsa|             MIR_GENE|              UP|     mirexplore|         25591765|{25591765.1.1, {0...|  {MIR_GENE, UP}|\n",
      "|    miR-301a|   miR-301a|      SOCS6|    SOCS6| mmu;hsa|             MIR_GENE|             NEU|     mirexplore|         25591765|{25591765.2.8, {5...| {MIR_GENE, NEU}|\n",
      "+------------+-----------+-----------+---------+--------+---------------------+----------------+---------------+-----------------+--------------------+----------------+\n",
      "only showing top 10 rows\n",
      "\n"
     ]
    }
   ],
   "source": [
    "df.show(n=10)"
   ]
  },
  {
   "cell_type": "code",
   "execution_count": 6,
   "metadata": {},
   "outputs": [
    {
     "name": "stdout",
     "output_type": "stream",
     "text": [
      "+--------+\n",
      "|organism|\n",
      "+--------+\n",
      "|     mmu|\n",
      "| mmu;hsa|\n",
      "|     hsa|\n",
      "+--------+\n",
      "\n"
     ]
    }
   ],
   "source": [
    "df.select(col(\"organism\")).distinct().show()"
   ]
  },
  {
   "cell_type": "code",
   "execution_count": 7,
   "metadata": {},
   "outputs": [],
   "source": [
    "df = df.withColumn(\"organism\", split(df['organism'], ';'))"
   ]
  },
  {
   "cell_type": "code",
   "execution_count": 8,
   "metadata": {},
   "outputs": [],
   "source": [
    "flatten2 = udf(lambda l: \";\".join(set(sorted([x for i in l for x in i]))), StringType())"
   ]
  },
  {
   "cell_type": "code",
   "execution_count": 9,
   "metadata": {},
   "outputs": [
    {
     "name": "stdout",
     "output_type": "stream",
     "text": [
      "+------------+-----------+----------------+---------+--------------------+--------------------+--------------+----------+\n",
      "|miRNA_family|gene_family|     interaction|organisms|  evidence_documents|      sent_evidences|evidence_count|sent_count|\n",
      "+------------+-----------+----------------+---------+--------------------+--------------------+--------------+----------+\n",
      "|    miR-146a|      TRAF6| {MIR_GENE, NEU}|  hsa;mmu|[PMC4355369, PMC4...|[{PMC10125762.2.4...|           586|      1186|\n",
      "|    miR-146a|      IRAK1| {MIR_GENE, NEU}|  hsa;mmu|[PMC4355369, PMC4...|[{PMC4641946.3.54...|           522|       968|\n",
      "|     miR-34a|      SIRT1| {MIR_GENE, NEU}|  hsa;mmu|[PMC10346838, 320...|[{PMC7402144.3.74...|           520|       956|\n",
      "|     miR-34a|      SIRT1|{MIR_GENE, DOWN}|  hsa;mmu|[PMC6769631, PMC3...|[{PMC10377597.3.1...|           494|       848|\n",
      "|     miR-155|      SOCS1| {MIR_GENE, NEU}|  hsa;mmu|[PMC3296165, PMC6...|[{PMC10351202.3.6...|           465|       904|\n",
      "|     miR-34a|       TP53| {GENE_MIR, NEU}|      hsa|[PMC6336680, PMC7...|[{26403328.2.7, {...|           437|       699|\n",
      "|     miR-155|      SOCS1|{MIR_GENE, DOWN}|  hsa;mmu|[PMC8476879, PMC4...|[{PMC9332365.3.24...|           434|       702|\n",
      "|     miR-34a|       TP53| {MIR_GENE, NEU}|      hsa|[PMC6977468, PMC6...|[{PMC4583438.3.14...|           430|       756|\n",
      "|      miR-17|    MIR17HG| {MIR_GENE, NEU}|  hsa;mmu|[PMC9780260, PMC9...|[{PMC4030135.3.55...|           419|       776|\n",
      "|      miR-17|    MIR17HG| {GENE_MIR, NEU}|  hsa;mmu|[PMC4150436, PMC3...|[{PMC4637292.3.42...|           376|       599|\n",
      "|    miR-146a|      IRAK1|{MIR_GENE, DOWN}|  hsa;mmu|[PMC4355369, PMC3...|[{PMC8120916.3.29...|           356|       573|\n",
      "|    miR-146a|      TRAF6|{MIR_GENE, DOWN}|  hsa;mmu|[PMC4355369, PMC3...|[{PMC7086345.3.10...|           355|       587|\n",
      "|      miR-16|       BCL2| {MIR_GENE, NEU}|  hsa;mmu|[PMC2096627, PMC9...|[{PMC3569899.3.66...|           299|       406|\n",
      "|     miR-34a|       TP53|{MIR_GENE, DOWN}|      hsa|[PMC9012736, PMC6...|[{PMC10575541.3.1...|           288|       380|\n",
      "|    miR-200c|       ZEB1| {MIR_GENE, NEU}|  hsa;mmu|[22407310, 291388...|[{PMC6199802.3.12...|           280|       428|\n",
      "|    miR-200c|    SLC22A3| {MIR_GENE, NEU}|      hsa|[PMC5575601, PMC9...|[{PMC7202518.3.17...|           280|       386|\n",
      "|    miR-200c|        ITK| {MIR_GENE, NEU}|      hsa|[PMC5575601, PMC9...|[{PMC7202518.3.17...|           280|       386|\n",
      "|     miR-34a|       BCL2| {MIR_GENE, NEU}|  hsa;mmu|[PMC7655967, 2433...|[{PMC5739732.3.97...|           280|       429|\n",
      "|     miR-675|        H19| {GENE_MIR, NEU}|  hsa;mmu|[PMC5655308, PMC6...|[{27981546.2.11, ...|           275|       449|\n",
      "|     miR-155|        TNF|  {MIR_GENE, UP}|  hsa;mmu|[PMC3823621, PMC3...|[{PMC5516312.3.21...|           267|       363|\n",
      "+------------+-----------+----------------+---------+--------------------+--------------------+--------------+----------+\n",
      "only showing top 20 rows\n",
      "\n"
     ]
    }
   ],
   "source": [
    "df_small = df.groupBy(\"miRNA_family\", \"gene_family\", \"interaction\").agg(\n",
    "    #count(\"*\").alias(\"total_count\"),\n",
    "    flatten2(collect_set(\"organism\")).alias(\"organisms\"),\n",
    "    collect_set(\"evidence_document\").alias(\"evidence_documents\"),\n",
    "    collect_set(\"sent_evidence\").alias(\"sent_evidences\")\n",
    ").orderBy(\"miRNA_family\", \"gene_family\")\n",
    "df_small = df_small.withColumn(\"evidence_count\", size(\"evidence_documents\")).withColumn(\"sent_count\", size(\"sent_evidences\"))\n",
    "df_small.orderBy(\"evidence_count\", ascending=False).show()\n"
   ]
  },
  {
   "cell_type": "code",
   "execution_count": 10,
   "metadata": {},
   "outputs": [
    {
     "name": "stdout",
     "output_type": "stream",
     "text": [
      "+---------+\n",
      "|organisms|\n",
      "+---------+\n",
      "|  hsa;mmu|\n",
      "|      mmu|\n",
      "|      hsa|\n",
      "+---------+\n",
      "\n"
     ]
    }
   ],
   "source": [
    "df_small.select(col(\"organisms\")).distinct().show()"
   ]
  },
  {
   "cell_type": "code",
   "execution_count": 11,
   "metadata": {},
   "outputs": [
    {
     "name": "stdout",
     "output_type": "stream",
     "text": [
      "+------------+-------------+----------------+---------+--------------------+--------------------+--------------+----------+------------+\n",
      "|miRNA_family|  gene_family|     interaction|organisms|  evidence_documents|      sent_evidences|evidence_count|sent_count|is_consensus|\n",
      "+------------+-------------+----------------+---------+--------------------+--------------------+--------------+----------+------------+\n",
      "|      let-7a|1700099I09RIK| {MIR_GENE, NEU}|      mmu|          [34480870]|[{34480870.2.11, ...|             1|         1|           1|\n",
      "|      let-7a|     AASDHPPT|{MIR_GENE, DOWN}|  hsa;mmu|[PMC4385863, PMC5...|[{PMC4385863.3.16...|             2|         2|           1|\n",
      "|      let-7a|        AAVS1| {MIR_GENE, NEU}|      hsa|        [PMC9169108]|[{PMC9169108.3.10...|             1|         1|           1|\n",
      "|      let-7a|        AAVS1| {GENE_MIR, NEU}|      hsa|        [PMC9169108]|[{PMC9169108.3.10...|             1|         1|           1|\n",
      "|      let-7a|        ABCB1|  {MIR_GENE, UP}|      hsa|        [PMC8466833]|[{PMC8466833.3.46...|             1|         1|           1|\n",
      "|      let-7a|       ABCB10|  {MIR_GENE, UP}|  hsa;mmu|        [PMC8473733]|[{PMC8473733.3.14...|             1|         1|           0|\n",
      "|      let-7a|       ABCB10|{GENE_MIR, DOWN}|  hsa;mmu|        [PMC9484461]|[{PMC9484461.3.12...|             1|         1|           0|\n",
      "|      let-7a|       ABCB10| {MIR_GENE, NEU}|  hsa;mmu|          [32273769]|[{32273769.2.6, {...|             1|         2|           0|\n",
      "|      let-7a|       ABCB10| {GENE_MIR, NEU}|  hsa;mmu|[PMC10602696, 322...|[{32273769.2.4, {...|             2|         3|           1|\n",
      "|      let-7a|        ABCB4|{MIR_GENE, DOWN}|      hsa|        [PMC5777772]|[{PMC5777772.3.10...|             1|         1|           1|\n",
      "|      let-7a|        ABCC1|{GENE_MIR, DOWN}|  hsa;mmu|[PMC6246772, 3615...|[{36154592.2.11, ...|             2|         5|           1|\n",
      "|      let-7a|        ABCC1|  {MIR_GENE, UP}|  hsa;mmu|        [PMC8466833]|[{PMC8466833.3.46...|             1|         1|           0|\n",
      "|      let-7a|        ABCC1| {MIR_GENE, NEU}|  hsa;mmu|        [PMC6246772]|[{PMC6246772.3.25...|             1|         6|           0|\n",
      "|      let-7a|        ABCC1| {GENE_MIR, NEU}|  hsa;mmu|        [PMC6246772]|[{PMC6246772.3.13...|             1|         4|           0|\n",
      "|      let-7a|       ABCC10| {MIR_GENE, NEU}|  hsa;mmu|        [PMC6157163]|[{PMC6157163.3.23...|             1|         1|           1|\n",
      "|      let-7a|        ABCC2|  {MIR_GENE, UP}|      mmu|          [31832574]|[{31832574.2.9, {...|             1|         1|           1|\n",
      "|      let-7a|        ABCC2|{MIR_GENE, DOWN}|  hsa;mmu|          [31832574]|[{31832574.2.7, {...|             1|         2|           1|\n",
      "|      let-7a|        ABCC2| {MIR_GENE, NEU}|  hsa;mmu|          [31832574]|[{31832574.2.4, {...|             1|         1|           1|\n",
      "|      let-7a|        ABCC2|{GENE_MIR, DOWN}|  hsa;mmu|          [31832574]|[{31832574.2.8, {...|             1|         1|           1|\n",
      "|      let-7a|        ABCC2| {GENE_MIR, NEU}|  hsa;mmu|          [31832574]|[{31832574.2.7, {...|             1|         1|           1|\n",
      "+------------+-------------+----------------+---------+--------------------+--------------------+--------------+----------+------------+\n",
      "only showing top 20 rows\n",
      "\n"
     ]
    }
   ],
   "source": [
    "w = Window.partitionBy([\"miRNA_family\", \"gene_family\"])\n",
    "df_cons = df_small.alias(\"cons\").withColumn('maxEvidence', max('evidence_count').over(w))\\\n",
    "    .withColumn('is_consensus', when(col('evidence_count') == col('maxEvidence'), 1).otherwise(0))\\\n",
    "    .drop(\"maxEvidence\")\n",
    "df_cons.show()"
   ]
  },
  {
   "cell_type": "code",
   "execution_count": 12,
   "metadata": {},
   "outputs": [
    {
     "name": "stdout",
     "output_type": "stream",
     "text": [
      "+------------+-----------+----------------+---------+--------------------+--------------------+--------------+----------+------------+\n",
      "|miRNA_family|gene_family|     interaction|organisms|  evidence_documents|      sent_evidences|evidence_count|sent_count|is_consensus|\n",
      "+------------+-----------+----------------+---------+--------------------+--------------------+--------------+----------+------------+\n",
      "|    miR-146a|      TRAF6| {MIR_GENE, NEU}|  hsa;mmu|[PMC4355369, PMC4...|[{PMC10125762.2.4...|           586|      1186|           1|\n",
      "|    miR-146a|      IRAK1| {MIR_GENE, NEU}|  hsa;mmu|[PMC4355369, PMC4...|[{PMC4641946.3.54...|           522|       968|           1|\n",
      "|     miR-34a|      SIRT1| {MIR_GENE, NEU}|  hsa;mmu|[PMC10346838, 320...|[{PMC7402144.3.74...|           520|       956|           1|\n",
      "|     miR-34a|      SIRT1|{MIR_GENE, DOWN}|  hsa;mmu|[PMC6769631, PMC3...|[{PMC10377597.3.1...|           494|       848|           0|\n",
      "|     miR-155|      SOCS1| {MIR_GENE, NEU}|  hsa;mmu|[PMC3296165, PMC6...|[{PMC10351202.3.6...|           465|       904|           1|\n",
      "|     miR-34a|       TP53| {GENE_MIR, NEU}|      hsa|[PMC6336680, PMC7...|[{26403328.2.7, {...|           437|       699|           1|\n",
      "|     miR-155|      SOCS1|{MIR_GENE, DOWN}|  hsa;mmu|[PMC8476879, PMC4...|[{PMC9332365.3.24...|           434|       702|           0|\n",
      "|     miR-34a|       TP53| {MIR_GENE, NEU}|      hsa|[PMC6977468, PMC6...|[{PMC4583438.3.14...|           430|       756|           0|\n",
      "|      miR-17|    MIR17HG| {MIR_GENE, NEU}|  hsa;mmu|[PMC9780260, PMC9...|[{PMC4030135.3.55...|           419|       776|           1|\n",
      "|      miR-17|    MIR17HG| {GENE_MIR, NEU}|  hsa;mmu|[PMC4150436, PMC3...|[{PMC4637292.3.42...|           376|       599|           0|\n",
      "|    miR-146a|      IRAK1|{MIR_GENE, DOWN}|  hsa;mmu|[PMC4355369, PMC3...|[{PMC8120916.3.29...|           356|       573|           0|\n",
      "|    miR-146a|      TRAF6|{MIR_GENE, DOWN}|  hsa;mmu|[PMC4355369, PMC3...|[{PMC7086345.3.10...|           355|       587|           0|\n",
      "|      miR-16|       BCL2| {MIR_GENE, NEU}|  hsa;mmu|[PMC2096627, PMC9...|[{PMC3569899.3.66...|           299|       406|           1|\n",
      "|     miR-34a|       TP53|{MIR_GENE, DOWN}|      hsa|[PMC9012736, PMC6...|[{PMC10575541.3.1...|           288|       380|           0|\n",
      "|    miR-200c|    SLC22A3| {MIR_GENE, NEU}|      hsa|[PMC5575601, PMC9...|[{PMC7202518.3.17...|           280|       386|           1|\n",
      "|     miR-34a|       BCL2| {MIR_GENE, NEU}|  hsa;mmu|[PMC7655967, 2433...|[{PMC5739732.3.97...|           280|       429|           1|\n",
      "|    miR-200c|        ITK| {MIR_GENE, NEU}|      hsa|[PMC5575601, PMC9...|[{PMC7202518.3.17...|           280|       386|           1|\n",
      "|    miR-200c|       ZEB1| {MIR_GENE, NEU}|  hsa;mmu|[22407310, 291388...|[{PMC6199802.3.12...|           280|       428|           1|\n",
      "|     miR-675|        H19| {GENE_MIR, NEU}|  hsa;mmu|[PMC5655308, PMC6...|[{27981546.2.11, ...|           275|       449|           1|\n",
      "|     miR-155|        TNF|  {MIR_GENE, UP}|  hsa;mmu|[PMC3823621, PMC3...|[{PMC5516312.3.21...|           267|       363|           1|\n",
      "+------------+-----------+----------------+---------+--------------------+--------------------+--------------+----------+------------+\n",
      "only showing top 20 rows\n",
      "\n"
     ]
    }
   ],
   "source": [
    "df_cons.orderBy(\"evidence_count\", ascending=False).show()"
   ]
  },
  {
   "cell_type": "code",
   "execution_count": 13,
   "metadata": {},
   "outputs": [],
   "source": [
    "df_cons.write.parquet(\"/mnt/extproj/projekte/textmining/mx_feb24/mx_mirna_gene_consensus_parquet\", mode=\"overwrite\")"
   ]
  },
  {
   "cell_type": "code",
   "execution_count": 14,
   "metadata": {},
   "outputs": [
    {
     "name": "stdout",
     "output_type": "stream",
     "text": [
      "+---------+\n",
      "|organisms|\n",
      "+---------+\n",
      "|  hsa;mmu|\n",
      "|      mmu|\n",
      "|      hsa|\n",
      "+---------+\n",
      "\n"
     ]
    }
   ],
   "source": [
    "df_cons.select(col(\"organisms\")).distinct().show()"
   ]
  },
  {
   "cell_type": "code",
   "execution_count": null,
   "metadata": {},
   "outputs": [],
   "source": []
  },
  {
   "cell_type": "code",
   "execution_count": null,
   "metadata": {},
   "outputs": [],
   "source": []
  },
  {
   "cell_type": "code",
   "execution_count": null,
   "metadata": {},
   "outputs": [],
   "source": []
  },
  {
   "cell_type": "code",
   "execution_count": null,
   "metadata": {},
   "outputs": [],
   "source": []
  }
 ],
 "metadata": {
  "kernelspec": {
   "display_name": "mirexplore",
   "language": "python",
   "name": "python3"
  },
  "language_info": {
   "codemirror_mode": {
    "name": "ipython",
    "version": 3
   },
   "file_extension": ".py",
   "mimetype": "text/x-python",
   "name": "python",
   "nbconvert_exporter": "python",
   "pygments_lexer": "ipython3",
   "version": "3.6.15"
  }
 },
 "nbformat": 4,
 "nbformat_minor": 2
}
