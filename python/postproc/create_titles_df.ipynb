{
 "cells": [
  {
   "cell_type": "code",
   "execution_count": 1,
   "metadata": {},
   "outputs": [],
   "source": [
    "import os\n",
    "os.environ[\"JAVA_HOME\"] = \"/mnt/extproj/projekte/textmining/markus_tm_projs/jdk/openlogic-openjdk-11.0.22+7-linux-x64\"\n",
    "\n",
    "MXPLORE_PATH=\"/mnt/extproj/projekte/textmining/mxplore/\"\n",
    "\n",
    "from collections import Counter"
   ]
  },
  {
   "cell_type": "code",
   "execution_count": 2,
   "metadata": {},
   "outputs": [],
   "source": [
    "from collections import defaultdict\n",
    "from pyspark.sql import SparkSession\n",
    "\n",
    "from pyspark.sql.functions import *\n",
    "from pyspark.sql.types import *\n",
    "\n",
    "from pyspark.sql import Window\n",
    "import glob"
   ]
  },
  {
   "cell_type": "code",
   "execution_count": 3,
   "metadata": {},
   "outputs": [
    {
     "name": "stdout",
     "output_type": "stream",
     "text": [
      "Creating builder\n"
     ]
    },
    {
     "name": "stderr",
     "output_type": "stream",
     "text": [
      "/mnt/extproj/projekte/bartelt/software/miniconda3/envs/mirexplore/lib/python3.6/site-packages/pyspark/context.py:238: FutureWarning: Python 3.6 support is deprecated in Spark 3.2.\n",
      "  FutureWarning\n"
     ]
    }
   ],
   "source": [
    "if not \"spark\" in globals() or spark is None:\n",
    "    print(\"Creating builder\")\n",
    "    spark = SparkSession.builder.\\\n",
    "            config(\"spark.executor.memory\", \"70g\").\\\n",
    "            config(\"spark.driver.memory\", \"50g\").\\\n",
    "            config(\"spark.memory.offHeap.enabled\",True).\\\n",
    "            config(\"spark.memory.offHeap.size\",\"16g\").\\\n",
    "            config(\"spark.sql.shuffle.partitions\", 300).\\\n",
    "            appName('mirexplore').getOrCreate()\n",
    "    \n",
    "#spark.conf.set(\"spark.executor.memory\", \"70g\")\n",
    "#spark.conf.set(\"spark.driver.memory\", \"50g\")\n",
    "#spark.conf.set(\"spark.memory.offHeap.enabled\",True)\n",
    "#spark.conf.set(\"spark.memory.offHeap.size\",\"16g\")  \n",
    "#spark.conf.set(\"spark.sql.shuffle.partitions\", 300)"
   ]
  },
  {
   "cell_type": "code",
   "execution_count": 4,
   "metadata": {},
   "outputs": [],
   "source": [
    "df_int = spark.read.parquet(MXPLORE_PATH+\"/mxresults/mx_mirna_gene_consensus_parquet/\")\n",
    "df_int = df_int.withColumn(\"doc_id\", explode(\"evidence_documents\"))"
   ]
  },
  {
   "cell_type": "code",
   "execution_count": 5,
   "metadata": {},
   "outputs": [
    {
     "name": "stdout",
     "output_type": "stream",
     "text": [
      "55331\n"
     ]
    }
   ],
   "source": [
    "relDocIDs = set([x[\"doc_id\"] for x in df_int.select(\"doc_id\").collect()])\n",
    "print(len([x for x in relDocIDs if x.startswith(\"PMC\")]))"
   ]
  },
  {
   "cell_type": "code",
   "execution_count": 6,
   "metadata": {},
   "outputs": [],
   "source": [
    "def read_date_file(inputpath, relevantDocIDs):\n",
    "    db_entries = list()\n",
    "    ignoredConcepts = Counter()\n",
    "\n",
    "\n",
    "    for infile in glob.glob(\"{}/*.journal\".format(inputpath)):\n",
    "        with open(infile, \"r\") as fin:\n",
    "            \n",
    "            for iline, line in enumerate(fin):\n",
    "                aline = line.split(\"\\t\")\n",
    "                aline = [x.strip() for x in aline]\n",
    "\n",
    "                docID = aline[0]\n",
    "                \n",
    "                if not docID in relevantDocIDs:\n",
    "                    continue\n",
    "                \n",
    "                if len(aline) < 2:\n",
    "                    continue\n",
    "                \n",
    "                title = aline[1]\n",
    "\n",
    "                db_entries.append( (docID, title) )\n",
    "                \n",
    "    return db_entries\n"
   ]
  },
  {
   "cell_type": "code",
   "execution_count": 7,
   "metadata": {},
   "outputs": [
    {
     "name": "stdout",
     "output_type": "stream",
     "text": [
      "47280\n"
     ]
    }
   ],
   "source": [
    "docAuthors = list(set(read_date_file(\"/mnt/extproj/projekte/textmining/pubmed_feb24/\", relDocIDs)))\n",
    "print(len(docAuthors))"
   ]
  },
  {
   "cell_type": "code",
   "execution_count": 8,
   "metadata": {},
   "outputs": [
    {
     "name": "stdout",
     "output_type": "stream",
     "text": [
      "55331\n"
     ]
    }
   ],
   "source": [
    "docAuthorsPMC = list(set(read_date_file(\"/mnt/extproj/projekte/textmining/pmc_feb24/oa_comm/\", relDocIDs)))\n",
    "print(len(docAuthorsPMC))"
   ]
  },
  {
   "cell_type": "code",
   "execution_count": 9,
   "metadata": {},
   "outputs": [],
   "source": [
    "df = spark.createDataFrame(docAuthors+docAuthorsPMC, [\"doc_id\", \"title\"])"
   ]
  },
  {
   "cell_type": "code",
   "execution_count": 10,
   "metadata": {},
   "outputs": [
    {
     "name": "stdout",
     "output_type": "stream",
     "text": [
      "+--------+--------------------+\n",
      "|  doc_id|               title|\n",
      "+--------+--------------------+\n",
      "|31805275|Experimental cell...|\n",
      "|28550686|   Oncology research|\n",
      "|27296666|Journal of immuno...|\n",
      "|29848672| Anticancer research|\n",
      "|36284637| Journal of oncology|\n",
      "|26222820|Clinics (Sao Paul...|\n",
      "|28273432|The American jour...|\n",
      "|23564324|Medical oncology ...|\n",
      "|37467842|Experimental neur...|\n",
      "|24998573|Asian Pacific jou...|\n",
      "|34288057|Journal of cellul...|\n",
      "|26457240|Current pharmacol...|\n",
      "|35116871|Translational can...|\n",
      "|33481955|            PloS one|\n",
      "|35579934|Annals of the New...|\n",
      "|36101795|Contrast media & ...|\n",
      "|33714676|Asian journal of ...|\n",
      "|26025955|Cardiovascular re...|\n",
      "|37186186|Environmental sci...|\n",
      "|30384358|Cellular physiolo...|\n",
      "+--------+--------------------+\n",
      "only showing top 20 rows\n",
      "\n"
     ]
    }
   ],
   "source": [
    "df.show()"
   ]
  },
  {
   "cell_type": "code",
   "execution_count": 11,
   "metadata": {},
   "outputs": [],
   "source": [
    "df.write.parquet(MXPLORE_PATH+\"/mxresults/mx_document_title\", mode=\"overwrite\")"
   ]
  },
  {
   "cell_type": "code",
   "execution_count": 12,
   "metadata": {},
   "outputs": [
    {
     "name": "stdout",
     "output_type": "stream",
     "text": [
      "+--------+--------------------+\n",
      "|  doc_id|               title|\n",
      "+--------+--------------------+\n",
      "|10760272|Proceedings of th...|\n",
      "|12576545|Proceedings of th...|\n",
      "|12812784|Developmental bio...|\n",
      "|15003116|      Genome biology|\n",
      "|15361871|     Nature genetics|\n",
      "|15504739|The Journal of bi...|\n",
      "|15538371|              Nature|\n",
      "|15634332|    The FEBS journal|\n",
      "|15648093|Journal of cellul...|\n",
      "|15738415|Proceedings of th...|\n",
      "|15766526|                Cell|\n",
      "|15944709|              Nature|\n",
      "|16041695|The Journal of pa...|\n",
      "|16096373|Cell cycle (Georg...|\n",
      "|16151463|            Leukemia|\n",
      "|16166262|Proceedings of th...|\n",
      "|16227573|Molecular and cel...|\n",
      "|16235244|Genes, chromosome...|\n",
      "|16249029|   Leukemia research|\n",
      "|16266980|     Cancer research|\n",
      "+--------+--------------------+\n",
      "only showing top 20 rows\n",
      "\n"
     ]
    }
   ],
   "source": [
    "df.orderBy(\"doc_id\").show()"
   ]
  },
  {
   "cell_type": "code",
   "execution_count": null,
   "metadata": {},
   "outputs": [],
   "source": []
  },
  {
   "cell_type": "code",
   "execution_count": null,
   "metadata": {},
   "outputs": [],
   "source": []
  },
  {
   "cell_type": "code",
   "execution_count": null,
   "metadata": {},
   "outputs": [],
   "source": []
  },
  {
   "cell_type": "code",
   "execution_count": null,
   "metadata": {},
   "outputs": [],
   "source": []
  }
 ],
 "metadata": {
  "kernelspec": {
   "display_name": "mirexplore",
   "language": "python",
   "name": "python3"
  },
  "language_info": {
   "codemirror_mode": {
    "name": "ipython",
    "version": 3
   },
   "file_extension": ".py",
   "mimetype": "text/x-python",
   "name": "python",
   "nbconvert_exporter": "python",
   "pygments_lexer": "ipython3",
   "version": "3.6.15"
  }
 },
 "nbformat": 4,
 "nbformat_minor": 2
}
