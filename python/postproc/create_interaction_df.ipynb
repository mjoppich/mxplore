{
 "cells": [
  {
   "cell_type": "code",
   "execution_count": 1,
   "metadata": {},
   "outputs": [],
   "source": [
    "import os\n",
    "os.environ[\"JAVA_HOME\"] = \"/mnt/extproj/projekte/textmining/jdk/openlogic-openjdk-11.0.22+7-linux-x64\"\n"
   ]
  },
  {
   "cell_type": "code",
   "execution_count": 2,
   "metadata": {},
   "outputs": [],
   "source": [
    "from collections import defaultdict\n",
    "from pyspark.sql import SparkSession\n",
    "\n",
    "from pyspark.sql.functions import *\n",
    "from pyspark.sql.types import *\n",
    "\n",
    "from pyspark.sql import Window\n",
    "\n",
    "from collections import defaultdict"
   ]
  },
  {
   "cell_type": "code",
   "execution_count": 3,
   "metadata": {},
   "outputs": [],
   "source": [
    "import glob \n",
    "def read_pmid2pmc(infolder):\n",
    "    pmid2pmc = defaultdict(set)    \n",
    "    for file in glob.glob(infolder + \"/*.pmid\"):\n",
    "        \n",
    "        for line in open(file):\n",
    "            line = line.strip().split(\"\\t\")\n",
    "            \n",
    "            pmc = line[0]\n",
    "            pmid = line[1]\n",
    "            \n",
    "            pmid2pmc[pmid].add(pmc)\n",
    "            \n",
    "    return pmid2pmc\n",
    "\n",
    "pmid2pmc = read_pmid2pmc(\"/mnt/extproj/projekte/textmining/pmc_feb24/oa_comm/\")"
   ]
  },
  {
   "cell_type": "code",
   "execution_count": 4,
   "metadata": {},
   "outputs": [],
   "source": [
    "def read_mirexplore_entries(inputpath, organism, ignore_docs=None):\n",
    "    db_entries = []\n",
    "\n",
    "    ignoredEntries = set()\n",
    "    iline=0\n",
    "    with open(inputpath, \"r\") as fin:\n",
    "        \n",
    "        for iline, line in enumerate(fin):\n",
    "            aline = line.split(\"\\t\")\n",
    "            #print(aline)\n",
    "            \n",
    "            \n",
    "            mir_family = aline[0]\n",
    "            mir_name = aline[1]\n",
    "            \n",
    "            gene_family = aline[3]\n",
    "            gene_name = aline[4]\n",
    "            \n",
    "            if gene_name.startswith(\"MIR-\"):\n",
    "                #set(df.filter((df[\"gene_name\"].startswith(\"MIR-\") | df[\"gene_name\"].startswith(\"mir-\"))).select(\"gene_name\").collect())\n",
    "                #{Row(gene_name='MIR-1'),\n",
    "                #Row(gene_name='MIR-10'),\n",
    "                #Row(gene_name='MIR-1201'),\n",
    "                #Row(gene_name='MIR-1259'),\n",
    "                #Row(gene_name='MIR-16'),\n",
    "                #Row(gene_name='MIR-3607'),\n",
    "                #Row(gene_name='MIR-886')}\n",
    "                continue\n",
    "            \n",
    "            #df.groupBy(['gene_name']).count().orderBy(\"count\", ascending=False).show(n=100)\n",
    "            if gene_name in [\"transcription factor\", \"osteosarcoma\", \"insulin\", \"RNA binding protein\", \"RNA-binding protein\", \"lipoprotein\"]:\n",
    "                continue\n",
    "                        \n",
    "            evidence_source = \"mirexplore\"\n",
    "            evidence_document = aline[6]\n",
    "            \n",
    "            if not ignore_docs is None and evidence_document in ignore_docs:\n",
    "                ignoredEntries.add(evidence_document)\n",
    "                continue\n",
    "            \n",
    "            evidence_same_paragraph = aline[7] == \"True\"\n",
    "            evidence_same_sentence = aline[8] == \"True\"\n",
    "            \n",
    "            document_evidences = eval(aline[9])\n",
    "                            \n",
    "            for evidence in document_evidences:\n",
    "                interaction_direction = evidence[17]\n",
    "                interaction_type = evidence[18]\n",
    "                \n",
    "                if interaction_type == \"CHNAGE\":\n",
    "                    interaction_type = \"CHANGE\"\n",
    "                \n",
    "                interaction_sentence = evidence[4]\n",
    "                \n",
    "                if interaction_direction == \"MIR_GENE\":\n",
    "                    interaction_location_mir = evidence[6]\n",
    "                    interaction_location_gene = evidence[7]\n",
    "                elif interaction_direction == \"GENE_MIR\":\n",
    "                    interaction_location_mir = evidence[7]\n",
    "                    interaction_location_gene = evidence[6]\n",
    "                else:\n",
    "                    assert(False)\n",
    "        \n",
    "            \n",
    "                db_entries.append(\n",
    "                    (mir_family, mir_name, gene_family, gene_name, organism, interaction_direction, interaction_type, evidence_source, evidence_document, interaction_sentence, interaction_location_mir, interaction_location_gene)\n",
    "                )\n",
    "                \n",
    "    print(\"Ignored Entries\", len(ignoredEntries), \"of\", iline)\n",
    "                \n",
    "    return db_entries\n"
   ]
  },
  {
   "cell_type": "code",
   "execution_count": 5,
   "metadata": {},
   "outputs": [
    {
     "name": "stdout",
     "output_type": "stream",
     "text": [
      "Ignored Entries 13066 of 290200\n",
      "Ignored Entries 11161 of 191222\n"
     ]
    }
   ],
   "source": [
    "hsaMxRelations = read_mirexplore_entries(\"/mnt/extproj/projekte/textmining/mx_feb24/aggregated_pubmed/mirna_gene.hsa.pmid\", \"hsa\", pmid2pmc)\n",
    "mmuMxRelations = read_mirexplore_entries(\"/mnt/extproj/projekte/textmining/mx_feb24/aggregated_pubmed/mirna_gene.mmu.pmid\", \"mmu\", pmid2pmc)\n",
    "#old:\n",
    "#Ignored Entries 13998 of 375563\n",
    "#Ignored Entries 11818 of 223089"
   ]
  },
  {
   "cell_type": "code",
   "execution_count": 6,
   "metadata": {},
   "outputs": [
    {
     "name": "stdout",
     "output_type": "stream",
     "text": [
      "Ignored Entries 0 of 1032109\n",
      "Ignored Entries 0 of 670334\n"
     ]
    }
   ],
   "source": [
    "hsaMxRelationsPMC = read_mirexplore_entries(\"/mnt/extproj/projekte/textmining/mx_feb24/aggregated_pmc/mirna_gene.hsa.pmid\", \"hsa\")\n",
    "mmuMxRelationsPMC = read_mirexplore_entries(\"/mnt/extproj/projekte/textmining/mx_feb24/aggregated_pmc/mirna_gene.mmu.pmid\", \"mmu\")\n",
    "\n",
    "#old:\n",
    "#Ignored Entries 0 of 1631185\n",
    "#Ignored Entries 0 of 997908"
   ]
  },
  {
   "cell_type": "code",
   "execution_count": 7,
   "metadata": {},
   "outputs": [],
   "source": [
    "allTMRelations = defaultdict(list)\n",
    "from intervaltree import Interval, IntervalTree"
   ]
  },
  {
   "cell_type": "code",
   "execution_count": 8,
   "metadata": {},
   "outputs": [],
   "source": [
    "def deduplicate_relation_lists( list1, list2 ):\n",
    "    \n",
    "    for entry in list1+list2:\n",
    "        # 0=mir, 2=gene, 5=int_dir, 6=int_type, 9=int_sent\n",
    "        keyTuple = (entry[0], entry[2], entry[5], entry[6], entry[9])\n",
    "        allTMRelations[keyTuple].append(entry)\n",
    "        \n",
    "    keptTMRelations = defaultdict(list)\n",
    "\n",
    "    for key in allTMRelations:\n",
    "        \n",
    "        if len(allTMRelations[key]) < 2:\n",
    "            keptTMRelations[key] = allTMRelations[key]\n",
    "            continue\n",
    "        \n",
    "        \n",
    "        mi_t = IntervalTree()\n",
    "        g_t = IntervalTree()\n",
    "        \n",
    "        for evi, ev in enumerate(allTMRelations[key]):\n",
    "        \n",
    "            m_int = Interval(ev[10][0], ev[10][1], evi)\n",
    "            g_int = Interval(ev[11][0], ev[11][1], evi)\n",
    "            \n",
    "            mi_t.add(m_int)\n",
    "            g_t.add(g_int)\n",
    "            \n",
    "        mi_t.merge_overlaps(data_reducer=lambda x,y: list(x + [y]), data_initializer=list())\n",
    "        g_t.merge_overlaps(data_reducer=lambda x,y: list(x + [y]), data_initializer=list())\n",
    "\n",
    "        seenIndices = set()\n",
    "\n",
    "        kept_evs = []\n",
    "        for evi, ev in enumerate(allTMRelations[key]):\n",
    "            \n",
    "            if evi in seenIndices:\n",
    "                continue\n",
    "            \n",
    "            evInterval_m = [x for x in mi_t if evi in x.data][0]\n",
    "            evInterval_g = [x for x in mi_t if evi in x.data][0]\n",
    "            \n",
    "            combinableEvs = set(evInterval_m.data).intersection(evInterval_g.data)\n",
    "            \n",
    "            seenIndices.update(combinableEvs)\n",
    "            \n",
    "            ev = list(ev)\n",
    "            combinableOrgs = \";\".join(set(sorted([allTMRelations[key][y][4] for y in combinableEvs])))\n",
    "            ev[4] = combinableOrgs\n",
    "            ev = tuple(ev)\n",
    "            \n",
    "            \n",
    "            kept_evs.append(ev)\n",
    "            \n",
    "            #print(evi, \"speaks for\", combinableEvs)\n",
    "        keptTMRelations[key] = kept_evs\n",
    "        \n",
    "    allkeptrelations = []\n",
    "    for key in keptTMRelations:\n",
    "        allkeptrelations += keptTMRelations[key]\n",
    "        \n",
    "    return allkeptrelations"
   ]
  },
  {
   "cell_type": "code",
   "execution_count": 9,
   "metadata": {},
   "outputs": [],
   "source": [
    "pubmed_relations = deduplicate_relation_lists(hsaMxRelations, mmuMxRelations)\n",
    "pmc_relations = deduplicate_relation_lists(hsaMxRelationsPMC, mmuMxRelationsPMC)"
   ]
  },
  {
   "cell_type": "code",
   "execution_count": 10,
   "metadata": {},
   "outputs": [],
   "source": [
    "from pyspark.sql import SparkSession "
   ]
  },
  {
   "cell_type": "code",
   "execution_count": 11,
   "metadata": {},
   "outputs": [
    {
     "name": "stdout",
     "output_type": "stream",
     "text": [
      "Creating builder\n"
     ]
    },
    {
     "name": "stderr",
     "output_type": "stream",
     "text": [
      "/mnt/extproj/projekte/bartelt/software/miniconda3/envs/mirexplore/lib/python3.6/site-packages/pyspark/context.py:238: FutureWarning: Python 3.6 support is deprecated in Spark 3.2.\n",
      "  FutureWarning\n"
     ]
    }
   ],
   "source": [
    "if not \"spark\" in globals() or spark is None:\n",
    "    print(\"Creating builder\")\n",
    "    spark = SparkSession.builder.\\\n",
    "            config(\"spark.executor.memory\", \"70g\").\\\n",
    "            config(\"spark.driver.memory\", \"50g\").\\\n",
    "            config(\"spark.memory.offHeap.enabled\",True).\\\n",
    "            config(\"spark.memory.offHeap.size\",\"16g\").\\\n",
    "            config(\"spark.sql.shuffle.partitions\", 300).\\\n",
    "            appName('mirexplore').getOrCreate()"
   ]
  },
  {
   "cell_type": "code",
   "execution_count": 12,
   "metadata": {},
   "outputs": [],
   "source": [
    "df = spark.createDataFrame(pubmed_relations+pmc_relations, [\"miRNA_family\", \"miRNA_name\", \"gene_family\", \"gene_name\", \"organism\", \"interaction_direction\", \"interaction_type\", \"evidence_source\", \"evidence_document\", \"interaction_sentence\", \"interaction_location_miRNA\", \"interaction_location_gene\"])"
   ]
  },
  {
   "cell_type": "code",
   "execution_count": 13,
   "metadata": {},
   "outputs": [
    {
     "name": "stdout",
     "output_type": "stream",
     "text": [
      "+------------+------------+-----------+-----------+--------+---------------------+----------------+---------------+-----------------+--------------------+--------------------------+-------------------------+\n",
      "|miRNA_family|  miRNA_name|gene_family|  gene_name|organism|interaction_direction|interaction_type|evidence_source|evidence_document|interaction_sentence|interaction_location_miRNA|interaction_location_gene|\n",
      "+------------+------------+-----------+-----------+--------+---------------------+----------------+---------------+-----------------+--------------------+--------------------------+-------------------------+\n",
      "|     miR-140|  miR-140-5p|       TLR4|       TLR4| mmu;hsa|             MIR_GENE|             NEU|     mirexplore|         37593020|        37593020.1.1|                {108, 118}|               {131, 135}|\n",
      "|     miR-155|     miR-155|      TACR1|        SPR|     hsa|             MIR_GENE|             NEU|     mirexplore|         37901511|        37901511.2.5|                {130, 137}|                 {27, 30}|\n",
      "|     miR-155|     miR-155|        SPR|        SPR| mmu;hsa|             MIR_GENE|             NEU|     mirexplore|         37901511|        37901511.2.5|                {130, 137}|                 {27, 30}|\n",
      "|     miR-223|     miR-223|      NLRP3|      NLRP3| mmu;hsa|             MIR_GENE|             NEU|     mirexplore|         37593145|        37593145.2.4|                    {0, 7}|                 {53, 58}|\n",
      "|     miR-325|     miR-325|    MSC-AS1|    MSC-AS1|     hsa|             GENE_MIR|             NEU|     mirexplore|         37593467|        37593467.1.1|                  {18, 25}|                 {76, 83}|\n",
      "|    miR-146a|    miR-146a|       SOX7|       SOX7| mmu;hsa|             MIR_GENE|            DOWN|     mirexplore|         37593470|        37593470.1.1|                  {11, 19}|                 {80, 84}|\n",
      "|     miR-890|     miR-890|      SNHG3|      SNHG3| mmu;hsa|             GENE_MIR|              UP|     mirexplore|         37593475|        37593475.1.1|                  {32, 37}|               {108, 115}|\n",
      "|    miR-520a| miR-520a-3p|   SBF2-AS1|   SBF2-AS1|     hsa|             MIR_GENE|             NEU|     mirexplore|         37593490|        37593490.1.1|                 {90, 101}|                 {18, 26}|\n",
      "|    miR-199a| miR-199a-5p|      VEGFA|      VEGFA| mmu;hsa|             MIR_GENE|             NEU|     mirexplore|         37839765|       37839765.2.10|                {127, 138}|                 {44, 49}|\n",
      "|    miR-199a| miR-199a-5p|      VEGFA|      VEGFA| mmu;hsa|             MIR_GENE|             NEU|     mirexplore|         37839765|        37839765.2.9|                {138, 149}|               {109, 114}|\n",
      "|    miR-199a| miR-199a-5p|      VEGFA|      VEGFA| mmu;hsa|             MIR_GENE|             NEU|     mirexplore|         37839765|        37839765.1.1|                   {0, 11}|                 {70, 75}|\n",
      "|     miR-29b|     miR-29b|       TP53|        p53|     hsa|             GENE_MIR|              UP|     mirexplore|         38051266|        38051266.2.8|                    {0, 3}|               {148, 155}|\n",
      "| __miR-129__|miR-129-1-3p|       MIAT|lncRNA-MIAT| mmu;hsa|             MIR_GENE|             NEU|     mirexplore|         37471631|        37471631.1.1|                 {87, 101}|                  {0, 11}|\n",
      "|    miR-142a| miR-142a-3p|      CPT1A|      CPT1A| mmu;hsa|             MIR_GENE|            DOWN|     mirexplore|         37593979|        37593979.2.7|                  {44, 55}|                 {78, 83}|\n",
      "|     miR-671|  miR-671-5p|     STOML2|     STOML2| mmu;hsa|             MIR_GENE|            DOWN|     mirexplore|         37840424|       37840424.2.10|                {105, 124}|               {125, 131}|\n",
      "|    miR-1178| miR-1178-3p|      AADAC|      AADAC| mmu;hsa|             MIR_GENE|             NEU|     mirexplore|         37809396|        37809396.2.6|                  {75, 86}|                 {53, 58}|\n",
      "|    miR-1178| miR-1178-3p|      AADAC|      AADAC| mmu;hsa|             MIR_GENE|            DOWN|     mirexplore|         37809396|       37809396.2.12|                {129, 140}|                 {18, 23}|\n",
      "|    miR-1178| miR-1178-3p|      AADAC|      AADAC| mmu;hsa|             MIR_GENE|             NEU|     mirexplore|         37809396|       37809396.2.11|                  {49, 60}|                 {13, 18}|\n",
      "|    miR-1178| miR-1178-3p|      AADAC|      AADAC| mmu;hsa|             MIR_GENE|              UP|     mirexplore|         37809396|        37809396.2.7|                {165, 176}|                 {21, 26}|\n",
      "|    miR-1178| miR-1178-3p|      AADAC|      AADAC| mmu;hsa|             MIR_GENE|             NEU|     mirexplore|         37809396|       37809396.2.13|                  {39, 50}|                 {81, 86}|\n",
      "+------------+------------+-----------+-----------+--------+---------------------+----------------+---------------+-----------------+--------------------+--------------------------+-------------------------+\n",
      "only showing top 20 rows\n",
      "\n"
     ]
    }
   ],
   "source": [
    "df.show()"
   ]
  },
  {
   "cell_type": "code",
   "execution_count": 14,
   "metadata": {},
   "outputs": [
    {
     "name": "stdout",
     "output_type": "stream",
     "text": [
      "+------------+------------+-----------+-----------+--------+---------------------+----------------+---------------+-----------------+--------------------+--------------------------+-------------------------+--------------------+----------------+\n",
      "|miRNA_family|  miRNA_name|gene_family|  gene_name|organism|interaction_direction|interaction_type|evidence_source|evidence_document|interaction_sentence|interaction_location_miRNA|interaction_location_gene|       sent_evidence|     interaction|\n",
      "+------------+------------+-----------+-----------+--------+---------------------+----------------+---------------+-----------------+--------------------+--------------------------+-------------------------+--------------------+----------------+\n",
      "|     miR-140|  miR-140-5p|       TLR4|       TLR4| mmu;hsa|             MIR_GENE|             NEU|     mirexplore|         37593020|        37593020.1.1|                {108, 118}|               {131, 135}|{37593020.1.1, {1...| {MIR_GENE, NEU}|\n",
      "|     miR-155|     miR-155|      TACR1|        SPR|     hsa|             MIR_GENE|             NEU|     mirexplore|         37901511|        37901511.2.5|                {130, 137}|                 {27, 30}|{37901511.2.5, {1...| {MIR_GENE, NEU}|\n",
      "|     miR-155|     miR-155|        SPR|        SPR| mmu;hsa|             MIR_GENE|             NEU|     mirexplore|         37901511|        37901511.2.5|                {130, 137}|                 {27, 30}|{37901511.2.5, {1...| {MIR_GENE, NEU}|\n",
      "|     miR-223|     miR-223|      NLRP3|      NLRP3| mmu;hsa|             MIR_GENE|             NEU|     mirexplore|         37593145|        37593145.2.4|                    {0, 7}|                 {53, 58}|{37593145.2.4, {0...| {MIR_GENE, NEU}|\n",
      "|     miR-325|     miR-325|    MSC-AS1|    MSC-AS1|     hsa|             GENE_MIR|             NEU|     mirexplore|         37593467|        37593467.1.1|                  {18, 25}|                 {76, 83}|{37593467.1.1, {1...| {GENE_MIR, NEU}|\n",
      "|    miR-146a|    miR-146a|       SOX7|       SOX7| mmu;hsa|             MIR_GENE|            DOWN|     mirexplore|         37593470|        37593470.1.1|                  {11, 19}|                 {80, 84}|{37593470.1.1, {1...|{MIR_GENE, DOWN}|\n",
      "|     miR-890|     miR-890|      SNHG3|      SNHG3| mmu;hsa|             GENE_MIR|              UP|     mirexplore|         37593475|        37593475.1.1|                  {32, 37}|               {108, 115}|{37593475.1.1, {3...|  {GENE_MIR, UP}|\n",
      "|    miR-520a| miR-520a-3p|   SBF2-AS1|   SBF2-AS1|     hsa|             MIR_GENE|             NEU|     mirexplore|         37593490|        37593490.1.1|                 {90, 101}|                 {18, 26}|{37593490.1.1, {9...| {MIR_GENE, NEU}|\n",
      "|    miR-199a| miR-199a-5p|      VEGFA|      VEGFA| mmu;hsa|             MIR_GENE|             NEU|     mirexplore|         37839765|       37839765.2.10|                {127, 138}|                 {44, 49}|{37839765.2.10, {...| {MIR_GENE, NEU}|\n",
      "|    miR-199a| miR-199a-5p|      VEGFA|      VEGFA| mmu;hsa|             MIR_GENE|             NEU|     mirexplore|         37839765|        37839765.2.9|                {138, 149}|               {109, 114}|{37839765.2.9, {1...| {MIR_GENE, NEU}|\n",
      "|    miR-199a| miR-199a-5p|      VEGFA|      VEGFA| mmu;hsa|             MIR_GENE|             NEU|     mirexplore|         37839765|        37839765.1.1|                   {0, 11}|                 {70, 75}|{37839765.1.1, {0...| {MIR_GENE, NEU}|\n",
      "|     miR-29b|     miR-29b|       TP53|        p53|     hsa|             GENE_MIR|              UP|     mirexplore|         38051266|        38051266.2.8|                    {0, 3}|               {148, 155}|{38051266.2.8, {0...|  {GENE_MIR, UP}|\n",
      "| __miR-129__|miR-129-1-3p|       MIAT|lncRNA-MIAT| mmu;hsa|             MIR_GENE|             NEU|     mirexplore|         37471631|        37471631.1.1|                 {87, 101}|                  {0, 11}|{37471631.1.1, {8...| {MIR_GENE, NEU}|\n",
      "|    miR-142a| miR-142a-3p|      CPT1A|      CPT1A| mmu;hsa|             MIR_GENE|            DOWN|     mirexplore|         37593979|        37593979.2.7|                  {44, 55}|                 {78, 83}|{37593979.2.7, {4...|{MIR_GENE, DOWN}|\n",
      "|     miR-671|  miR-671-5p|     STOML2|     STOML2| mmu;hsa|             MIR_GENE|            DOWN|     mirexplore|         37840424|       37840424.2.10|                {105, 124}|               {125, 131}|{37840424.2.10, {...|{MIR_GENE, DOWN}|\n",
      "|    miR-1178| miR-1178-3p|      AADAC|      AADAC| mmu;hsa|             MIR_GENE|             NEU|     mirexplore|         37809396|        37809396.2.6|                  {75, 86}|                 {53, 58}|{37809396.2.6, {7...| {MIR_GENE, NEU}|\n",
      "|    miR-1178| miR-1178-3p|      AADAC|      AADAC| mmu;hsa|             MIR_GENE|            DOWN|     mirexplore|         37809396|       37809396.2.12|                {129, 140}|                 {18, 23}|{37809396.2.12, {...|{MIR_GENE, DOWN}|\n",
      "|    miR-1178| miR-1178-3p|      AADAC|      AADAC| mmu;hsa|             MIR_GENE|             NEU|     mirexplore|         37809396|       37809396.2.11|                  {49, 60}|                 {13, 18}|{37809396.2.11, {...| {MIR_GENE, NEU}|\n",
      "|    miR-1178| miR-1178-3p|      AADAC|      AADAC| mmu;hsa|             MIR_GENE|              UP|     mirexplore|         37809396|        37809396.2.7|                {165, 176}|                 {21, 26}|{37809396.2.7, {1...|  {MIR_GENE, UP}|\n",
      "|    miR-1178| miR-1178-3p|      AADAC|      AADAC| mmu;hsa|             MIR_GENE|             NEU|     mirexplore|         37809396|       37809396.2.13|                  {39, 50}|                 {81, 86}|{37809396.2.13, {...| {MIR_GENE, NEU}|\n",
      "+------------+------------+-----------+-----------+--------+---------------------+----------------+---------------+-----------------+--------------------+--------------------------+-------------------------+--------------------+----------------+\n",
      "only showing top 20 rows\n",
      "\n"
     ]
    }
   ],
   "source": [
    "schema_sent = StructType([\n",
    "    StructField(\"sent\", StringType(), False),\n",
    "    StructField('loc_miRNRA', StructType([StructField(\"start_\", LongType(), True), StructField(\"end_\", LongType(), False)])),\n",
    "    StructField('loc_gene', StructType([StructField(\"start_\", LongType(), True), StructField(\"end_\", LongType(), False)]))\n",
    "])\n",
    "\n",
    "ev_loc_udf = udf(\n",
    "    lambda x,y,z: (x, y, z),\n",
    "    schema_sent\n",
    ")\n",
    "\n",
    "\n",
    "schema_int = StructType([\n",
    "    StructField(\"int_dir\", StringType(), False),\n",
    "    StructField('int_type', StringType(), False)\n",
    "    ])\n",
    "\n",
    "reg_ev_udf = udf(\n",
    "    lambda x,y: (x, y),\n",
    "    schema_int\n",
    ")\n",
    "\n",
    "df = df.withColumn(\"sent_evidence\", ev_loc_udf(\"interaction_sentence\", \"interaction_location_miRNA\", \"interaction_location_gene\"))\n",
    "df = df.withColumn(\"interaction\", reg_ev_udf(\"interaction_direction\", \"interaction_type\"))\n",
    "df.show()"
   ]
  },
  {
   "cell_type": "code",
   "execution_count": 15,
   "metadata": {},
   "outputs": [],
   "source": [
    "df = df.drop(\"interaction_sentence\")\n",
    "df = df.drop(\"interaction_location_miRNA\")\n",
    "df = df.drop(\"interaction_location_gene\")"
   ]
  },
  {
   "cell_type": "code",
   "execution_count": 16,
   "metadata": {},
   "outputs": [
    {
     "name": "stdout",
     "output_type": "stream",
     "text": [
      "root\n",
      " |-- miRNA_family: string (nullable = true)\n",
      " |-- miRNA_name: string (nullable = true)\n",
      " |-- gene_family: string (nullable = true)\n",
      " |-- gene_name: string (nullable = true)\n",
      " |-- organism: string (nullable = true)\n",
      " |-- interaction_direction: string (nullable = true)\n",
      " |-- interaction_type: string (nullable = true)\n",
      " |-- evidence_source: string (nullable = true)\n",
      " |-- evidence_document: string (nullable = true)\n",
      " |-- sent_evidence: struct (nullable = true)\n",
      " |    |-- sent: string (nullable = false)\n",
      " |    |-- loc_miRNRA: struct (nullable = true)\n",
      " |    |    |-- start_: long (nullable = true)\n",
      " |    |    |-- end_: long (nullable = false)\n",
      " |    |-- loc_gene: struct (nullable = true)\n",
      " |    |    |-- start_: long (nullable = true)\n",
      " |    |    |-- end_: long (nullable = false)\n",
      " |-- interaction: struct (nullable = true)\n",
      " |    |-- int_dir: string (nullable = false)\n",
      " |    |-- int_type: string (nullable = false)\n",
      "\n"
     ]
    }
   ],
   "source": [
    "df.printSchema()"
   ]
  },
  {
   "cell_type": "code",
   "execution_count": 17,
   "metadata": {},
   "outputs": [
    {
     "name": "stdout",
     "output_type": "stream",
     "text": [
      "+------------+------------+-----------+-----------+--------+---------------------+----------------+---------------+-----------------+--------------------+----------------+\n",
      "|miRNA_family|  miRNA_name|gene_family|  gene_name|organism|interaction_direction|interaction_type|evidence_source|evidence_document|       sent_evidence|     interaction|\n",
      "+------------+------------+-----------+-----------+--------+---------------------+----------------+---------------+-----------------+--------------------+----------------+\n",
      "|     miR-140|  miR-140-5p|       TLR4|       TLR4| mmu;hsa|             MIR_GENE|             NEU|     mirexplore|         37593020|{37593020.1.1, {1...| {MIR_GENE, NEU}|\n",
      "|     miR-155|     miR-155|      TACR1|        SPR|     hsa|             MIR_GENE|             NEU|     mirexplore|         37901511|{37901511.2.5, {1...| {MIR_GENE, NEU}|\n",
      "|     miR-155|     miR-155|        SPR|        SPR| mmu;hsa|             MIR_GENE|             NEU|     mirexplore|         37901511|{37901511.2.5, {1...| {MIR_GENE, NEU}|\n",
      "|     miR-223|     miR-223|      NLRP3|      NLRP3| mmu;hsa|             MIR_GENE|             NEU|     mirexplore|         37593145|{37593145.2.4, {0...| {MIR_GENE, NEU}|\n",
      "|     miR-325|     miR-325|    MSC-AS1|    MSC-AS1|     hsa|             GENE_MIR|             NEU|     mirexplore|         37593467|{37593467.1.1, {1...| {GENE_MIR, NEU}|\n",
      "|    miR-146a|    miR-146a|       SOX7|       SOX7| mmu;hsa|             MIR_GENE|            DOWN|     mirexplore|         37593470|{37593470.1.1, {1...|{MIR_GENE, DOWN}|\n",
      "|     miR-890|     miR-890|      SNHG3|      SNHG3| mmu;hsa|             GENE_MIR|              UP|     mirexplore|         37593475|{37593475.1.1, {3...|  {GENE_MIR, UP}|\n",
      "|    miR-520a| miR-520a-3p|   SBF2-AS1|   SBF2-AS1|     hsa|             MIR_GENE|             NEU|     mirexplore|         37593490|{37593490.1.1, {9...| {MIR_GENE, NEU}|\n",
      "|    miR-199a| miR-199a-5p|      VEGFA|      VEGFA| mmu;hsa|             MIR_GENE|             NEU|     mirexplore|         37839765|{37839765.2.10, {...| {MIR_GENE, NEU}|\n",
      "|    miR-199a| miR-199a-5p|      VEGFA|      VEGFA| mmu;hsa|             MIR_GENE|             NEU|     mirexplore|         37839765|{37839765.2.9, {1...| {MIR_GENE, NEU}|\n",
      "|    miR-199a| miR-199a-5p|      VEGFA|      VEGFA| mmu;hsa|             MIR_GENE|             NEU|     mirexplore|         37839765|{37839765.1.1, {0...| {MIR_GENE, NEU}|\n",
      "|     miR-29b|     miR-29b|       TP53|        p53|     hsa|             GENE_MIR|              UP|     mirexplore|         38051266|{38051266.2.8, {0...|  {GENE_MIR, UP}|\n",
      "|     miR-129|miR-129-1-3p|       MIAT|lncRNA-MIAT| mmu;hsa|             MIR_GENE|             NEU|     mirexplore|         37471631|{37471631.1.1, {8...| {MIR_GENE, NEU}|\n",
      "|    miR-142a| miR-142a-3p|      CPT1A|      CPT1A| mmu;hsa|             MIR_GENE|            DOWN|     mirexplore|         37593979|{37593979.2.7, {4...|{MIR_GENE, DOWN}|\n",
      "|     miR-671|  miR-671-5p|     STOML2|     STOML2| mmu;hsa|             MIR_GENE|            DOWN|     mirexplore|         37840424|{37840424.2.10, {...|{MIR_GENE, DOWN}|\n",
      "|    miR-1178| miR-1178-3p|      AADAC|      AADAC| mmu;hsa|             MIR_GENE|             NEU|     mirexplore|         37809396|{37809396.2.6, {7...| {MIR_GENE, NEU}|\n",
      "|    miR-1178| miR-1178-3p|      AADAC|      AADAC| mmu;hsa|             MIR_GENE|            DOWN|     mirexplore|         37809396|{37809396.2.12, {...|{MIR_GENE, DOWN}|\n",
      "|    miR-1178| miR-1178-3p|      AADAC|      AADAC| mmu;hsa|             MIR_GENE|             NEU|     mirexplore|         37809396|{37809396.2.11, {...| {MIR_GENE, NEU}|\n",
      "|    miR-1178| miR-1178-3p|      AADAC|      AADAC| mmu;hsa|             MIR_GENE|              UP|     mirexplore|         37809396|{37809396.2.7, {1...|  {MIR_GENE, UP}|\n",
      "|    miR-1178| miR-1178-3p|      AADAC|      AADAC| mmu;hsa|             MIR_GENE|             NEU|     mirexplore|         37809396|{37809396.2.13, {...| {MIR_GENE, NEU}|\n",
      "+------------+------------+-----------+-----------+--------+---------------------+----------------+---------------+-----------------+--------------------+----------------+\n",
      "only showing top 20 rows\n",
      "\n"
     ]
    }
   ],
   "source": [
    "df = df.withColumn('miRNA_family', regexp_replace('miRNA_family', '__', ''))\n",
    "df.show()"
   ]
  },
  {
   "cell_type": "code",
   "execution_count": null,
   "metadata": {},
   "outputs": [],
   "source": []
  },
  {
   "cell_type": "code",
   "execution_count": 18,
   "metadata": {},
   "outputs": [],
   "source": [
    "df.write.parquet(\"/mnt/extproj/projekte/textmining/mx_feb24/mx_mirna_gene_parquet\", mode=\"overwrite\")"
   ]
  },
  {
   "cell_type": "code",
   "execution_count": 19,
   "metadata": {},
   "outputs": [],
   "source": [
    "hsaMxRelations=None\n",
    "mmuMxRelations=None"
   ]
  },
  {
   "cell_type": "code",
   "execution_count": 20,
   "metadata": {},
   "outputs": [
    {
     "name": "stdout",
     "output_type": "stream",
     "text": [
      "+------------+------------+-----------+-----------+--------+---------------------+----------------+---------------+-----------------+--------------------+----------------+\n",
      "|miRNA_family|  miRNA_name|gene_family|  gene_name|organism|interaction_direction|interaction_type|evidence_source|evidence_document|       sent_evidence|     interaction|\n",
      "+------------+------------+-----------+-----------+--------+---------------------+----------------+---------------+-----------------+--------------------+----------------+\n",
      "|     miR-140|  miR-140-5p|       TLR4|       TLR4| mmu;hsa|             MIR_GENE|             NEU|     mirexplore|         37593020|{37593020.1.1, {1...| {MIR_GENE, NEU}|\n",
      "|     miR-155|     miR-155|      TACR1|        SPR|     hsa|             MIR_GENE|             NEU|     mirexplore|         37901511|{37901511.2.5, {1...| {MIR_GENE, NEU}|\n",
      "|     miR-155|     miR-155|        SPR|        SPR| mmu;hsa|             MIR_GENE|             NEU|     mirexplore|         37901511|{37901511.2.5, {1...| {MIR_GENE, NEU}|\n",
      "|     miR-223|     miR-223|      NLRP3|      NLRP3| mmu;hsa|             MIR_GENE|             NEU|     mirexplore|         37593145|{37593145.2.4, {0...| {MIR_GENE, NEU}|\n",
      "|     miR-325|     miR-325|    MSC-AS1|    MSC-AS1|     hsa|             GENE_MIR|             NEU|     mirexplore|         37593467|{37593467.1.1, {1...| {GENE_MIR, NEU}|\n",
      "|    miR-146a|    miR-146a|       SOX7|       SOX7| mmu;hsa|             MIR_GENE|            DOWN|     mirexplore|         37593470|{37593470.1.1, {1...|{MIR_GENE, DOWN}|\n",
      "|     miR-890|     miR-890|      SNHG3|      SNHG3| mmu;hsa|             GENE_MIR|              UP|     mirexplore|         37593475|{37593475.1.1, {3...|  {GENE_MIR, UP}|\n",
      "|    miR-520a| miR-520a-3p|   SBF2-AS1|   SBF2-AS1|     hsa|             MIR_GENE|             NEU|     mirexplore|         37593490|{37593490.1.1, {9...| {MIR_GENE, NEU}|\n",
      "|    miR-199a| miR-199a-5p|      VEGFA|      VEGFA| mmu;hsa|             MIR_GENE|             NEU|     mirexplore|         37839765|{37839765.2.10, {...| {MIR_GENE, NEU}|\n",
      "|    miR-199a| miR-199a-5p|      VEGFA|      VEGFA| mmu;hsa|             MIR_GENE|             NEU|     mirexplore|         37839765|{37839765.2.9, {1...| {MIR_GENE, NEU}|\n",
      "|    miR-199a| miR-199a-5p|      VEGFA|      VEGFA| mmu;hsa|             MIR_GENE|             NEU|     mirexplore|         37839765|{37839765.1.1, {0...| {MIR_GENE, NEU}|\n",
      "|     miR-29b|     miR-29b|       TP53|        p53|     hsa|             GENE_MIR|              UP|     mirexplore|         38051266|{38051266.2.8, {0...|  {GENE_MIR, UP}|\n",
      "|     miR-129|miR-129-1-3p|       MIAT|lncRNA-MIAT| mmu;hsa|             MIR_GENE|             NEU|     mirexplore|         37471631|{37471631.1.1, {8...| {MIR_GENE, NEU}|\n",
      "|    miR-142a| miR-142a-3p|      CPT1A|      CPT1A| mmu;hsa|             MIR_GENE|            DOWN|     mirexplore|         37593979|{37593979.2.7, {4...|{MIR_GENE, DOWN}|\n",
      "|     miR-671|  miR-671-5p|     STOML2|     STOML2| mmu;hsa|             MIR_GENE|            DOWN|     mirexplore|         37840424|{37840424.2.10, {...|{MIR_GENE, DOWN}|\n",
      "|    miR-1178| miR-1178-3p|      AADAC|      AADAC| mmu;hsa|             MIR_GENE|             NEU|     mirexplore|         37809396|{37809396.2.6, {7...| {MIR_GENE, NEU}|\n",
      "|    miR-1178| miR-1178-3p|      AADAC|      AADAC| mmu;hsa|             MIR_GENE|            DOWN|     mirexplore|         37809396|{37809396.2.12, {...|{MIR_GENE, DOWN}|\n",
      "|    miR-1178| miR-1178-3p|      AADAC|      AADAC| mmu;hsa|             MIR_GENE|             NEU|     mirexplore|         37809396|{37809396.2.11, {...| {MIR_GENE, NEU}|\n",
      "|    miR-1178| miR-1178-3p|      AADAC|      AADAC| mmu;hsa|             MIR_GENE|              UP|     mirexplore|         37809396|{37809396.2.7, {1...|  {MIR_GENE, UP}|\n",
      "|    miR-1178| miR-1178-3p|      AADAC|      AADAC| mmu;hsa|             MIR_GENE|             NEU|     mirexplore|         37809396|{37809396.2.13, {...| {MIR_GENE, NEU}|\n",
      "+------------+------------+-----------+-----------+--------+---------------------+----------------+---------------+-----------------+--------------------+----------------+\n",
      "only showing top 20 rows\n",
      "\n"
     ]
    }
   ],
   "source": [
    "df.show()"
   ]
  },
  {
   "cell_type": "code",
   "execution_count": 21,
   "metadata": {},
   "outputs": [
    {
     "data": {
      "text/plain": [
       "[Row(gene_family='ITK', gene_name='EMT', count=20987),\n",
       " Row(gene_family='SLC22A3', gene_name='EMT', count=20987),\n",
       " Row(gene_family='PTEN', gene_name='PTEN', count=17115),\n",
       " Row(gene_family='TP53', gene_name='p53', count=11148),\n",
       " Row(gene_family='IL6', gene_name='IL-6', count=7949),\n",
       " Row(gene_family='CDH17', gene_name='cadherin', count=7932),\n",
       " Row(gene_family='TNF', gene_name='TNF-α', count=7815),\n",
       " Row(gene_family='SIRT1', gene_name='SIRT1', count=7140),\n",
       " Row(gene_family='STAT3', gene_name='STAT3', count=6685),\n",
       " Row(gene_family='MALAT1', gene_name='MALAT1', count=6636),\n",
       " Row(gene_family='CDH1', gene_name='E-Cadherin', count=6176),\n",
       " Row(gene_family='ZEB1', gene_name='ZEB1', count=6115),\n",
       " Row(gene_family='BCL2', gene_name='Bcl-2', count=5865),\n",
       " Row(gene_family='IL1B', gene_name='IL-1β', count=5627),\n",
       " Row(gene_family='HIF1A', gene_name='HIF-1α', count=5600),\n",
       " Row(gene_family='H19', gene_name='H19', count=5170),\n",
       " Row(gene_family='VEGFA', gene_name='VEGF', count=5168),\n",
       " Row(gene_family='IRF6', gene_name='LPS', count=5071),\n",
       " Row(gene_family='CASP3', gene_name='caspase 3', count=5048),\n",
       " Row(gene_family='EZH2', gene_name='EZH2', count=4896),\n",
       " Row(gene_family='MIR17HG', gene_name='miR-17-92', count=4819),\n",
       " Row(gene_family='EGFR', gene_name='EGFR', count=4234),\n",
       " Row(gene_family='NEAT1', gene_name='NEAT1', count=4167),\n",
       " Row(gene_family='MYC', gene_name='c-Myc', count=4047),\n",
       " Row(gene_family='CCND1', gene_name='cyclin D1', count=3806),\n",
       " Row(gene_family='HOTAIR', gene_name='HOTAIR', count=3763),\n",
       " Row(gene_family='VEGFA', gene_name='VEGFA', count=3740),\n",
       " Row(gene_family='TGFB1', gene_name='TGF-β', count=3688),\n",
       " Row(gene_family='NLRP3', gene_name='NLRP3', count=3620),\n",
       " Row(gene_family='VIM', gene_name='vimentin', count=3609),\n",
       " Row(gene_family='H3P16', gene_name='p21', count=3591),\n",
       " Row(gene_family='TCEAL1', gene_name='p21', count=3591),\n",
       " Row(gene_family='TLR4', gene_name='TLR4', count=3534),\n",
       " Row(gene_family='ROS1', gene_name='ROS', count=3526),\n",
       " Row(gene_family='CDKN1A', gene_name='p21', count=3507),\n",
       " Row(gene_family='E2F1', gene_name='E2F1', count=3485),\n",
       " Row(gene_family='TRAF6', gene_name='TRAF6', count=3483),\n",
       " Row(gene_family='CD274', gene_name='PD-L1', count=3304),\n",
       " Row(gene_family='ZEB2', gene_name='ZEB2', count=3102),\n",
       " Row(gene_family='NOTCH1', gene_name='NOTCH1', count=3001),\n",
       " Row(gene_family='XIST', gene_name='XIST', count=2957),\n",
       " Row(gene_family='CDK6', gene_name='CDK6', count=2912),\n",
       " Row(gene_family='FOXO1', gene_name='FOXO1', count=2911),\n",
       " Row(gene_family='HMGA2', gene_name='HMGA2', count=2865),\n",
       " Row(gene_family='SOCS1', gene_name='SOCS1', count=2840),\n",
       " Row(gene_family='MYC', gene_name='MYC', count=2774),\n",
       " Row(gene_family='KRAS', gene_name='KRAS', count=2761),\n",
       " Row(gene_family='BDNF', gene_name='BDNF', count=2734),\n",
       " Row(gene_family='BCL2', gene_name='BCL2', count=2730),\n",
       " Row(gene_family='BAX', gene_name='Bax', count=2668)]"
      ]
     },
     "execution_count": 21,
     "metadata": {},
     "output_type": "execute_result"
    }
   ],
   "source": [
    "df.groupBy(\"gene_family\", 'gene_name').count().sort(\"count\", ascending=False).head(50)\n"
   ]
  },
  {
   "cell_type": "code",
   "execution_count": null,
   "metadata": {},
   "outputs": [],
   "source": []
  }
 ],
 "metadata": {
  "kernelspec": {
   "display_name": "mirexplore",
   "language": "python",
   "name": "python3"
  },
  "language_info": {
   "codemirror_mode": {
    "name": "ipython",
    "version": 3
   },
   "file_extension": ".py",
   "mimetype": "text/x-python",
   "name": "python",
   "nbconvert_exporter": "python",
   "pygments_lexer": "ipython3",
   "version": "3.6.15"
  }
 },
 "nbformat": 4,
 "nbformat_minor": 2
}
