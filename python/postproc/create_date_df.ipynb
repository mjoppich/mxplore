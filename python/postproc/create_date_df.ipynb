{
 "cells": [
  {
   "cell_type": "code",
   "execution_count": 1,
   "metadata": {},
   "outputs": [],
   "source": [
    "import os\n",
    "os.environ[\"JAVA_HOME\"] = \"/mnt/extproj/projekte/textmining/jdk/openlogic-openjdk-11.0.22+7-linux-x64\"\n",
    "\n",
    "from collections import Counter"
   ]
  },
  {
   "cell_type": "code",
   "execution_count": 2,
   "metadata": {},
   "outputs": [],
   "source": [
    "from collections import defaultdict\n",
    "from pyspark.sql import SparkSession\n",
    "\n",
    "from pyspark.sql.functions import *\n",
    "from pyspark.sql.types import *\n",
    "\n",
    "from pyspark.sql import Window\n",
    "import glob"
   ]
  },
  {
   "cell_type": "code",
   "execution_count": 3,
   "metadata": {},
   "outputs": [
    {
     "name": "stdout",
     "output_type": "stream",
     "text": [
      "Creating builder\n"
     ]
    },
    {
     "name": "stderr",
     "output_type": "stream",
     "text": [
      "/mnt/extproj/projekte/bartelt/software/miniconda3/envs/mirexplore/lib/python3.6/site-packages/pyspark/context.py:238: FutureWarning: Python 3.6 support is deprecated in Spark 3.2.\n",
      "  FutureWarning\n"
     ]
    }
   ],
   "source": [
    "if not \"spark\" in globals() or spark is None:\n",
    "    print(\"Creating builder\")\n",
    "    spark = SparkSession.builder.\\\n",
    "            config(\"spark.executor.memory\", \"70g\").\\\n",
    "            config(\"spark.driver.memory\", \"50g\").\\\n",
    "            config(\"spark.memory.offHeap.enabled\",True).\\\n",
    "            config(\"spark.memory.offHeap.size\",\"16g\").\\\n",
    "            config(\"spark.sql.shuffle.partitions\", 300).\\\n",
    "            appName('mirexplore').getOrCreate()\n",
    "    \n",
    "#spark.conf.set(\"spark.executor.memory\", \"70g\")\n",
    "#spark.conf.set(\"spark.driver.memory\", \"50g\")\n",
    "#spark.conf.set(\"spark.memory.offHeap.enabled\",True)\n",
    "#spark.conf.set(\"spark.memory.offHeap.size\",\"16g\")  \n",
    "#spark.conf.set(\"spark.sql.shuffle.partitions\", 300)"
   ]
  },
  {
   "cell_type": "code",
   "execution_count": 4,
   "metadata": {},
   "outputs": [],
   "source": [
    "df_int = spark.read.parquet(\"/mnt/extproj/projekte/textmining/mx_feb24/mx_mirna_gene_consensus_parquet/\")\n",
    "df_int = df_int.withColumn(\"doc_id\", explode(\"evidence_documents\"))"
   ]
  },
  {
   "cell_type": "code",
   "execution_count": 5,
   "metadata": {},
   "outputs": [
    {
     "name": "stdout",
     "output_type": "stream",
     "text": [
      "55331\n"
     ]
    }
   ],
   "source": [
    "relDocIDs = set([x[\"doc_id\"] for x in df_int.select(\"doc_id\").collect()])\n",
    "print(len([x for x in relDocIDs if x.startswith(\"PMC\")]))"
   ]
  },
  {
   "cell_type": "code",
   "execution_count": 6,
   "metadata": {},
   "outputs": [],
   "source": [
    "def read_date_file(inputpath, relevantDocIDs):\n",
    "    db_entries = []\n",
    "    ignoredConcepts = Counter()\n",
    "\n",
    "\n",
    "    for infile in glob.glob(\"{}/*.date\".format(inputpath)):\n",
    "        with open(infile, \"r\") as fin:\n",
    "            \n",
    "            for iline, line in enumerate(fin):\n",
    "                aline = line.split(\"\\t\")\n",
    "\n",
    "                docID = aline[0]\n",
    "                \n",
    "                if not docID in relevantDocIDs:\n",
    "                    continue\n",
    "                \n",
    "                if len(aline) < 4:\n",
    "                    continue\n",
    "                \n",
    "                year, month, day = int(aline[1]), int(aline[2]), int(aline[3])\n",
    "                if day == 0:\n",
    "                    day = 1\n",
    "                if month == 0:\n",
    "                    month = 1\n",
    "                \n",
    "                db_entries.append( (docID, \"{:04d}-{:02d}-{:02d}\".format(year, month, day)) )\n",
    "                \n",
    "    return db_entries\n"
   ]
  },
  {
   "cell_type": "code",
   "execution_count": 7,
   "metadata": {},
   "outputs": [
    {
     "name": "stdout",
     "output_type": "stream",
     "text": [
      "47280\n"
     ]
    }
   ],
   "source": [
    "docSentences = list(set(read_date_file(\"/mnt/extproj/projekte/textmining/pubmed_feb24/\", relDocIDs)))\n",
    "print(len(docSentences))"
   ]
  },
  {
   "cell_type": "code",
   "execution_count": 8,
   "metadata": {},
   "outputs": [
    {
     "name": "stdout",
     "output_type": "stream",
     "text": [
      "55334\n"
     ]
    }
   ],
   "source": [
    "docSentencesPMC = list(set(read_date_file(\"/mnt/extproj/projekte/textmining/pmc_feb24/oa_comm/\", relDocIDs)))\n",
    "print(len(docSentencesPMC))"
   ]
  },
  {
   "cell_type": "code",
   "execution_count": 9,
   "metadata": {},
   "outputs": [],
   "source": [
    "df = spark.createDataFrame(docSentences+docSentencesPMC, [\"doc_id\", \"date\"])"
   ]
  },
  {
   "cell_type": "code",
   "execution_count": 10,
   "metadata": {},
   "outputs": [
    {
     "name": "stdout",
     "output_type": "stream",
     "text": [
      "+--------+----------+\n",
      "|  doc_id|      date|\n",
      "+--------+----------+\n",
      "|35107490|2022-01-31|\n",
      "|32583425|2020-06-24|\n",
      "|28056303|2016-12-08|\n",
      "|33850858|2021-03-01|\n",
      "|24111776|2013-11-22|\n",
      "|37963060|2023-11-14|\n",
      "|25887381|2015-04-17|\n",
      "|25339353|2014-10-22|\n",
      "|36339585|2022-10-19|\n",
      "|26617770|2015-09-01|\n",
      "|33777215|2021-03-18|\n",
      "|37326716|2023-01-01|\n",
      "|26540659|2015-11-01|\n",
      "|37300283|2023-12-01|\n",
      "|35171545|2022-01-01|\n",
      "|32233464|2020-04-01|\n",
      "|35809316|2022-05-22|\n",
      "|36276867|2022-10-14|\n",
      "|28138701|2017-01-24|\n",
      "|31840934|2019-12-16|\n",
      "+--------+----------+\n",
      "only showing top 20 rows\n",
      "\n"
     ]
    }
   ],
   "source": [
    "df.show()"
   ]
  },
  {
   "cell_type": "code",
   "execution_count": 11,
   "metadata": {},
   "outputs": [],
   "source": [
    "df.write.parquet(\"/mnt/extproj/projekte/textmining/mx_feb24/mx_document_pubdates\", mode=\"overwrite\")"
   ]
  },
  {
   "cell_type": "code",
   "execution_count": null,
   "metadata": {},
   "outputs": [],
   "source": []
  }
 ],
 "metadata": {
  "kernelspec": {
   "display_name": "mirexplore",
   "language": "python",
   "name": "python3"
  },
  "language_info": {
   "codemirror_mode": {
    "name": "ipython",
    "version": 3
   },
   "file_extension": ".py",
   "mimetype": "text/x-python",
   "name": "python",
   "nbconvert_exporter": "python",
   "pygments_lexer": "ipython3",
   "version": "3.6.15"
  }
 },
 "nbformat": 4,
 "nbformat_minor": 2
}
