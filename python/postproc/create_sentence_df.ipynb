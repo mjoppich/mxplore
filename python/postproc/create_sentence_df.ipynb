{
 "cells": [
  {
   "cell_type": "code",
   "execution_count": 1,
   "metadata": {},
   "outputs": [],
   "source": [
    "import os\n",
    "os.environ[\"JAVA_HOME\"] = \"/mnt/extproj/projekte/textmining/jdk/openlogic-openjdk-11.0.22+7-linux-x64\"\n",
    "import glob\n",
    "\n",
    "from collections import Counter"
   ]
  },
  {
   "cell_type": "code",
   "execution_count": 2,
   "metadata": {},
   "outputs": [],
   "source": [
    "from collections import defaultdict\n",
    "from pyspark.sql import SparkSession\n",
    "\n",
    "from pyspark.sql.functions import *\n",
    "from pyspark.sql.types import *\n",
    "\n",
    "from pyspark.sql import Window\n"
   ]
  },
  {
   "cell_type": "code",
   "execution_count": 3,
   "metadata": {},
   "outputs": [
    {
     "name": "stdout",
     "output_type": "stream",
     "text": [
      "Creating builder\n"
     ]
    },
    {
     "name": "stderr",
     "output_type": "stream",
     "text": [
      "/mnt/extproj/projekte/bartelt/software/miniconda3/envs/mirexplore/lib/python3.6/site-packages/pyspark/context.py:238: FutureWarning: Python 3.6 support is deprecated in Spark 3.2.\n",
      "  FutureWarning\n"
     ]
    }
   ],
   "source": [
    "if not \"spark\" in globals() or spark is None:\n",
    "    print(\"Creating builder\")\n",
    "    spark = SparkSession.builder.\\\n",
    "            config(\"spark.executor.memory\", \"70g\").\\\n",
    "            config(\"spark.driver.memory\", \"50g\").\\\n",
    "            config(\"spark.memory.offHeap.enabled\",True).\\\n",
    "            config(\"spark.memory.offHeap.size\",\"16g\").\\\n",
    "            config(\"spark.sql.shuffle.partitions\", 300).\\\n",
    "            appName('mirexplore').getOrCreate()\n",
    "    \n",
    "#spark.conf.set(\"spark.executor.memory\", \"70g\")\n",
    "#spark.conf.set(\"spark.driver.memory\", \"50g\")\n",
    "#spark.conf.set(\"spark.memory.offHeap.enabled\",True)\n",
    "#spark.conf.set(\"spark.memory.offHeap.size\",\"16g\")  \n",
    "#spark.conf.set(\"spark.sql.shuffle.partitions\", 300)"
   ]
  },
  {
   "cell_type": "code",
   "execution_count": 4,
   "metadata": {},
   "outputs": [],
   "source": [
    "df_int = spark.read.parquet(\"/mnt/extproj/projekte/textmining/mx_feb24/mx_mirna_gene_consensus_parquet/\")\n",
    "df_int = df_int.withColumn(\"doc_id\", explode(\"evidence_documents\"))"
   ]
  },
  {
   "cell_type": "code",
   "execution_count": 5,
   "metadata": {},
   "outputs": [],
   "source": [
    "relDocIDs = set([x[\"doc_id\"] for x in df_int.select(\"doc_id\").collect()])"
   ]
  },
  {
   "cell_type": "code",
   "execution_count": 6,
   "metadata": {},
   "outputs": [
    {
     "data": {
      "text/plain": [
       "55331"
      ]
     },
     "execution_count": 6,
     "metadata": {},
     "output_type": "execute_result"
    }
   ],
   "source": [
    "len([x for x in relDocIDs if x.startswith(\"PMC\")])"
   ]
  },
  {
   "cell_type": "code",
   "execution_count": 7,
   "metadata": {},
   "outputs": [],
   "source": [
    "def read_sentence_file(inputpath, relevantDocIDs):\n",
    "    db_entries = []\n",
    "    ignoredConcepts = Counter()\n",
    "\n",
    "\n",
    "    for infile in glob.glob(\"{}/*.sent\".format(inputpath)):\n",
    "        with open(infile, \"r\") as fin:\n",
    "            \n",
    "            for iline, line in enumerate(fin):\n",
    "                aline = line.split(\"\\t\")\n",
    "\n",
    "                sentID = aline[0]\n",
    "                docID = sentID.split(\".\")[0]\n",
    "                \n",
    "                if not docID in relevantDocIDs:\n",
    "                    continue\n",
    "                \n",
    "                sentence = aline[1]\n",
    "                \n",
    "                db_entries.append( (docID, sentID, sentence) )\n",
    "                \n",
    "    return db_entries\n"
   ]
  },
  {
   "cell_type": "code",
   "execution_count": 8,
   "metadata": {},
   "outputs": [
    {
     "name": "stdout",
     "output_type": "stream",
     "text": [
      "555266\n"
     ]
    }
   ],
   "source": [
    "docSentences = read_sentence_file(\"/mnt/extproj/projekte/textmining/pubmed_feb24/\", relDocIDs)\n",
    "print(len(docSentences))\n"
   ]
  },
  {
   "cell_type": "code",
   "execution_count": 9,
   "metadata": {},
   "outputs": [
    {
     "name": "stdout",
     "output_type": "stream",
     "text": [
      "12507407\n"
     ]
    }
   ],
   "source": [
    "docSentencesPMC = read_sentence_file(\"/mnt/extproj/projekte/textmining/pmc_feb24/oa_comm/\", relDocIDs)\n",
    "print(len(docSentencesPMC))"
   ]
  },
  {
   "cell_type": "code",
   "execution_count": 10,
   "metadata": {},
   "outputs": [
    {
     "name": "stdout",
     "output_type": "stream",
     "text": [
      "13062673\n"
     ]
    }
   ],
   "source": [
    "print(len(docSentences) + len(docSentencesPMC))"
   ]
  },
  {
   "cell_type": "code",
   "execution_count": 11,
   "metadata": {},
   "outputs": [],
   "source": [
    "df = spark.createDataFrame(docSentences+docSentencesPMC,\n",
    "                           [\"doc_id\", \"sent_id\", \"sentence\"])"
   ]
  },
  {
   "cell_type": "code",
   "execution_count": 12,
   "metadata": {},
   "outputs": [
    {
     "name": "stdout",
     "output_type": "stream",
     "text": [
      "+--------+------------+--------------------+\n",
      "|  doc_id|     sent_id|            sentence|\n",
      "+--------+------------+--------------------+\n",
      "|10760272|10760272.1.1|MIR16, a putative...|\n",
      "|10760272|10760272.2.1|We have identifie...|\n",
      "|10760272|10760272.2.2|MIR16 shares stro...|\n",
      "|10760272|10760272.2.3|It interacts with...|\n",
      "|10760272|10760272.2.4|Analysis of delet...|\n",
      "|10760272|10760272.2.5|MIR16 is an integ...|\n",
      "|10760272|10760272.2.6|MIR16 represents ...|\n",
      "|10760272|10760272.2.7|The putative enzy...|\n",
      "|12576545|12576545.1.1|GDE1/MIR16 is a g...|\n",
      "|12576545|12576545.2.1|Previously we ide...|\n",
      "|12576545|12576545.2.2|Here we show that...|\n",
      "|12576545|12576545.2.3|Analysis of subst...|\n",
      "|12576545|12576545.2.4|The GPI-PDE activ...|\n",
      "|12576545|12576545.2.5|Membrane topology...|\n",
      "|12576545|12576545.2.6|Our results sugge...|\n",
      "|12812784|12812784.1.1|Temporal regulati...|\n",
      "|12812784|12812784.2.1|lin-4 and let-7 a...|\n",
      "|12812784|12812784.2.2|In Caenorhabditis...|\n",
      "|12812784|12812784.2.3|To identify Droso...|\n",
      "|12812784|12812784.2.4|The upregulation ...|\n",
      "+--------+------------+--------------------+\n",
      "only showing top 20 rows\n",
      "\n"
     ]
    }
   ],
   "source": [
    "df.show()"
   ]
  },
  {
   "cell_type": "code",
   "execution_count": 13,
   "metadata": {},
   "outputs": [],
   "source": [
    "df.write.parquet(\"/mnt/extproj/projekte/textmining/mx_feb24/mx_document_sentences\", mode=\"overwrite\")"
   ]
  },
  {
   "cell_type": "code",
   "execution_count": null,
   "metadata": {},
   "outputs": [],
   "source": []
  },
  {
   "cell_type": "code",
   "execution_count": null,
   "metadata": {},
   "outputs": [],
   "source": []
  },
  {
   "cell_type": "code",
   "execution_count": null,
   "metadata": {},
   "outputs": [],
   "source": []
  },
  {
   "cell_type": "code",
   "execution_count": null,
   "metadata": {},
   "outputs": [],
   "source": []
  },
  {
   "cell_type": "code",
   "execution_count": null,
   "metadata": {},
   "outputs": [],
   "source": []
  },
  {
   "cell_type": "code",
   "execution_count": null,
   "metadata": {},
   "outputs": [],
   "source": []
  }
 ],
 "metadata": {
  "kernelspec": {
   "display_name": "mirexplore",
   "language": "python",
   "name": "python3"
  },
  "language_info": {
   "codemirror_mode": {
    "name": "ipython",
    "version": 3
   },
   "file_extension": ".py",
   "mimetype": "text/x-python",
   "name": "python",
   "nbconvert_exporter": "python",
   "pygments_lexer": "ipython3",
   "version": "3.6.15"
  }
 },
 "nbformat": 4,
 "nbformat_minor": 2
}
